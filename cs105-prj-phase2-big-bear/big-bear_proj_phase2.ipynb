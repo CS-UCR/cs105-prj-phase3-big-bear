{
 "cells": [
  {
   "cell_type": "code",
   "execution_count": 1,
   "metadata": {},
   "outputs": [],
   "source": [
    "import numpy as np\n",
    "import pandas as pd\n",
    "import os\n",
    "import glob\n",
    "from pandas.plotting import parallel_coordinates\n",
    "import pandas as pd"
   ]
  },
  {
   "cell_type": "markdown",
   "metadata": {},
   "source": [
    "## By Nikhil Gowda\n",
    "## SID: 861172066"
   ]
  },
  {
   "cell_type": "markdown",
   "metadata": {},
   "source": [
    "## Concatenation of CSVs\n",
    "We see that we have several \".csv\"  files but each file has the same features located in the same location with the same general expected values. Let us concatenate the \".csv\" files so we can apply the same cleaning and exploratory analysis to 1 file"
   ]
  },
  {
   "cell_type": "code",
   "execution_count": 2,
   "metadata": {},
   "outputs": [],
   "source": [
    "extension = 'csv'\n",
    "all_filenames = [i for i in glob.glob('*.{}'.format(extension))]\n",
    "#combine all files in the list\n",
    "combined_csv = pd.concat([pd.read_csv(f) for f in all_filenames ])\n",
    "#export to csv\n",
    "#combined_csv.to_csv( \"profiles_california.csv\", index=False, encoding='utf-8-sig')"
   ]
  },
  {
   "cell_type": "markdown",
   "metadata": {},
   "source": [
    "## Cleaning Data\n",
    "\n",
    "Now we should clean the data. This includes finding which types of values we have to begin with. Let's see which variables represent actual numbers."
   ]
  },
  {
   "cell_type": "code",
   "execution_count": 3,
   "metadata": {},
   "outputs": [
    {
     "name": "stdout",
     "output_type": "stream",
     "text": [
      "       experience_count  education count\n",
      "count        508.000000       508.000000\n",
      "mean           3.053150         1.564961\n",
      "std            2.009624         0.977918\n",
      "min            0.000000         0.000000\n",
      "25%            1.000000         1.000000\n",
      "50%            4.000000         2.000000\n",
      "75%            5.000000         2.000000\n",
      "max            5.000000         3.000000\n"
     ]
    }
   ],
   "source": [
    "df = combined_csv \n",
    "print(df.describe())"
   ]
  },
  {
   "cell_type": "markdown",
   "metadata": {},
   "source": [
    "We see that only the experience count and education count are numbers. Let's see other columns that exist and can actually be converted."
   ]
  },
  {
   "cell_type": "code",
   "execution_count": 4,
   "metadata": {},
   "outputs": [
    {
     "name": "stdout",
     "output_type": "stream",
     "text": [
      "name\n",
      "followers\n",
      "location\n",
      "experience_count\n",
      "education count\n",
      "url\n"
     ]
    }
   ],
   "source": [
    "for col in df.columns:\n",
    "    print(col)"
   ]
  },
  {
   "cell_type": "markdown",
   "metadata": {},
   "source": [
    "It seems like followers can also be useful as a numeric value. Let us transform the value."
   ]
  },
  {
   "cell_type": "code",
   "execution_count": 5,
   "metadata": {},
   "outputs": [],
   "source": [
    "#rename education count -> education_count\n",
    "df.rename(columns = {'education count':'education_count'}, inplace = True) \n",
    "#cleaning data\n",
    "df['followers'] = df['followers'].str.replace('connections' , '')\n",
    "df['followers'] = df['followers'].str.replace('+' , '')\n",
    "df['followers'] = df['followers'].str.replace('People Also Viewed' , '')\n",
    "df['followers'] = pd.to_numeric(df['followers'], errors='coerce')"
   ]
  },
  {
   "cell_type": "code",
   "execution_count": 6,
   "metadata": {},
   "outputs": [
    {
     "name": "stdout",
     "output_type": "stream",
     "text": [
      "<bound method NDFrame.head of 0      500.0\n",
      "1      500.0\n",
      "2       79.0\n",
      "3       27.0\n",
      "4      140.0\n",
      "       ...  \n",
      "96       NaN\n",
      "97       NaN\n",
      "98      86.0\n",
      "99     118.0\n",
      "100      NaN\n",
      "Name: followers, Length: 508, dtype: float64>\n"
     ]
    }
   ],
   "source": [
    "print(df['followers'].head)"
   ]
  },
  {
   "cell_type": "markdown",
   "metadata": {},
   "source": [
    "We see that we actually get a few NaNs that were due to an error in the crawling process, let's count them:"
   ]
  },
  {
   "cell_type": "code",
   "execution_count": 7,
   "metadata": {},
   "outputs": [
    {
     "name": "stdout",
     "output_type": "stream",
     "text": [
      "46\n"
     ]
    }
   ],
   "source": [
    "print(df['followers'].isna().sum())"
   ]
  },
  {
   "cell_type": "markdown",
   "metadata": {},
   "source": [
    "We should make an intelligent replacement for these 'NaN' values. Let's replace it by the average. But we come across a possible problem. We realize this replacement will be the average of the entire list and not a purely city-related endeavour. Let us take the average based on city first. "
   ]
  },
  {
   "cell_type": "code",
   "execution_count": 8,
   "metadata": {},
   "outputs": [
    {
     "name": "stdout",
     "output_type": "stream",
     "text": [
      "San Francisco, California         106\n",
      "Riverside, California             100\n",
      "Los Angeles, California            99\n",
      "San Diego, California              98\n",
      "Irvine, California                 98\n",
      "Orange County, California Area      2\n",
      "Greater San Diego Area              2\n",
      "United States                       1\n",
      "Greater Los Angeles Area            1\n",
      "Name: location, dtype: int64\n"
     ]
    }
   ],
   "source": [
    "#printing value counts of location\n",
    "print(df['location'].value_counts())"
   ]
  },
  {
   "cell_type": "markdown",
   "metadata": {},
   "source": [
    "Interesting! We should probably converge some data points that refer to a similar area such as \"San Diego, California\" and \"Greater San Diego Area\". We should also look into dealing with \"United States\" properly. "
   ]
  },
  {
   "cell_type": "code",
   "execution_count": 9,
   "metadata": {},
   "outputs": [
    {
     "name": "stdout",
     "output_type": "stream",
     "text": [
      "San Francisco, California    107\n",
      "San Diego, California        100\n",
      "Irvine, California           100\n",
      "Riverside, California        100\n",
      "Los Angeles, California      100\n",
      "Name: location, dtype: int64\n"
     ]
    }
   ],
   "source": [
    "#Converging San Diego\n",
    "df['location'] = df['location'].str.replace('Greater San Diego Area', 'San Diego, California')\n",
    "#Converging Irvine\n",
    "df['location'] = df['location'].str.replace('Orange County, California Area', 'Irvine, California')\n",
    "#Converging Los Angeles\n",
    "df['location'] = df['location'].str.replace('Greater Los Angeles Area', 'Los Angeles, California')\n",
    "#Removing United States\n",
    "df['location'] = df['location'].str.replace('United States', 'San Francisco, California')\n",
    "print(df['location'].value_counts())"
   ]
  },
  {
   "cell_type": "code",
   "execution_count": 10,
   "metadata": {},
   "outputs": [
    {
     "name": "stdout",
     "output_type": "stream",
     "text": [
      "Mean Irvine, California education count: 1.752808988764045\n",
      "Mean Irvine, Calfironia experience count: 3.6375\n",
      "Mean Los Angeles, California education count: 2.0344827586206895\n",
      "Mean Los Angeles, Calfironia experience count: 4.270588235294118\n",
      "Mean Riverside, California education count: 1.6538461538461537\n",
      "Mean Riverside, Calfironia experience count: 2.7439024390243905\n",
      "Mean San Diego, California education count: 1.6555555555555554\n",
      "Mean San Diego, Calfironia experience count: 3.3164556962025316\n",
      "Mean San Francisco, California education count: 2.090909090909091\n",
      "Mean San Francisco, Calfironia experience count: 4.606741573033708\n",
      "San Francisco, California    107\n",
      "San Diego, California        100\n",
      "Irvine, California           100\n",
      "Riverside, California        100\n",
      "Los Angeles, California      100\n",
      "Name: location, dtype: int64\n"
     ]
    }
   ],
   "source": [
    "#Fill Irvine\n",
    "education_count_avg = df.loc[(df['education_count'] > 0) & (df['location'] == \"Irvine, California\"), 'education_count'].mean()\n",
    "experience_count_avg = df.loc[(df['experience_count'] > 0) & (df['location'] == \"Irvine, California\"), 'experience_count'].mean()\n",
    "print(\"Mean Irvine, California education count:\" , education_count_avg)\n",
    "print(\"Mean Irvine, Calfironia experience count:\" , experience_count_avg)\n",
    "df.loc[(df['education_count'] == 0) & (df['experience_count'] == 0) & (df['location'] == \"Irvine, California\"),'education_count'] = education_count_avg\n",
    "df.loc[(df['education_count'] == education_count_avg) & (df['experience_count'] == 0) & (df['location'] == \"Irvine, California\"),'experience_count'] = experience_count_avg\n",
    "\n",
    "#Fill Los Angeles\n",
    "education_count_avg = df.loc[(df['education_count'] > 0) & (df['location'] == \"Los Angeles, California\"), 'education_count'].mean()\n",
    "experience_count_avg = df.loc[(df['experience_count'] > 0) & (df['location'] == \"Los Angeles, California\"), 'experience_count'].mean()\n",
    "print(\"Mean Los Angeles, California education count:\" , education_count_avg)\n",
    "print(\"Mean Los Angeles, Calfironia experience count:\" , experience_count_avg)\n",
    "df.loc[(df['education_count'] == 0) & (df['experience_count'] == 0) & (df['location'] == \"Los Angeles, California\"),'education_count'] = education_count_avg\n",
    "df.loc[(df['education_count'] == education_count_avg) & (df['experience_count'] == 0) & (df['location'] == \"Los Angeles, California\"),'experience_count'] = experience_count_avg\n",
    "\n",
    "#Fill Riverside\n",
    "education_count_avg = df.loc[(df['education_count'] > 0) & (df['location'] == \"Riverside, California\"), 'education_count'].mean()\n",
    "experience_count_avg = df.loc[(df['experience_count'] > 0) & (df['location'] == \"Riverside, California\"), 'experience_count'].mean()\n",
    "print(\"Mean Riverside, California education count:\" , education_count_avg)\n",
    "print(\"Mean Riverside, Calfironia experience count:\" , experience_count_avg)\n",
    "df.loc[(df['education_count'] == 0) & (df['experience_count'] == 0) & (df['location'] == \"Riverside, California\"),'education_count'] = education_count_avg\n",
    "df.loc[(df['education_count'] == education_count_avg) & (df['experience_count'] == 0) & (df['location'] == \"Riverside, California\"),'experience_count'] = experience_count_avg\n",
    "\n",
    "#Fill San Diego\n",
    "education_count_avg = df.loc[(df['education_count'] > 0) & (df['location'] == \"San Diego, California\"), 'education_count'].mean()\n",
    "experience_count_avg = df.loc[(df['experience_count'] > 0) & (df['location'] == \"San Diego, California\"), 'experience_count'].mean()\n",
    "print(\"Mean San Diego, California education count:\" , education_count_avg)\n",
    "print(\"Mean San Diego, Calfironia experience count:\" , experience_count_avg)\n",
    "df.loc[(df['education_count'] == 0) & (df['experience_count'] == 0) & (df['location'] == \"San Diego, California\"),'education_count'] = education_count_avg\n",
    "df.loc[(df['education_count'] == education_count_avg) & (df['experience_count'] == 0) & (df['location'] == \"San Diego, California\"),'experience_count'] = experience_count_avg\n",
    "\n",
    "#Fill San Francisco\n",
    "education_count_avg = df.loc[(df['education_count'] > 0) & (df['location'] == \"San Francisco, California\"), 'education_count'].mean()\n",
    "experience_count_avg = df.loc[(df['experience_count'] > 0) & (df['location'] == \"San Francisco, California\"), 'experience_count'].mean()\n",
    "print(\"Mean San Francisco, California education count:\" , education_count_avg)\n",
    "print(\"Mean San Francisco, Calfironia experience count:\" , experience_count_avg)\n",
    "df.loc[(df['education_count'] == 0) & (df['experience_count'] == 0) & (df['location'] == \"San Francisco, California\"),'education_count'] = education_count_avg\n",
    "df.loc[(df['education_count'] == education_count_avg) & (df['experience_count'] == 0) & (df['location'] == \"San Francisco, California\"),'experience_count'] = experience_count_avg\n",
    "\n",
    "print(df['location'].value_counts())"
   ]
  },
  {
   "cell_type": "markdown",
   "metadata": {},
   "source": [
    "Let's do the same for missing followers"
   ]
  },
  {
   "cell_type": "code",
   "execution_count": 11,
   "metadata": {},
   "outputs": [
    {
     "name": "stdout",
     "output_type": "stream",
     "text": [
      "Mean Irvine, California followers count: 182.01098901098902\n",
      "Before null replacement transformation Irvine:  46\n",
      "After null replacement transformation Irvine:  37\n",
      "Mean Los Angeles, California followers count: 379.03092783505156\n",
      "Before null replacement transformation Los Angeles:  37\n",
      "After null replacement transformation Irvine:  34\n",
      "Mean Riverside, California followers count: 121.0375\n",
      "Before null replacement transformation Riverside:  34\n",
      "After null replacement transformation Riverside:  14\n",
      "Mean San Diego, California followers count: 179.0681818181818\n",
      "Before null replacement transformation San Diego:  14\n",
      "After null replacement transformation San Diego:  2\n",
      "Mean San Francisco, California followers count: 469.97169811320754\n",
      "Before null replacement transformation San Francisco:  2\n",
      "After null replacement transformation San Francisco:  1\n"
     ]
    }
   ],
   "source": [
    "#Fill Irvine\n",
    "followers_count_avg = df.loc[(df['followers'] > 0) & (df['location'] == \"Irvine, California\"), 'followers'].mean()\n",
    "print(\"Mean Irvine, California followers count:\" , followers_count_avg)\n",
    "print(\"Before null replacement transformation Irvine: \", df['followers'].isna().sum())\n",
    "df.loc[(df['followers'].isna()) & (df['location'] == \"Irvine, California\"),'followers'] = followers_count_avg\n",
    "print(\"After null replacement transformation Irvine: \", df['followers'].isna().sum())\n",
    "#Fill Los Angeles\n",
    "followers_count_avg = df.loc[(df['followers'] > 0) & (df['location'] == \"Los Angeles, California\"), 'followers'].mean()\n",
    "print(\"Mean Los Angeles, California followers count:\" , followers_count_avg)\n",
    "print(\"Before null replacement transformation Los Angeles: \", df['followers'].isna().sum())\n",
    "df.loc[(df['followers'].isna()) & (df['location'] == \"Los Angeles, California\"),'followers'] = followers_count_avg\n",
    "print(\"After null replacement transformation Irvine: \", df['followers'].isna().sum())\n",
    "#Fill Riverside\n",
    "followers_count_avg = df.loc[(df['followers'] > 0) & (df['location'] == \"Riverside, California\"), 'followers'].mean()\n",
    "print(\"Mean Riverside, California followers count:\" , followers_count_avg)\n",
    "print(\"Before null replacement transformation Riverside: \", df['followers'].isna().sum())\n",
    "df.loc[(df['followers'].isna()) & (df['location'] == \"Riverside, California\"),'followers'] = followers_count_avg\n",
    "print(\"After null replacement transformation Riverside: \", df['followers'].isna().sum())\n",
    "#Fill San Diego\n",
    "followers_count_avg = df.loc[(df['followers'] > 0) & (df['location'] == \"San Diego, California\"), 'followers'].mean()\n",
    "print(\"Mean San Diego, California followers count:\" , followers_count_avg)\n",
    "print(\"Before null replacement transformation San Diego: \", df['followers'].isna().sum())\n",
    "df.loc[(df['followers'].isna()) & (df['location'] == \"San Diego, California\"),'followers'] = followers_count_avg\n",
    "print(\"After null replacement transformation San Diego: \", df['followers'].isna().sum())\n",
    "#Fill San Francisco\n",
    "followers_count_avg = df.loc[(df['followers'] > 0) & (df['location'] == \"San Francisco, California\"), 'followers'].mean()\n",
    "print(\"Mean San Francisco, California followers count:\" , followers_count_avg)\n",
    "print(\"Before null replacement transformation San Francisco: \", df['followers'].isna().sum())\n",
    "df.loc[(df['followers'].isna()) & (df['location'] == \"San Francisco, California\"),'followers'] = followers_count_avg\n",
    "print(\"After null replacement transformation San Francisco: \", df['followers'].isna().sum())\n",
    "\n",
    "#printing to dataframe\n",
    "df.to_csv('profiles_california.csv', index = False, encoding='utf-8-sig')"
   ]
  },
  {
   "cell_type": "markdown",
   "metadata": {},
   "source": [
    "## Exploration\n",
    "\n",
    "Now let us explore our data with a visual focus. Let us first compare the different average connections"
   ]
  },
  {
   "cell_type": "code",
   "execution_count": 85,
   "metadata": {},
   "outputs": [
    {
     "data": {
      "text/plain": [
       "<matplotlib.axes._subplots.AxesSubplot at 0x7f71743f4c88>"
      ]
     },
     "execution_count": 85,
     "metadata": {},
     "output_type": "execute_result"
    },
    {
     "data": {
      "image/png": "[encoded data removed]",
      "text/plain": [
       "<Figure size 432x288 with 1 Axes>"
      ]
     },
     "metadata": {
      "needs_background": "light"
     },
     "output_type": "display_data"
    }
   ],
   "source": [
    "#df_experience_means = df.groupby(['location','experience_count'])['education_count'].mean()\n",
    "#df_experience_means.plot.pie()\n",
    "df = df.set_index('location')\n",
    "irvine_mean = df.loc['Irvine, California'].followers.mean()\n",
    "los_angeles_mean = df.loc['Los Angeles, California'].followers.mean()\n",
    "riverside_mean = df.loc['Riverside, California'].followers.mean()\n",
    "san_diego_mean = df.loc['San Diego, California'].followers.mean()\n",
    "san_francisco_mean = df.loc['San Francisco, California'].followers.mean()\n",
    "\n",
    "# simple array \n",
    "data = np.array([irvine_mean, los_angeles_mean, riverside_mean, san_diego_mean, san_francisco_mean]) \n",
    "  \n",
    "# providing an index \n",
    "ser1 = pd.Series(data, index =['Irvine', 'Los Angeles', 'Riverside', 'San Diego', 'San Francisco']) \n",
    "ser1.plot.bar(title = 'Bar Graph for Follower Count')"
   ]
  },
  {
   "cell_type": "code",
   "execution_count": 86,
   "metadata": {},
   "outputs": [
    {
     "data": {
      "text/plain": [
       "<matplotlib.axes._subplots.AxesSubplot at 0x7f717441c9e8>"
      ]
     },
     "execution_count": 86,
     "metadata": {},
     "output_type": "execute_result"
    },
    {
     "data": {
      "image/png": "[encoded data removed]",
      "text/plain": [
       "<Figure size 432x288 with 1 Axes>"
      ]
     },
     "metadata": {
      "needs_background": "light"
     },
     "output_type": "display_data"
    }
   ],
   "source": [
    "ser1.plot.hist(bins = 10, title = 'Histogram for Follower Count')"
   ]
  },
  {
   "cell_type": "markdown",
   "metadata": {},
   "source": [
    "What have we learned so far? It is important to note the max values for connections is 500 due to lack of specific followers past 500. But for number of connections, we notice that San Francisco people and Los Angeles people have a much higher average number of connections than Riverside. But high connection count is not as common as having less than 200 connections. We see a bimodal type of distribution where 200-350 followers are substantially decreased. "
   ]
  },
  {
   "cell_type": "markdown",
   "metadata": {},
   "source": [
    "Let us now do it for education count"
   ]
  },
  {
   "cell_type": "code",
   "execution_count": 87,
   "metadata": {},
   "outputs": [
    {
     "data": {
      "text/plain": [
       "<matplotlib.axes._subplots.AxesSubplot at 0x7f71719a2f60>"
      ]
     },
     "execution_count": 87,
     "metadata": {},
     "output_type": "execute_result"
    },
    {
     "data": {
      "image/png": "[encoded data removed]",
      "text/plain": [
       "<Figure size 432x288 with 1 Axes>"
      ]
     },
     "metadata": {
      "needs_background": "light"
     },
     "output_type": "display_data"
    }
   ],
   "source": [
    "irvine_mean = df.loc['Irvine, California'].education_count.mean()\n",
    "los_angeles_mean = df.loc['Los Angeles, California'].education_count.mean()\n",
    "riverside_mean = df.loc['Riverside, California'].education_count.mean()\n",
    "san_diego_mean = df.loc['San Diego, California'].education_count.mean()\n",
    "san_francisco_mean = df.loc['San Francisco, California'].education_count.mean()\n",
    "\n",
    "# simple array \n",
    "data = np.array([irvine_mean, los_angeles_mean, riverside_mean, san_diego_mean, san_francisco_mean]) \n",
    "  \n",
    "# providing an index \n",
    "ser2 = pd.Series(data, index =['Irvine', 'Los Angeles', 'Riverside', 'San Diego', 'San Francisco']) \n",
    "ser2.plot.bar()\n",
    "\n"
   ]
  },
  {
   "cell_type": "code",
   "execution_count": 88,
   "metadata": {},
   "outputs": [
    {
     "data": {
      "text/plain": [
       "<matplotlib.axes._subplots.AxesSubplot at 0x7f7171984080>"
      ]
     },
     "execution_count": 88,
     "metadata": {},
     "output_type": "execute_result"
    },
    {
     "data": {
      "image/png": "[encoded data removed]",
      "text/plain": [
       "<Figure size 432x288 with 1 Axes>"
      ]
     },
     "metadata": {
      "needs_background": "light"
     },
     "output_type": "display_data"
    }
   ],
   "source": [
    "ser2.plot.box()"
   ]
  },
  {
   "cell_type": "markdown",
   "metadata": {},
   "source": [
    "We notice that San Francisco and Los Angeles again have the most education counts on average with Riverside being the lowest. We should also consider population. We know that Los Angles has an extremely large number of people and Google's page rank algorithm may have slightly divergent influence from the average person hence we are bound to see a higher number of connections/education count of LinkedIn users based purely on population probability. Other than this we can see a slight left skew of education count being towards 2 rather than 1. "
   ]
  },
  {
   "cell_type": "markdown",
   "metadata": {},
   "source": [
    "Let us now do experience count"
   ]
  },
  {
   "cell_type": "code",
   "execution_count": 89,
   "metadata": {},
   "outputs": [
    {
     "data": {
      "text/plain": [
       "<matplotlib.axes._subplots.AxesSubplot at 0x7f71718f28d0>"
      ]
     },
     "execution_count": 89,
     "metadata": {},
     "output_type": "execute_result"
    },
    {
     "data": {
      "image/png": "[encoded data removed]",
      "text/plain": [
       "<Figure size 432x288 with 1 Axes>"
      ]
     },
     "metadata": {
      "needs_background": "light"
     },
     "output_type": "display_data"
    }
   ],
   "source": [
    "irvine_mean = df.loc['Irvine, California'].experience_count.mean()\n",
    "los_angeles_mean = df.loc['Los Angeles, California'].experience_count.mean()\n",
    "riverside_mean = df.loc['Riverside, California'].experience_count.mean()\n",
    "san_diego_mean = df.loc['San Diego, California'].experience_count.mean()\n",
    "san_francisco_mean = df.loc['San Francisco, California'].experience_count.mean()\n",
    "\n",
    "# simple array \n",
    "data = np.array([irvine_mean, los_angeles_mean, riverside_mean, san_diego_mean, san_francisco_mean]) \n",
    "  \n",
    "# providing an index \n",
    "ser3 = pd.Series(data, index =['Irvine', 'Los Angeles', 'Riverside', 'San Diego', 'San Francisco']) \n",
    "ser3.plot.bar()"
   ]
  },
  {
   "cell_type": "markdown",
   "metadata": {},
   "source": [
    "Here we have nearly an identical breakdown with education count. To mark the distinction let us try and create a scatter plot. Though it may be somewhat weird since we are dealing mainly with whole integers. "
   ]
  },
  {
   "cell_type": "code",
   "execution_count": 90,
   "metadata": {},
   "outputs": [
    {
     "data": {
      "text/plain": [
       "<matplotlib.axes._subplots.AxesSubplot at 0x7f7171848438>"
      ]
     },
     "execution_count": 90,
     "metadata": {},
     "output_type": "execute_result"
    },
    {
     "data": {
      "image/png": "[encoded data removed]",
      "text/plain": [
       "<Figure size 432x288 with 1 Axes>"
      ]
     },
     "metadata": {
      "needs_background": "light"
     },
     "output_type": "display_data"
    }
   ],
   "source": [
    "df.plot.scatter(x='education_count', y = 'experience_count')"
   ]
  },
  {
   "cell_type": "markdown",
   "metadata": {},
   "source": [
    "We see uniformity except with regards to 1.5-2.0 range. Remember that 1.5 (actually slightly bigger) only exists because this is the mean of our education counts for a given city. So, if we focus on that important region, we can see that at least for a small subset of the data, as education count increases, so does experience_count. Especially in the case where there is 3 educations listed, there is at least 1 experience. Now let us see what we can scatterplot with followers. "
   ]
  },
  {
   "cell_type": "code",
   "execution_count": 91,
   "metadata": {},
   "outputs": [
    {
     "data": {
      "text/plain": [
       "<matplotlib.axes._subplots.AxesSubplot at 0x7f717178ff28>"
      ]
     },
     "execution_count": 91,
     "metadata": {},
     "output_type": "execute_result"
    },
    {
     "data": {
      "image/png": "[encoded data removed]",
      "text/plain": [
       "<Figure size 432x288 with 1 Axes>"
      ]
     },
     "metadata": {
      "needs_background": "light"
     },
     "output_type": "display_data"
    },
    {
     "data": {
      "image/png": "[encoded data removed]",
      "text/plain": [
       "<Figure size 432x288 with 1 Axes>"
      ]
     },
     "metadata": {
      "needs_background": "light"
     },
     "output_type": "display_data"
    }
   ],
   "source": [
    "df.plot.scatter(x='followers', y = 'experience_count')\n",
    "df.plot.scatter(x='followers', y = 'education_count')"
   ]
  },
  {
   "cell_type": "markdown",
   "metadata": {},
   "source": [
    "As followers increase, for the first plot, we notice that experience count converges (with some outliers) to higher numbers. We also notice the largest data density is with less than 100 followers and still we have very high experience count. \n",
    "\n",
    "For the second plot, we see a similar convergence but instead notice that a low number of followers does not show a high number of education counts. In this sense, we may actually want to rely more on education_count in Phase 3 if we notice that it is more influential to follower count. "
   ]
  },
  {
   "cell_type": "markdown",
   "metadata": {},
   "source": [
    "## Exploration Part 2\n",
    "\n",
    "Now let us try and compare unemployment rate with a these features. For convenience sake, let's get the average unemployment rate of each given city of the months listed. Value shows the average unemployment rate and year will be 2018 due to data from 2017-2019. "
   ]
  },
  {
   "cell_type": "code",
   "execution_count": 92,
   "metadata": {},
   "outputs": [],
   "source": [
    "os.chdir('unemployment_rates') \n",
    "u_irvine = pd.read_csv('unemployment_irvine.csv')\n",
    "irvine_mean = u_irvine.mean()"
   ]
  },
  {
   "cell_type": "code",
   "execution_count": 93,
   "metadata": {},
   "outputs": [
    {
     "name": "stdout",
     "output_type": "stream",
     "text": [
      "Year     2018.000000\n",
      "Value       2.938889\n",
      "dtype: float64\n"
     ]
    }
   ],
   "source": [
    "print(irvine_mean)"
   ]
  },
  {
   "cell_type": "code",
   "execution_count": 94,
   "metadata": {},
   "outputs": [
    {
     "name": "stdout",
     "output_type": "stream",
     "text": [
      "Year     2018.000000\n",
      "Value       4.622222\n",
      "dtype: float64\n"
     ]
    }
   ],
   "source": [
    "u_los_angeles = pd.read_csv('unemployment_los_angeles.csv')\n",
    "los_angeles_mean = u_los_angeles.mean()\n",
    "print(los_angeles_mean)"
   ]
  },
  {
   "cell_type": "code",
   "execution_count": 95,
   "metadata": {},
   "outputs": [
    {
     "name": "stdout",
     "output_type": "stream",
     "text": [
      "Year     2018.000000\n",
      "Value       4.608333\n",
      "dtype: float64\n"
     ]
    }
   ],
   "source": [
    "u_riverside = pd.read_csv('unemployment_riverside.csv')\n",
    "riverside_mean = u_riverside.mean()\n",
    "print(riverside_mean)"
   ]
  },
  {
   "cell_type": "code",
   "execution_count": 96,
   "metadata": {},
   "outputs": [
    {
     "name": "stdout",
     "output_type": "stream",
     "text": [
      "Year     2018.0\n",
      "Value       3.5\n",
      "dtype: float64\n"
     ]
    }
   ],
   "source": [
    "u_san_diego = pd.read_csv('unemployment_san_diego.csv')\n",
    "san_diego_mean = u_san_diego.mean()\n",
    "print(san_diego_mean)"
   ]
  },
  {
   "cell_type": "code",
   "execution_count": 97,
   "metadata": {},
   "outputs": [
    {
     "name": "stdout",
     "output_type": "stream",
     "text": [
      "Year     2018.000000\n",
      "Value       2.494444\n",
      "dtype: float64\n"
     ]
    }
   ],
   "source": [
    "u_san_francisco = pd.read_csv('unemployment_san_francisco.csv')\n",
    "san_francisco_mean = u_san_francisco.mean()\n",
    "print(san_francisco_mean)"
   ]
  },
  {
   "cell_type": "code",
   "execution_count": 98,
   "metadata": {},
   "outputs": [
    {
     "data": {
      "text/plain": [
       "<matplotlib.axes._subplots.AxesSubplot at 0x7f71717fa198>"
      ]
     },
     "execution_count": 98,
     "metadata": {},
     "output_type": "execute_result"
    },
    {
     "data": {
      "image/png": "[encoded data removed]",
      "text/plain": [
       "<Figure size 504x504 with 1 Axes>"
      ]
     },
     "metadata": {},
     "output_type": "display_data"
    }
   ],
   "source": [
    "data = np.array([irvine_mean.Value, los_angeles_mean.Value, riverside_mean.Value, san_diego_mean.Value, san_francisco_mean.Value]) \n",
    "\n",
    "ser4 = pd.Series(data, index =['Irvine', 'Los Angeles', 'Riverside', 'San Diego', 'San Francisco']) \n",
    "ser4.plot.pie(figsize = (7,7), title = 'Unemployment Rate')"
   ]
  },
  {
   "cell_type": "markdown",
   "metadata": {},
   "source": [
    "We see that Los Angeles and Riverside have the highest unemployment rates. From our earlier analysis we can possibly conclude that in the case of Riverside at least, a lack of connection counts, education counts, and experience counts may indicative of how healthy the employment rate is in that given city. \n",
    "\n",
    "Let's take a nice look at exactly the different cities and their unemployment rates throughout the years. "
   ]
  },
  {
   "cell_type": "code",
   "execution_count": 99,
   "metadata": {},
   "outputs": [
    {
     "data": {
      "text/plain": [
       "<matplotlib.axes._subplots.AxesSubplot at 0x7f71717342b0>"
      ]
     },
     "execution_count": 99,
     "metadata": {},
     "output_type": "execute_result"
    },
    {
     "data": {
      "image/png": "[encoded data removed]",
      "text/plain": [
       "<Figure size 432x288 with 1 Axes>"
      ]
     },
     "metadata": {
      "needs_background": "light"
     },
     "output_type": "display_data"
    }
   ],
   "source": [
    "df2 = pd.DataFrame([[\"Irvine\", u_irvine.loc[u_irvine['Year'] == 2017].mean().Value, u_irvine.loc[u_irvine['Year'] == 2018].mean().Value, u_irvine.loc[u_irvine['Year'] == 2019].mean().Value],\\\n",
    "    [\"Los Angeles\", u_los_angeles.loc[u_los_angeles['Year'] == 2017].mean().Value, u_los_angeles.loc[u_los_angeles['Year'] == 2018].mean().Value,  u_los_angeles.loc[u_los_angeles['Year'] == 2019].mean().Value],\\\n",
    "    [\"Riverside\", u_riverside.loc[u_riverside['Year'] == 2017].mean().Value, u_riverside.loc[u_riverside['Year'] == 2018].mean().Value, u_riverside.loc[u_riverside['Year'] == 2019].mean().Value],\\\n",
    "    [\"San Diego\", u_san_diego.loc[u_san_diego['Year'] == 2017].mean().Value,  u_san_diego.loc[u_san_diego['Year'] == 2018].mean().Value,  u_san_diego.loc[u_san_diego['Year'] == 2019].mean().Value],\\\n",
    "    [\"San Francisco\", u_san_francisco.loc[u_san_francisco['Year'] == 2017].mean().Value, u_san_francisco.loc[u_san_francisco['Year'] == 2018].mean().Value, u_san_francisco.loc[u_san_francisco['Year'] == 2019].mean().Value]],\\\n",
    "    columns=[\"cities\",\"First Year\",\"Second Year\",\"Third Year\"])\n",
    "parallel_coordinates(df2, class_column='cities', cols=['First Year', 'Second Year', 'Third Year'])"
   ]
  },
  {
   "cell_type": "markdown",
   "metadata": {},
   "source": [
    "We see that, as exception to Los Angeles, the unemployment rate has been decreasing at a significant magnitude. Los Angeles though seems troublesome though with Riverside showing a steeper negative slope of unemplyment rate. We realize that San Francisco still kept a significant negative slope despite starting with the lowest unemployment rate also. Los Angeles as a city feature will be an interesting analysis opportunity in Phase 3. "
   ]
  },
  {
   "cell_type": "code",
   "execution_count": 100,
   "metadata": {},
   "outputs": [
    {
     "data": {
      "text/plain": [
       "<matplotlib.axes._subplots.AxesSubplot at 0x7f71716b9400>"
      ]
     },
     "execution_count": 100,
     "metadata": {},
     "output_type": "execute_result"
    },
    {
     "data": {
      "image/png": "[encoded data removed]",
      "text/plain": [
       "<Figure size 504x504 with 1 Axes>"
      ]
     },
     "metadata": {
      "needs_background": "light"
     },
     "output_type": "display_data"
    }
   ],
   "source": [
    "ax = np.log(ser1).plot.bar(figsize = (7,7), alpha = 0.5)\n",
    "ser4.plot.bar(ax=ax, color = 'red', alpha = 0.5, title = 'Logged Connection vs Unemployment Rate')"
   ]
  },
  {
   "cell_type": "markdown",
   "metadata": {},
   "source": [
    "From this graph we can see an interesting connection between unemployment rate and connection count. It seems higher connections may be linked to a lower unemployment rate. "
   ]
  },
  {
   "cell_type": "code",
   "execution_count": 101,
   "metadata": {},
   "outputs": [
    {
     "data": {
      "text/plain": [
       "<matplotlib.axes._subplots.AxesSubplot at 0x7f717161e320>"
      ]
     },
     "execution_count": 101,
     "metadata": {},
     "output_type": "execute_result"
    },
    {
     "data": {
      "image/png": "[encoded data removed]",
      "text/plain": [
       "<Figure size 504x504 with 1 Axes>"
      ]
     },
     "metadata": {
      "needs_background": "light"
     },
     "output_type": "display_data"
    }
   ],
   "source": [
    "ax = np.log(ser2).plot.bar(figsize = (7,7), color = 'green', alpha = 0.5)\n",
    "ser4.plot.bar(ax=ax, color = 'red', alpha = 0.5, title = 'Education Count vs Unemployment Rate')"
   ]
  },
  {
   "cell_type": "markdown",
   "metadata": {},
   "source": [
    "We see that there seems to be another possible connection between education count and unemployment rate especially in the case of San Francisco and Riverside. "
   ]
  },
  {
   "cell_type": "code",
   "execution_count": 102,
   "metadata": {},
   "outputs": [
    {
     "data": {
      "text/plain": [
       "<matplotlib.axes._subplots.AxesSubplot at 0x7f7171584ef0>"
      ]
     },
     "execution_count": 102,
     "metadata": {},
     "output_type": "execute_result"
    },
    {
     "data": {
      "image/png": "[encoded data removed]",
      "text/plain": [
       "<Figure size 504x504 with 1 Axes>"
      ]
     },
     "metadata": {
      "needs_background": "light"
     },
     "output_type": "display_data"
    }
   ],
   "source": [
    "ax = np.log(ser3).plot.bar(figsize = (7,7), alpha = 0.5)\n",
    "ser4.plot.bar(ax=ax, color = 'red', alpha = 0.5, title = 'Experience Count vs Unemployment Rate')"
   ]
  },
  {
   "cell_type": "markdown",
   "metadata": {},
   "source": [
    "We finally see how experience count can also be possibly connected. We see San Francisco's high average experience may correlate to the lower unemployment rate in San Francisco. Riverside's low experience count may correlate to it's high unemployment rate. "
   ]
  }
 ],
 "metadata": {
  "kernelspec": {
   "display_name": "Python 3",
   "language": "python",
   "name": "python3"
  },
  "language_info": {
   "codemirror_mode": {
    "name": "ipython",
    "version": 3
   },
   "file_extension": ".py",
   "mimetype": "text/x-python",
   "name": "python",
   "nbconvert_exporter": "python",
   "pygments_lexer": "ipython3",
   "version": "3.6.8"
  }
 },
 "nbformat": 4,
 "nbformat_minor": 4
}
