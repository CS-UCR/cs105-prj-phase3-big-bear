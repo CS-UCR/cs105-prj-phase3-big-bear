{
 "cells": [
  {
   "cell_type": "markdown",
   "metadata": {},
   "source": [
    "## Nikhil Gowda\n",
    "### 861172066\n",
    "\n",
    "# Welcome to Phase 3:\n",
    "## Where we take our data and find useful conclusions\n",
    "\n",
    "### I define my hypotheses first as:\n",
    "### 1. Can we classify, through a neural network and catboost, a specific person's city's uneployment rate given a random profile statistic (Riverside/Los Angeles vs Irvine/San Francisco)?\n",
    "### 2. Can we rely on Page Rank (our scraping method) and linear regression/regression trees to predict average unemployment rate of a given city?"
   ]
  },
  {
   "cell_type": "markdown",
   "metadata": {},
   "source": [
    "First let's figure out how to instantiate our machine learning problem. Let's append our data on unemployment rates as a column to our dataframe. This is a multi-level process that involves associating the right unemployment rate to the correct city. "
   ]
  },
  {
   "cell_type": "code",
   "execution_count": 85,
   "metadata": {},
   "outputs": [
    {
     "data": {
      "text/html": [
       "<div>\n",
       "<style scoped>\n",
       "    .dataframe tbody tr th:only-of-type {\n",
       "        vertical-align: middle;\n",
       "    }\n",
       "\n",
       "    .dataframe tbody tr th {\n",
       "        vertical-align: top;\n",
       "    }\n",
       "\n",
       "    .dataframe thead th {\n",
       "        text-align: right;\n",
       "    }\n",
       "</style>\n",
       "<table border=\"1\" class=\"dataframe\">\n",
       "  <thead>\n",
       "    <tr style=\"text-align: right;\">\n",
       "      <th></th>\n",
       "      <th>name</th>\n",
       "      <th>followers</th>\n",
       "      <th>location</th>\n",
       "      <th>experience_count</th>\n",
       "      <th>education_count</th>\n",
       "      <th>url</th>\n",
       "    </tr>\n",
       "  </thead>\n",
       "  <tbody>\n",
       "    <tr>\n",
       "      <th>0</th>\n",
       "      <td>Mark East</td>\n",
       "      <td>500.0000</td>\n",
       "      <td>San Diego, California</td>\n",
       "      <td>5.000000</td>\n",
       "      <td>2.000000</td>\n",
       "      <td>https://www.linkedin.com/in/meast1</td>\n",
       "    </tr>\n",
       "    <tr>\n",
       "      <th>1</th>\n",
       "      <td>John Gibson</td>\n",
       "      <td>500.0000</td>\n",
       "      <td>San Diego, California</td>\n",
       "      <td>3.316456</td>\n",
       "      <td>1.655556</td>\n",
       "      <td>https://www.linkedin.com/in/johngibsonjr</td>\n",
       "    </tr>\n",
       "    <tr>\n",
       "      <th>2</th>\n",
       "      <td>Ruiqi Zhou</td>\n",
       "      <td>79.0000</td>\n",
       "      <td>San Diego, California</td>\n",
       "      <td>5.000000</td>\n",
       "      <td>1.000000</td>\n",
       "      <td>https://www.linkedin.com/in/ruiqiz</td>\n",
       "    </tr>\n",
       "    <tr>\n",
       "      <th>3</th>\n",
       "      <td>Marcella Reyes</td>\n",
       "      <td>27.0000</td>\n",
       "      <td>San Diego, California</td>\n",
       "      <td>5.000000</td>\n",
       "      <td>2.000000</td>\n",
       "      <td>https://www.linkedin.com/in/mareyes89</td>\n",
       "    </tr>\n",
       "    <tr>\n",
       "      <th>4</th>\n",
       "      <td>Murray Warren</td>\n",
       "      <td>140.0000</td>\n",
       "      <td>San Diego, California</td>\n",
       "      <td>3.000000</td>\n",
       "      <td>2.000000</td>\n",
       "      <td>https://www.linkedin.com/in/murray-warren-9567...</td>\n",
       "    </tr>\n",
       "    <tr>\n",
       "      <th>...</th>\n",
       "      <td>...</td>\n",
       "      <td>...</td>\n",
       "      <td>...</td>\n",
       "      <td>...</td>\n",
       "      <td>...</td>\n",
       "      <td>...</td>\n",
       "    </tr>\n",
       "    <tr>\n",
       "      <th>503</th>\n",
       "      <td>Zoe Holeman</td>\n",
       "      <td>121.0375</td>\n",
       "      <td>Riverside, California</td>\n",
       "      <td>0.000000</td>\n",
       "      <td>1.000000</td>\n",
       "      <td>https://www.linkedin.com/in/zoe-holeman-717988139</td>\n",
       "    </tr>\n",
       "    <tr>\n",
       "      <th>504</th>\n",
       "      <td>Yun Ou</td>\n",
       "      <td>121.0375</td>\n",
       "      <td>Riverside, California</td>\n",
       "      <td>0.000000</td>\n",
       "      <td>1.000000</td>\n",
       "      <td>https://www.linkedin.com/in/yun-ou-479b37153</td>\n",
       "    </tr>\n",
       "    <tr>\n",
       "      <th>505</th>\n",
       "      <td>Daniel Scott</td>\n",
       "      <td>86.0000</td>\n",
       "      <td>Riverside, California</td>\n",
       "      <td>5.000000</td>\n",
       "      <td>1.000000</td>\n",
       "      <td>https://www.linkedin.com/in/daniel-scott-69230a35</td>\n",
       "    </tr>\n",
       "    <tr>\n",
       "      <th>506</th>\n",
       "      <td>Tammy Evans</td>\n",
       "      <td>118.0000</td>\n",
       "      <td>Riverside, California</td>\n",
       "      <td>1.000000</td>\n",
       "      <td>1.000000</td>\n",
       "      <td>https://www.linkedin.com/in/tammy-evans-53806b80</td>\n",
       "    </tr>\n",
       "    <tr>\n",
       "      <th>507</th>\n",
       "      <td>Sarah Hasheem</td>\n",
       "      <td>121.0375</td>\n",
       "      <td>Riverside, California</td>\n",
       "      <td>0.000000</td>\n",
       "      <td>1.000000</td>\n",
       "      <td>https://www.linkedin.com/in/sarah-hasheem-79ab...</td>\n",
       "    </tr>\n",
       "  </tbody>\n",
       "</table>\n",
       "<p>508 rows × 6 columns</p>\n",
       "</div>"
      ],
      "text/plain": [
       "               name  followers               location  experience_count  \\\n",
       "0         Mark East   500.0000  San Diego, California          5.000000   \n",
       "1       John Gibson   500.0000  San Diego, California          3.316456   \n",
       "2        Ruiqi Zhou    79.0000  San Diego, California          5.000000   \n",
       "3    Marcella Reyes    27.0000  San Diego, California          5.000000   \n",
       "4     Murray Warren   140.0000  San Diego, California          3.000000   \n",
       "..              ...        ...                    ...               ...   \n",
       "503     Zoe Holeman   121.0375  Riverside, California          0.000000   \n",
       "504          Yun Ou   121.0375  Riverside, California          0.000000   \n",
       "505    Daniel Scott    86.0000  Riverside, California          5.000000   \n",
       "506     Tammy Evans   118.0000  Riverside, California          1.000000   \n",
       "507   Sarah Hasheem   121.0375  Riverside, California          0.000000   \n",
       "\n",
       "     education_count                                                url  \n",
       "0           2.000000                 https://www.linkedin.com/in/meast1  \n",
       "1           1.655556           https://www.linkedin.com/in/johngibsonjr  \n",
       "2           1.000000                 https://www.linkedin.com/in/ruiqiz  \n",
       "3           2.000000              https://www.linkedin.com/in/mareyes89  \n",
       "4           2.000000  https://www.linkedin.com/in/murray-warren-9567...  \n",
       "..               ...                                                ...  \n",
       "503         1.000000  https://www.linkedin.com/in/zoe-holeman-717988139  \n",
       "504         1.000000       https://www.linkedin.com/in/yun-ou-479b37153  \n",
       "505         1.000000  https://www.linkedin.com/in/daniel-scott-69230a35  \n",
       "506         1.000000   https://www.linkedin.com/in/tammy-evans-53806b80  \n",
       "507         1.000000  https://www.linkedin.com/in/sarah-hasheem-79ab...  \n",
       "\n",
       "[508 rows x 6 columns]"
      ]
     },
     "execution_count": 85,
     "metadata": {},
     "output_type": "execute_result"
    }
   ],
   "source": [
    "import pandas as pd\n",
    "\n",
    "df = pd.read_csv('profiles_california.csv')\n",
    "df_irvine_UR = pd.read_csv('unemployment_irvine.csv')\n",
    "df_los_angeles_UR = pd.read_csv('unemployment_los_angeles.csv')\n",
    "df_riverside_UR = pd.read_csv('unemployment_riverside.csv')\n",
    "df_san_diego_UR = pd.read_csv('unemployment_san_diego.csv')\n",
    "df_san_francisco_UR = pd.read_csv('unemployment_san_francisco.csv')\n",
    "df"
   ]
  },
  {
   "cell_type": "code",
   "execution_count": 86,
   "metadata": {},
   "outputs": [
    {
     "name": "stdout",
     "output_type": "stream",
     "text": [
      "Irvine unemployment avg:  2.683333333333333\n",
      "Los Angeles unemployment avg:  4.441666666666667\n",
      "Riverside unemployment avg:  4.2\n",
      "San Diego unemployment avg:  3.183333333333333\n",
      "San Francisco unemployment avg:  2.1916666666666664\n"
     ]
    }
   ],
   "source": [
    "\n",
    "df['unemployment_rate_2017'] = 0\n",
    "df['unemployment_rate_2018'] = 0\n",
    "df['unemployment_rate_2019'] = 0\n",
    "#setting unemployment for Irvine\n",
    "unemployment_2017_avg = df_irvine_UR.loc[(df_irvine_UR['Year'] == 2017), 'Value'].mean()\n",
    "df.loc[(df['location'] == 'Irvine, California'), 'unemployment_rate_2017'] = unemployment_2017_avg\n",
    "unemployment_2018_avg = df_irvine_UR.loc[(df_irvine_UR['Year'] == 2018), 'Value'].mean()\n",
    "df.loc[(df['location'] == 'Irvine, California'), 'unemployment_rate_2018'] = unemployment_2018_avg\n",
    "unemployment_2019_avg = df_irvine_UR.loc[(df_irvine_UR['Year'] == 2019), 'Value'].mean()\n",
    "df.loc[(df['location'] == 'Irvine, California'), 'unemployment_rate_2019'] = unemployment_2019_avg\n",
    "print(\"Irvine unemployment avg: \", unemployment_2019_avg)\n",
    "#setting unemployment for Los Angeles\n",
    "unemployment_2017_avg = df_los_angeles_UR.loc[(df_los_angeles_UR['Year'] == 2017), 'Value'].mean()\n",
    "df.loc[(df['location'] == 'Los Angeles, California'), 'unemployment_rate_2017'] = unemployment_2017_avg\n",
    "unemployment_2018_avg = df_los_angeles_UR.loc[(df_los_angeles_UR['Year'] == 2018), 'Value'].mean()\n",
    "df.loc[(df['location'] == 'Los Angeles, California'), 'unemployment_rate_2018'] = unemployment_2018_avg\n",
    "unemployment_2019_avg = df_los_angeles_UR.loc[(df_los_angeles_UR['Year'] == 2019), 'Value'].mean()\n",
    "df.loc[(df['location'] == 'Los Angeles, California'), 'unemployment_rate_2019'] = unemployment_2019_avg\n",
    "print(\"Los Angeles unemployment avg: \", unemployment_2019_avg)\n",
    "#setting unemployment for Riverside\n",
    "unemployment_2017_avg = df_riverside_UR.loc[(df_riverside_UR['Year'] == 2017), 'Value'].mean()\n",
    "df.loc[(df['location'] == 'Riverside, California'), 'unemployment_rate_2017'] = unemployment_2017_avg\n",
    "unemployment_2018_avg = df_riverside_UR.loc[(df_riverside_UR['Year'] == 2018), 'Value'].mean()\n",
    "df.loc[(df['location'] == 'Riverside, California'), 'unemployment_rate_2018'] = unemployment_2018_avg\n",
    "unemployment_2019_avg = df_riverside_UR.loc[(df_riverside_UR['Year'] == 2019), 'Value'].mean()\n",
    "df.loc[(df['location'] == 'Riverside, California'), 'unemployment_rate_2019'] = unemployment_2019_avg\n",
    "print(\"Riverside unemployment avg: \", unemployment_2019_avg)\n",
    "#setting unemployment rate for San Diego\n",
    "unemployment_2017_avg = df_san_diego_UR.loc[(df_san_diego_UR['Year'] == 2017), 'Value'].mean()\n",
    "df.loc[(df['location'] == 'San Diego, California'), 'unemployment_rate_2017'] = unemployment_2017_avg\n",
    "unemployment_2018_avg = df_san_diego_UR.loc[(df_san_diego_UR['Year'] == 2018), 'Value'].mean()\n",
    "df.loc[(df['location'] == 'San Diego, California'), 'unemployment_rate_2018'] = unemployment_2018_avg\n",
    "unemployment_2019_avg = df_san_diego_UR.loc[(df_san_diego_UR['Year'] == 2019), 'Value'].mean()\n",
    "df.loc[(df['location'] == 'San Diego, California'), 'unemployment_rate_2019'] = unemployment_2019_avg\n",
    "print(\"San Diego unemployment avg: \", unemployment_2019_avg)\n",
    "#setting unemployment rate for San Francisco\n",
    "unemployment_2017_avg = df_san_francisco_UR.loc[(df_san_francisco_UR['Year'] == 2017), 'Value'].mean()\n",
    "df.loc[(df['location'] == 'San Francisco, California'), 'unemployment_rate_2017'] = unemployment_2017_avg\n",
    "unemployment_2018_avg = df_san_francisco_UR.loc[(df_san_francisco_UR['Year'] == 2018), 'Value'].mean()\n",
    "df.loc[(df['location'] == 'San Francisco, California'), 'unemployment_rate_2018'] = unemployment_2018_avg\n",
    "unemployment_2019_avg = df_san_francisco_UR.loc[(df_san_francisco_UR['Year'] == 2019), 'Value'].mean()\n",
    "df.loc[(df['location'] == 'San Francisco, California'), 'unemployment_rate_2019'] = unemployment_2019_avg\n",
    "print(\"San Francisco unemployment avg: \", unemployment_2019_avg)"
   ]
  },
  {
   "cell_type": "code",
   "execution_count": 87,
   "metadata": {},
   "outputs": [
    {
     "data": {
      "text/plain": [
       "2.191667    107\n",
       "2.683333    100\n",
       "3.183333    100\n",
       "4.200000    100\n",
       "4.441667    100\n",
       "0.000000      1\n",
       "Name: unemployment_rate_2019, dtype: int64"
      ]
     },
     "execution_count": 87,
     "metadata": {},
     "output_type": "execute_result"
    }
   ],
   "source": [
    "df.unemployment_rate_2019.value_counts()"
   ]
  },
  {
   "cell_type": "code",
   "execution_count": 88,
   "metadata": {},
   "outputs": [
    {
     "data": {
      "text/html": [
       "<div>\n",
       "<style scoped>\n",
       "    .dataframe tbody tr th:only-of-type {\n",
       "        vertical-align: middle;\n",
       "    }\n",
       "\n",
       "    .dataframe tbody tr th {\n",
       "        vertical-align: top;\n",
       "    }\n",
       "\n",
       "    .dataframe thead th {\n",
       "        text-align: right;\n",
       "    }\n",
       "</style>\n",
       "<table border=\"1\" class=\"dataframe\">\n",
       "  <thead>\n",
       "    <tr style=\"text-align: right;\">\n",
       "      <th></th>\n",
       "      <th>name</th>\n",
       "      <th>followers</th>\n",
       "      <th>location</th>\n",
       "      <th>experience_count</th>\n",
       "      <th>education_count</th>\n",
       "      <th>url</th>\n",
       "      <th>unemployment_rate_2017</th>\n",
       "      <th>unemployment_rate_2018</th>\n",
       "      <th>unemployment_rate_2019</th>\n",
       "    </tr>\n",
       "  </thead>\n",
       "  <tbody>\n",
       "    <tr>\n",
       "      <th>461</th>\n",
       "      <td>NaN</td>\n",
       "      <td>NaN</td>\n",
       "      <td>NaN</td>\n",
       "      <td>0.0</td>\n",
       "      <td>0.0</td>\n",
       "      <td>https://www.linkedin.com/in/robert-vangrin-4b2...</td>\n",
       "      <td>0.0</td>\n",
       "      <td>0.0</td>\n",
       "      <td>0.0</td>\n",
       "    </tr>\n",
       "  </tbody>\n",
       "</table>\n",
       "</div>"
      ],
      "text/plain": [
       "    name  followers location  experience_count  education_count  \\\n",
       "461  NaN        NaN      NaN               0.0              0.0   \n",
       "\n",
       "                                                   url  \\\n",
       "461  https://www.linkedin.com/in/robert-vangrin-4b2...   \n",
       "\n",
       "     unemployment_rate_2017  unemployment_rate_2018  unemployment_rate_2019  \n",
       "461                     0.0                     0.0                     0.0  "
      ]
     },
     "execution_count": 88,
     "metadata": {},
     "output_type": "execute_result"
    }
   ],
   "source": [
    "df.loc[df['unemployment_rate_2019'] == 0]"
   ]
  },
  {
   "cell_type": "code",
   "execution_count": 89,
   "metadata": {},
   "outputs": [
    {
     "data": {
      "text/html": [
       "<div>\n",
       "<style scoped>\n",
       "    .dataframe tbody tr th:only-of-type {\n",
       "        vertical-align: middle;\n",
       "    }\n",
       "\n",
       "    .dataframe tbody tr th {\n",
       "        vertical-align: top;\n",
       "    }\n",
       "\n",
       "    .dataframe thead th {\n",
       "        text-align: right;\n",
       "    }\n",
       "</style>\n",
       "<table border=\"1\" class=\"dataframe\">\n",
       "  <thead>\n",
       "    <tr style=\"text-align: right;\">\n",
       "      <th></th>\n",
       "      <th>name</th>\n",
       "      <th>followers</th>\n",
       "      <th>location</th>\n",
       "      <th>experience_count</th>\n",
       "      <th>education_count</th>\n",
       "      <th>url</th>\n",
       "      <th>unemployment_rate_2017</th>\n",
       "      <th>unemployment_rate_2018</th>\n",
       "      <th>unemployment_rate_2019</th>\n",
       "    </tr>\n",
       "  </thead>\n",
       "  <tbody>\n",
       "    <tr>\n",
       "      <th>0</th>\n",
       "      <td>Mark East</td>\n",
       "      <td>500.0000</td>\n",
       "      <td>San Diego, California</td>\n",
       "      <td>5.000000</td>\n",
       "      <td>2.000000</td>\n",
       "      <td>https://www.linkedin.com/in/meast1</td>\n",
       "      <td>4.016667</td>\n",
       "      <td>3.300000</td>\n",
       "      <td>3.183333</td>\n",
       "    </tr>\n",
       "    <tr>\n",
       "      <th>1</th>\n",
       "      <td>John Gibson</td>\n",
       "      <td>500.0000</td>\n",
       "      <td>San Diego, California</td>\n",
       "      <td>3.316456</td>\n",
       "      <td>1.655556</td>\n",
       "      <td>https://www.linkedin.com/in/johngibsonjr</td>\n",
       "      <td>4.016667</td>\n",
       "      <td>3.300000</td>\n",
       "      <td>3.183333</td>\n",
       "    </tr>\n",
       "    <tr>\n",
       "      <th>2</th>\n",
       "      <td>Ruiqi Zhou</td>\n",
       "      <td>79.0000</td>\n",
       "      <td>San Diego, California</td>\n",
       "      <td>5.000000</td>\n",
       "      <td>1.000000</td>\n",
       "      <td>https://www.linkedin.com/in/ruiqiz</td>\n",
       "      <td>4.016667</td>\n",
       "      <td>3.300000</td>\n",
       "      <td>3.183333</td>\n",
       "    </tr>\n",
       "    <tr>\n",
       "      <th>3</th>\n",
       "      <td>Marcella Reyes</td>\n",
       "      <td>27.0000</td>\n",
       "      <td>San Diego, California</td>\n",
       "      <td>5.000000</td>\n",
       "      <td>2.000000</td>\n",
       "      <td>https://www.linkedin.com/in/mareyes89</td>\n",
       "      <td>4.016667</td>\n",
       "      <td>3.300000</td>\n",
       "      <td>3.183333</td>\n",
       "    </tr>\n",
       "    <tr>\n",
       "      <th>4</th>\n",
       "      <td>Murray Warren</td>\n",
       "      <td>140.0000</td>\n",
       "      <td>San Diego, California</td>\n",
       "      <td>3.000000</td>\n",
       "      <td>2.000000</td>\n",
       "      <td>https://www.linkedin.com/in/murray-warren-9567...</td>\n",
       "      <td>4.016667</td>\n",
       "      <td>3.300000</td>\n",
       "      <td>3.183333</td>\n",
       "    </tr>\n",
       "    <tr>\n",
       "      <th>...</th>\n",
       "      <td>...</td>\n",
       "      <td>...</td>\n",
       "      <td>...</td>\n",
       "      <td>...</td>\n",
       "      <td>...</td>\n",
       "      <td>...</td>\n",
       "      <td>...</td>\n",
       "      <td>...</td>\n",
       "      <td>...</td>\n",
       "    </tr>\n",
       "    <tr>\n",
       "      <th>503</th>\n",
       "      <td>Zoe Holeman</td>\n",
       "      <td>121.0375</td>\n",
       "      <td>Riverside, California</td>\n",
       "      <td>0.000000</td>\n",
       "      <td>1.000000</td>\n",
       "      <td>https://www.linkedin.com/in/zoe-holeman-717988139</td>\n",
       "      <td>5.241667</td>\n",
       "      <td>4.383333</td>\n",
       "      <td>4.200000</td>\n",
       "    </tr>\n",
       "    <tr>\n",
       "      <th>504</th>\n",
       "      <td>Yun Ou</td>\n",
       "      <td>121.0375</td>\n",
       "      <td>Riverside, California</td>\n",
       "      <td>0.000000</td>\n",
       "      <td>1.000000</td>\n",
       "      <td>https://www.linkedin.com/in/yun-ou-479b37153</td>\n",
       "      <td>5.241667</td>\n",
       "      <td>4.383333</td>\n",
       "      <td>4.200000</td>\n",
       "    </tr>\n",
       "    <tr>\n",
       "      <th>505</th>\n",
       "      <td>Daniel Scott</td>\n",
       "      <td>86.0000</td>\n",
       "      <td>Riverside, California</td>\n",
       "      <td>5.000000</td>\n",
       "      <td>1.000000</td>\n",
       "      <td>https://www.linkedin.com/in/daniel-scott-69230a35</td>\n",
       "      <td>5.241667</td>\n",
       "      <td>4.383333</td>\n",
       "      <td>4.200000</td>\n",
       "    </tr>\n",
       "    <tr>\n",
       "      <th>506</th>\n",
       "      <td>Tammy Evans</td>\n",
       "      <td>118.0000</td>\n",
       "      <td>Riverside, California</td>\n",
       "      <td>1.000000</td>\n",
       "      <td>1.000000</td>\n",
       "      <td>https://www.linkedin.com/in/tammy-evans-53806b80</td>\n",
       "      <td>5.241667</td>\n",
       "      <td>4.383333</td>\n",
       "      <td>4.200000</td>\n",
       "    </tr>\n",
       "    <tr>\n",
       "      <th>507</th>\n",
       "      <td>Sarah Hasheem</td>\n",
       "      <td>121.0375</td>\n",
       "      <td>Riverside, California</td>\n",
       "      <td>0.000000</td>\n",
       "      <td>1.000000</td>\n",
       "      <td>https://www.linkedin.com/in/sarah-hasheem-79ab...</td>\n",
       "      <td>5.241667</td>\n",
       "      <td>4.383333</td>\n",
       "      <td>4.200000</td>\n",
       "    </tr>\n",
       "  </tbody>\n",
       "</table>\n",
       "<p>507 rows × 9 columns</p>\n",
       "</div>"
      ],
      "text/plain": [
       "               name  followers               location  experience_count  \\\n",
       "0         Mark East   500.0000  San Diego, California          5.000000   \n",
       "1       John Gibson   500.0000  San Diego, California          3.316456   \n",
       "2        Ruiqi Zhou    79.0000  San Diego, California          5.000000   \n",
       "3    Marcella Reyes    27.0000  San Diego, California          5.000000   \n",
       "4     Murray Warren   140.0000  San Diego, California          3.000000   \n",
       "..              ...        ...                    ...               ...   \n",
       "503     Zoe Holeman   121.0375  Riverside, California          0.000000   \n",
       "504          Yun Ou   121.0375  Riverside, California          0.000000   \n",
       "505    Daniel Scott    86.0000  Riverside, California          5.000000   \n",
       "506     Tammy Evans   118.0000  Riverside, California          1.000000   \n",
       "507   Sarah Hasheem   121.0375  Riverside, California          0.000000   \n",
       "\n",
       "     education_count                                                url  \\\n",
       "0           2.000000                 https://www.linkedin.com/in/meast1   \n",
       "1           1.655556           https://www.linkedin.com/in/johngibsonjr   \n",
       "2           1.000000                 https://www.linkedin.com/in/ruiqiz   \n",
       "3           2.000000              https://www.linkedin.com/in/mareyes89   \n",
       "4           2.000000  https://www.linkedin.com/in/murray-warren-9567...   \n",
       "..               ...                                                ...   \n",
       "503         1.000000  https://www.linkedin.com/in/zoe-holeman-717988139   \n",
       "504         1.000000       https://www.linkedin.com/in/yun-ou-479b37153   \n",
       "505         1.000000  https://www.linkedin.com/in/daniel-scott-69230a35   \n",
       "506         1.000000   https://www.linkedin.com/in/tammy-evans-53806b80   \n",
       "507         1.000000  https://www.linkedin.com/in/sarah-hasheem-79ab...   \n",
       "\n",
       "     unemployment_rate_2017  unemployment_rate_2018  unemployment_rate_2019  \n",
       "0                  4.016667                3.300000                3.183333  \n",
       "1                  4.016667                3.300000                3.183333  \n",
       "2                  4.016667                3.300000                3.183333  \n",
       "3                  4.016667                3.300000                3.183333  \n",
       "4                  4.016667                3.300000                3.183333  \n",
       "..                      ...                     ...                     ...  \n",
       "503                5.241667                4.383333                4.200000  \n",
       "504                5.241667                4.383333                4.200000  \n",
       "505                5.241667                4.383333                4.200000  \n",
       "506                5.241667                4.383333                4.200000  \n",
       "507                5.241667                4.383333                4.200000  \n",
       "\n",
       "[507 rows x 9 columns]"
      ]
     },
     "execution_count": 89,
     "metadata": {},
     "output_type": "execute_result"
    }
   ],
   "source": [
    "df.drop(df.index[461])"
   ]
  },
  {
   "cell_type": "markdown",
   "metadata": {},
   "source": [
    "df.unemployment_rate_2019.value_counts()"
   ]
  },
  {
   "cell_type": "code",
   "execution_count": 90,
   "metadata": {},
   "outputs": [
    {
     "data": {
      "text/plain": [
       "2.191667    107\n",
       "2.683333    100\n",
       "4.200000    100\n",
       "4.441667    100\n",
       "Name: unemployment_rate_2019, dtype: int64"
      ]
     },
     "execution_count": 90,
     "metadata": {},
     "output_type": "execute_result"
    }
   ],
   "source": [
    "df = df.drop(df.index[461])\n",
    "#take out San Diego\n",
    "df_hyp_2 = df.copy(deep=True)\n",
    "df = df.loc[df['location'] != 'San Diego, California']\n",
    "df = df.reset_index()\n",
    "df.unemployment_rate_2019.value_counts()"
   ]
  },
  {
   "cell_type": "markdown",
   "metadata": {},
   "source": []
  },
  {
   "cell_type": "markdown",
   "metadata": {},
   "source": [
    "First we must split train and test data. To achieve this, let's do an 80/20 split in order to maximize training. We should first shuffle our dataset"
   ]
  },
  {
   "cell_type": "code",
   "execution_count": 91,
   "metadata": {},
   "outputs": [
    {
     "name": "stdout",
     "output_type": "stream",
     "text": [
      "325.6\n"
     ]
    }
   ],
   "source": [
    "#Sampling Dataset\n",
    "df = df.sample(frac=1,)\n",
    "df = df.reset_index()\n",
    "\n",
    "cutoff = len(df) * 0.8\n",
    "#Creating train/test set\n",
    "df_train = df.iloc[:int(cutoff)].copy(deep = True)\n",
    "df_test = df.iloc[int(cutoff):].copy(deep = True)\n",
    "print(cutoff)\n",
    "#Setting Classification\n",
    "df_train.loc[(df_train['location'] == 'Los Angeles, California') | (df_train['location'] == 'Riverside, California'), 'unemployment_rate_2019'] = 0\n",
    "df_train.loc[(df_train['location'] == 'Irvine, California') | (df_train['location'] == 'San Francisco, California'), 'unemployment_rate_2019'] = 1\n",
    "df_test.loc[(df_test['location'] == 'Los Angeles, California') | (df_test['location'] == 'Riverside, California'), 'unemployment_rate_2019'] = 0\n",
    "df_test.loc[(df_test['location'] == 'Irvine, California') | (df_test['location'] == 'San Francisco, California'), 'unemployment_rate_2019'] = 1"
   ]
  },
  {
   "cell_type": "markdown",
   "metadata": {},
   "source": [
    "## Exploring Hypotheses 1 (Identifying Riverside/Los Angeles vs San Francisco/Irvine)"
   ]
  },
  {
   "cell_type": "code",
   "execution_count": 92,
   "metadata": {},
   "outputs": [
    {
     "name": "stdout",
     "output_type": "stream",
     "text": [
      "1.0    168\n",
      "0.0    157\n",
      "Name: unemployment_rate_2019, dtype: int64\n",
      "0.0    43\n",
      "1.0    39\n",
      "Name: unemployment_rate_2019, dtype: int64\n"
     ]
    }
   ],
   "source": [
    "print(df_train.unemployment_rate_2019.value_counts())\n",
    "print(df_test.unemployment_rate_2019.value_counts())"
   ]
  },
  {
   "cell_type": "code",
   "execution_count": 93,
   "metadata": {},
   "outputs": [],
   "source": [
    "X_train = df_train[['followers','experience_count','education_count']].copy(deep=True)\n",
    "X_test = df_test[['followers','experience_count','education_count']].copy(deep=True)\n",
    "y_train = df_train['unemployment_rate_2019'].copy(deep=True)\n",
    "y_test = df_test['unemployment_rate_2019'].copy(deep=True)"
   ]
  },
  {
   "cell_type": "markdown",
   "metadata": {},
   "source": [
    "Let's first figure out how a Neural Network works on this problem!"
   ]
  },
  {
   "cell_type": "code",
   "execution_count": 94,
   "metadata": {},
   "outputs": [],
   "source": [
    "from sklearn.neural_network import MLPClassifier\n",
    "import numpy as np\n",
    "import matplotlib.pyplot as plt\n",
    "\n",
    "from sklearn import svm, datasets\n",
    "from sklearn.model_selection import train_test_split\n",
    "from sklearn.metrics import plot_confusion_matrix\n",
    "model = MLPClassifier(solver='lbfgs', alpha=1e-5,\n",
    "                     hidden_layer_sizes=(5, 2), random_state=1)\n",
    "model.fit(X=X_train, y=y_train.ravel())\n",
    "Y_predict = model.predict(X=X_test)"
   ]
  },
  {
   "cell_type": "code",
   "execution_count": 95,
   "metadata": {},
   "outputs": [
    {
     "name": "stdout",
     "output_type": "stream",
     "text": [
      "[1. 0. 0. 0. 0. 0. 1. 1. 0. 1. 0. 0. 1. 1. 0. 0. 1. 1. 1. 1. 1. 0. 1. 1.\n",
      " 0. 1. 0. 1. 0. 0. 1. 1. 0. 0. 1. 1. 1. 1. 1. 1. 1. 0. 1. 1. 1. 0. 1. 0.\n",
      " 0. 1. 0. 0. 1. 1. 0. 0. 1. 1. 1. 1. 1. 0. 0. 0. 0. 0. 1. 1. 1. 1. 1. 0.\n",
      " 0. 0. 1. 1. 1. 1. 1. 1. 1. 1.]\n"
     ]
    }
   ],
   "source": [
    "print(Y_predict)"
   ]
  },
  {
   "cell_type": "markdown",
   "metadata": {},
   "source": [
    "Now that we have our predictions, let's figure out if we can now check our accuracy rate based on our test set"
   ]
  },
  {
   "cell_type": "code",
   "execution_count": 96,
   "metadata": {},
   "outputs": [],
   "source": [
    "y_test = y_test.ravel()"
   ]
  },
  {
   "cell_type": "code",
   "execution_count": 97,
   "metadata": {},
   "outputs": [
    {
     "name": "stdout",
     "output_type": "stream",
     "text": [
      "48\n",
      "0.5853658536585366\n"
     ]
    }
   ],
   "source": [
    "correct = 0\n",
    "for x in range(0,82):\n",
    "    if(Y_predict[x] == y_test[x]):\n",
    "        correct = correct + 1\n",
    "print(correct)\n",
    "print(correct/82)\n",
    "neural_net_output = correct/82"
   ]
  },
  {
   "cell_type": "markdown",
   "metadata": {},
   "source": [
    "We get above 60% accuracy! Though this may be indicative of \"better than chance\" let's try a few more algorithms to see if we can properly differentiate between LinkedIn profiles. "
   ]
  },
  {
   "cell_type": "markdown",
   "metadata": {},
   "source": [
    "Let's now figure out how our data will run with different features. Let's simply go by connection count:"
   ]
  },
  {
   "cell_type": "code",
   "execution_count": 98,
   "metadata": {},
   "outputs": [
    {
     "name": "stdout",
     "output_type": "stream",
     "text": [
      "39\n",
      "0.47560975609756095\n"
     ]
    }
   ],
   "source": [
    "X_train = df_train[['followers']].copy(deep=True)\n",
    "X_test = df_test[['followers']].copy(deep=True)\n",
    "y_train = df_train['unemployment_rate_2019'].copy(deep=True)\n",
    "y_test = df_test['unemployment_rate_2019'].copy(deep=True)\n",
    "\n",
    "model = MLPClassifier(solver='lbfgs', alpha=1e-5,\n",
    "                     hidden_layer_sizes=(4, 2), random_state=1)\n",
    "model.fit(X=X_train, y=y_train.ravel())\n",
    "Y_predict = model.predict(X=X_test)\n",
    "y_test = y_test.ravel()\n",
    "correct = 0\n",
    "for x in range(0,82):\n",
    "    if(Y_predict[x] == y_test[x]):\n",
    "        correct = correct + 1\n",
    "print(correct)\n",
    "print(correct/82)\n",
    "neural_net_output = correct/82"
   ]
  },
  {
   "cell_type": "markdown",
   "metadata": {},
   "source": [
    "We have a similar value but we lose some accuracy!"
   ]
  },
  {
   "cell_type": "code",
   "execution_count": 99,
   "metadata": {},
   "outputs": [
    {
     "data": {
      "image/png": "[encoded data removed]",
      "text/plain": [
       "<Figure size 432x288 with 2 Axes>"
      ]
     },
     "metadata": {
      "needs_background": "light"
     },
     "output_type": "display_data"
    },
    {
     "data": {
      "image/png": "[encoded data removed]",
      "text/plain": [
       "<Figure size 432x288 with 2 Axes>"
      ]
     },
     "metadata": {
      "needs_background": "light"
     },
     "output_type": "display_data"
    }
   ],
   "source": [
    "titles_options = [(\"Confusion matrix, without normalization\", None),\n",
    "                  (\"Normalized confusion matrix\", 'true')]\n",
    "class_names = ['Los Angeles/Riverside', 'Irvine/San Francisco']\n",
    "for title, normalize in titles_options:\n",
    "    disp = plot_confusion_matrix(model, X_test, y_test,\n",
    "                                 display_labels=class_names,\n",
    "                                 cmap=plt.cm.Blues,\n",
    "                                 normalize=normalize)"
   ]
  },
  {
   "cell_type": "markdown",
   "metadata": {},
   "source": [
    "It looks like it is very difficult to predict Los Angeles/Riverside than Irvine/San Francisco"
   ]
  },
  {
   "cell_type": "markdown",
   "metadata": {},
   "source": [
    "Before we move on, let's try out another algorithm. This time CatBoost's classification algorithm. Note: CatBoost should be installed (pip3 install --user catboost)"
   ]
  },
  {
   "cell_type": "code",
   "execution_count": 100,
   "metadata": {},
   "outputs": [
    {
     "name": "stdout",
     "output_type": "stream",
     "text": [
      "0:\tlearn: 0.6876135\ttotal: 3.18ms\tremaining: 60.4ms\n",
      "1:\tlearn: 0.6848092\ttotal: 5.79ms\tremaining: 52.1ms\n",
      "2:\tlearn: 0.6812356\ttotal: 7.6ms\tremaining: 43.1ms\n",
      "3:\tlearn: 0.6774075\ttotal: 9.43ms\tremaining: 37.7ms\n",
      "4:\tlearn: 0.6750813\ttotal: 11.2ms\tremaining: 33.7ms\n",
      "5:\tlearn: 0.6738725\ttotal: 13.1ms\tremaining: 30.6ms\n",
      "6:\tlearn: 0.6713447\ttotal: 15.2ms\tremaining: 28.3ms\n",
      "7:\tlearn: 0.6711460\ttotal: 17.1ms\tremaining: 25.7ms\n",
      "8:\tlearn: 0.6696605\ttotal: 19.1ms\tremaining: 23.3ms\n",
      "9:\tlearn: 0.6676784\ttotal: 21ms\tremaining: 21ms\n",
      "10:\tlearn: 0.6664534\ttotal: 22.8ms\tremaining: 18.7ms\n",
      "11:\tlearn: 0.6653902\ttotal: 24.6ms\tremaining: 16.4ms\n",
      "12:\tlearn: 0.6635544\ttotal: 26.3ms\tremaining: 14.2ms\n",
      "13:\tlearn: 0.6632843\ttotal: 28.1ms\tremaining: 12ms\n",
      "14:\tlearn: 0.6626955\ttotal: 29.8ms\tremaining: 9.93ms\n",
      "15:\tlearn: 0.6625078\ttotal: 31.4ms\tremaining: 7.86ms\n",
      "16:\tlearn: 0.6609620\ttotal: 33.3ms\tremaining: 5.88ms\n",
      "17:\tlearn: 0.6601975\ttotal: 35.3ms\tremaining: 3.92ms\n",
      "18:\tlearn: 0.6595300\ttotal: 37.1ms\tremaining: 1.95ms\n",
      "19:\tlearn: 0.6592601\ttotal: 38.6ms\tremaining: 0us\n",
      "52\n",
      "0.6341463414634146\n"
     ]
    }
   ],
   "source": [
    "from catboost import CatBoostClassifier\n",
    "import numpy as np\n",
    "\n",
    "X_train = df_train[['followers','experience_count','education_count']].copy(deep=True)\n",
    "X_test = df_test[['followers','experience_count','education_count']].copy(deep=True)\n",
    "y_train = df_train['unemployment_rate_2019'].copy(deep=True)\n",
    "y_test = df_test['unemployment_rate_2019'].copy(deep=True)\n",
    "\n",
    "# Initialize CatBoostClassifier\n",
    "model = CatBoostClassifier(iterations=20,\n",
    "                           learning_rate=0.1,\n",
    "                           depth=1)\n",
    "# Fit model\n",
    "model.fit(X_train, y_train)\n",
    "# Get predicted classes\n",
    "Y_predict = model.predict(X_test)\n",
    "\n",
    "y_test = y_test.ravel()\n",
    "correct = 0\n",
    "for x in range(0,82):\n",
    "    if(Y_predict[x] == y_test[x]):\n",
    "        correct = correct + 1\n",
    "print(correct)\n",
    "print(correct/82)\n",
    "neural_net_output = correct/82"
   ]
  },
  {
   "cell_type": "markdown",
   "metadata": {},
   "source": [
    "Using CatBoost we have 65% accuracy using relevant features on our test set!"
   ]
  },
  {
   "cell_type": "markdown",
   "metadata": {},
   "source": [
    "## Exploring Hyopetheses 2"
   ]
  },
  {
   "cell_type": "markdown",
   "metadata": {},
   "source": [
    "We cannot deny that our algorithm does not interact with Page Rank. In our crawling method we crawl LinkedIn profiles on google for a given city. This means we tend towards high-connection, high-experience, high-education, etc. profiles that have a lot of incoming links from reputable sources. In essence, we are capturing successful figures in a given city. The question now becomes can we use this reliance to estimate the cities unemployment rate? In other words, can we choose some k where k in our cause is the first 100 profiles seen, and using this to determine error rate. "
   ]
  },
  {
   "cell_type": "markdown",
   "metadata": {},
   "source": [
    "To set up our data properly, we will maintain our original features (excluding URL/Name) And try to do a regression prediction on a certain profile's city's unemployment rate"
   ]
  },
  {
   "cell_type": "code",
   "execution_count": 101,
   "metadata": {},
   "outputs": [
    {
     "name": "stdout",
     "output_type": "stream",
     "text": [
      "Location:  San Diego, California  off by:  0.13335567990295116 %\n",
      "Location:  Irvine, California  off by:  0.7099294640839324 %\n",
      "Location:  Riverside, California  off by:  0.50770730874134 %\n",
      "Location:  San Francisco, California  off by:  1.0400028896701223 %\n",
      "Location:  Irvine, California  off by:  0.9002184698248636 %\n",
      "Location:  Riverside, California  off by:  0.8178065738372045 %\n",
      "Location:  San Diego, California  off by:  0.13335567990295116 %\n",
      "Location:  San Francisco, California  off by:  0.8583109867637155 %\n",
      "Location:  Los Angeles, California  off by:  0.7501779218810443 %\n",
      "Location:  San Francisco, California  off by:  0.87532371886393 %\n",
      "Location:  San Francisco, California  off by:  0.8464154341638173 %\n",
      "Location:  Los Angeles, California  off by:  1.3115629091738414 %\n",
      "Location:  San Diego, California  off by:  0.05068763342173277 %\n",
      "Location:  Los Angeles, California  off by:  1.3916890132362854 %\n",
      "Location:  San Francisco, California  off by:  0.8583109867637155 %\n",
      "Location:  Los Angeles, California  off by:  1.059309596008212 %\n",
      "Location:  San Francisco, California  off by:  0.9043218150948862 %\n",
      "Location:  San Francisco, California  off by:  0.8583109867637155 %\n",
      "Location:  San Diego, California  off by:  0.21555708939519302 %\n",
      "Location:  Riverside, California  off by:  0.558541815910734 %\n",
      "Location:  Irvine, California  off by:  0.7248167290794854 %\n",
      "Location:  San Francisco, California  off by:  0.8702065393636138 %\n",
      "Location:  Irvine, California  off by:  0.9213291923642726 %\n",
      "Location:  Riverside, California  off by:  0.5397015231671682 %\n",
      "Location:  San Francisco, California  off by:  0.8821020919635116 %\n",
      "Location:  Los Angeles, California  off by:  0.9081231893324366 %\n",
      "Location:  San Diego, California  off by:  0.3252655684643533 %\n",
      "Location:  Riverside, California  off by:  0.6537792584652253 %\n",
      "Location:  Riverside, California  off by:  0.5562936209872822 %\n",
      "Location:  Irvine, California  off by:  0.6879206912238511 %\n",
      "Location:  San Francisco, California  off by:  0.8464154341638173 %\n",
      "Location:  Irvine, California  off by:  0.9269345828031419 %\n",
      "Location:  San Francisco, California  off by:  0.87532371886393 %\n",
      "Location:  San Francisco, California  off by:  0.875997809170534 %\n",
      "Location:  Los Angeles, California  off by:  1.4035845658361836 %\n",
      "Location:  Irvine, California  off by:  0.7491591967670952 %\n",
      "Location:  Riverside, California  off by:  0.7533351246189168 %\n",
      "Location:  Irvine, California  off by:  0.4648894343032466 %\n",
      "Location:  Los Angeles, California  off by:  1.3456781849051147 %\n",
      "Location:  Los Angeles, California  off by:  1.3916890132362854 %\n",
      "Location:  San Diego, California  off by:  0.48323307078813693 %\n",
      "Location:  San Francisco, California  off by:  1.2785064489208944 %\n",
      "Location:  Irvine, California  off by:  0.6737741076696495 %\n",
      "Location:  San Diego, California  off by:  0.12146012730305289 %\n",
      "Location:  San Diego, California  off by:  0.08412906567963141 %\n",
      "Location:  San Diego, California  off by:  0.4692164568827937 %\n",
      "Location:  Los Angeles, California  off by:  1.3916890132362854 %\n",
      "Location:  Los Angeles, California  off by:  1.3585383652166287 %\n",
      "Location:  San Diego, California  off by:  0.04788180039412904 %\n",
      "Location:  Los Angeles, California  off by:  1.3456781849051147 %\n",
      "Location:  San Francisco, California  off by:  0.9805108506653699 %\n",
      "Location:  Riverside, California  off by:  0.935174856794668 %\n",
      "Location:  San Diego, California  off by:  0.3666060176654904 %\n",
      "Location:  Riverside, California  off by:  1.13812679396972 %\n",
      "Location:  Los Angeles, California  off by:  0.7850971440853542 %\n",
      "Location:  San Francisco, California  off by:  0.9384370908261594 %\n",
      "Location:  San Diego, California  off by:  0.31465061981921005 %\n",
      "Location:  San Diego, California  off by:  0.4946519659063173 %\n",
      "Location:  Los Angeles, California  off by:  1.379793460636387 %\n",
      "Location:  Irvine, California  off by:  0.5726627314350132 %\n",
      "Location:  Irvine, California  off by:  0.6813369149183037 %\n",
      "Location:  Los Angeles, California  off by:  1.2825408017227948 %\n",
      "Location:  San Francisco, California  off by:  0.9049398821998729 %\n",
      "Location:  Los Angeles, California  off by:  1.4035845658361836 %\n",
      "Location:  Los Angeles, California  off by:  0.8288010317430299 %\n",
      "Location:  San Diego, California  off by:  0.4784093919499135 %\n",
      "Location:  San Diego, California  off by:  0.29310770954286536 %\n",
      "Location:  Riverside, California  off by:  0.6215991646713461 %\n",
      "Location:  Irvine, California  off by:  0.6623329776790778 %\n",
      "Location:  San Francisco, California  off by:  0.8464154341638173 %\n",
      "Location:  San Diego, California  off by:  0.14525123250284944 %\n",
      "Location:  Los Angeles, California  off by:  1.379793460636387 %\n",
      "Location:  Irvine, California  off by:  0.8642401582020045 %\n",
      "Location:  Irvine, California  off by:  0.9072903435865385 %\n",
      "Location:  San Francisco, California  off by:  1.067500714249047 %\n",
      "Location:  Los Angeles, California  off by:  1.306925109703669 %\n",
      "Location:  San Francisco, California  off by:  0.8583109867637155 %\n",
      "Location:  San Diego, California  off by:  0.2183629224227972 %\n",
      "Location:  Irvine, California  off by:  0.9014990737796182 %\n",
      "Location:  Los Angeles, California  off by:  0.9715522968291501 %\n",
      "Location:  Irvine, California  off by:  0.9404380283491145 %\n",
      "Location:  Irvine, California  off by:  0.741305611404774 %\n",
      "Location:  San Francisco, California  off by:  0.87532371886393 %\n",
      "Location:  Los Angeles, California  off by:  1.3916890132362854 %\n",
      "Location:  San Francisco, California  off by:  0.87532371886393 %\n",
      "Location:  Riverside, California  off by:  0.7794030224994697 %\n",
      "Location:  Los Angeles, California  off by:  1.2013173436221294 %\n",
      "Location:  Los Angeles, California  off by:  1.1616348715804303 %\n",
      "Location:  Los Angeles, California  off by:  1.379793460636387 %\n",
      "Location:  Irvine, California  off by:  0.6940141791188483 %\n",
      "Location:  Riverside, California  off by:  0.7414395720190186 %\n",
      "Location:  Los Angeles, California  off by:  1.2934438990300876 %\n",
      "Location:  Riverside, California  off by:  0.896615563067241 %\n",
      "Location:  Irvine, California  off by:  0.9621445831211188 %\n",
      "Location:  Los Angeles, California  off by:  1.4035845658361836 %\n",
      "Location:  San Diego, California  off by:  0.13335567990295116 %\n",
      "Location:  Irvine, California  off by:  0.5923896345248418 %\n",
      "Location:  San Diego, California  off by:  0.173133805692272 %\n",
      "Location:  Riverside, California  off by:  0.5173546664177864 %\n",
      "Location:  Los Angeles, California  off by:  1.3337826323052164 %\n",
      "Location:  San Diego, California  off by:  0.1608887292286636 %\n",
      "Location:  Riverside, California  off by:  0.5963273001434826 %\n"
     ]
    }
   ],
   "source": [
    "#Sampling Dataset\n",
    "from sklearn.linear_model import LinearRegression\n",
    "df_hyp_2 = df_hyp_2.sample(frac=1,)\n",
    "df_hyp_2 = df_hyp_2.reset_index()\n",
    "cutoff = len(df_hyp_2) * 0.8\n",
    "#Creating train/test set\n",
    "df_hyp_2_train = df_hyp_2.iloc[:int(cutoff)].copy(deep = True)\n",
    "df_hyp_2_test = df_hyp_2.iloc[int(cutoff):].copy(deep = True)\n",
    "X_train = df_hyp_2_train[['followers','experience_count','education_count']].copy(deep=True)\n",
    "X_test = df_hyp_2_test[['followers','experience_count','education_count']].copy(deep=True)\n",
    "y_train = df_hyp_2_train['unemployment_rate_2019'].copy(deep=True)\n",
    "y_test = df_hyp_2_test['unemployment_rate_2019'].copy(deep=True)\n",
    "model  = LinearRegression()\n",
    "model.fit(X_train, y_train)\n",
    "Y_predict = model.predict(X_test)\n",
    "y_test = y_test.ravel()\n",
    "Y_predict = Y_predict\n",
    "y_test = y_test.ravel()\n",
    "df_temp = df_hyp_2_test['location'].ravel()\n",
    "irvine_err = 0\n",
    "riverside_err = 0\n",
    "san_diego_err = 0\n",
    "san_francisco_err = 0\n",
    "los_angeles_err = 0\n",
    "for i in range(0, len(y_test)):\n",
    "    if(df_temp[i] == \"San Francisco, California\"):\n",
    "        san_francisco_err = san_francisco_err + abs(Y_predict[i] - y_test[i])\n",
    "    if(df_temp[i] == \"San Diego, California\"):\n",
    "        san_diego_err = san_diego_err + abs(Y_predict[i] - y_test[i])\n",
    "    if(df_temp[i] == \"Riverside, California\"):\n",
    "        riverside_err = riverside_err + abs(Y_predict[i] - y_test[i])\n",
    "    if(df_temp[i] == \"Irvine, California\"):\n",
    "        irvine_err = irvine_err + abs(Y_predict[i] - y_test[i])\n",
    "    if(df_temp[i] == \"Los Angeles, California\"):\n",
    "        los_angeles_err = los_angeles_err + abs(Y_predict[i] - y_test[i])\n",
    "    print(\"Location: \", df_temp[i], \" off by: \", abs(Y_predict[i] - y_test[i]), \"%\")"
   ]
  },
  {
   "cell_type": "markdown",
   "metadata": {},
   "source": [
    "Let's visualize what we are getting wrong"
   ]
  },
  {
   "cell_type": "code",
   "execution_count": 102,
   "metadata": {},
   "outputs": [
    {
     "data": {
      "text/plain": [
       "<matplotlib.axes._subplots.AxesSubplot at 0x7fc20c835ac8>"
      ]
     },
     "execution_count": 102,
     "metadata": {},
     "output_type": "execute_result"
    },
    {
     "data": {
      "image/png": "[encoded data removed]",
      "text/plain": [
       "<Figure size 432x288 with 1 Axes>"
      ]
     },
     "metadata": {
      "needs_background": "light"
     },
     "output_type": "display_data"
    }
   ],
   "source": [
    "df_errs = pd.DataFrame({'Cities':['Riverside', 'Los Angeles', 'San Diego', 'San Francisco', 'Irvine'], \n",
    "                        'error rate':[riverside_err/len(y_test), los_angeles_err/len(y_test), san_diego_err/len(y_test), san_francisco_err/len(y_test),\n",
    "                              irvine_err/len(y_test)]})\n",
    "df_errs.plot.bar(x='Cities', y='error rate', rot=0)"
   ]
  },
  {
   "cell_type": "markdown",
   "metadata": {},
   "source": [
    "How interesting. We see that San Diego actually has the lowest error rate. This is most likely due to San Diego having an umeployment value between Los Angeles and San Francisco which is 3.18 versus 2% values (San Francisco/Irvine) and 4% values (Riverside/Los Angeles). Hence, it is a safe bet to predict right in the middle. The highest error rate comes from Los Angeles which has the highest error rate. Hence, we have line regression finding the safer predictions to cluster through the mid-high unemployment rates."
   ]
  },
  {
   "cell_type": "code",
   "execution_count": 68,
   "metadata": {},
   "outputs": [
    {
     "data": {
      "text/plain": [
       "DecisionTreeRegressor(ccp_alpha=0.0, criterion='mse', max_depth=5,\n",
       "                      max_features=None, max_leaf_nodes=None,\n",
       "                      min_impurity_decrease=0.0, min_impurity_split=None,\n",
       "                      min_samples_leaf=1, min_samples_split=2,\n",
       "                      min_weight_fraction_leaf=0.0, presort='deprecated',\n",
       "                      random_state=None, splitter='best')"
      ]
     },
     "execution_count": 68,
     "metadata": {},
     "output_type": "execute_result"
    }
   ],
   "source": [
    "from sklearn.tree import DecisionTreeRegressor\n",
    "# Fit regression model\n",
    "regr_1 = DecisionTreeRegressor(max_depth=2)\n",
    "regr_2 = DecisionTreeRegressor(max_depth=5)\n",
    "regr_1.fit(X_train, y_train)\n",
    "regr_2.fit(X_train, y_train)"
   ]
  },
  {
   "cell_type": "code",
   "execution_count": 70,
   "metadata": {},
   "outputs": [],
   "source": [
    "Y_predict = regr_1.predict(X_test)"
   ]
  },
  {
   "cell_type": "code",
   "execution_count": 71,
   "metadata": {},
   "outputs": [
    {
     "name": "stdout",
     "output_type": "stream",
     "text": [
      "Location:  San Diego, California  off by:  0.10693581780538342 %\n",
      "Location:  Los Angeles, California  off by:  1.4692156862745116 %\n",
      "Location:  Irvine, California  off by:  0.6069358178053834 %\n",
      "Location:  Los Angeles, California  off by:  1.4692156862745116 %\n",
      "Location:  Los Angeles, California  off by:  1.4692156862745116 %\n",
      "Location:  San Diego, California  off by:  0.28580729166666563 %\n",
      "Location:  San Francisco, California  off by:  0.7807843137254893 %\n",
      "Location:  San Francisco, California  off by:  1.0986024844720501 %\n",
      "Location:  San Francisco, California  off by:  1.0986024844720501 %\n",
      "Location:  San Francisco, California  off by:  0.7807843137254893 %\n",
      "Location:  San Diego, California  off by:  0.10693581780538342 %\n",
      "Location:  Irvine, California  off by:  0.7858072916666656 %\n",
      "Location:  San Francisco, California  off by:  1.0986024844720501 %\n",
      "Location:  Los Angeles, California  off by:  0.9725260416666686 %\n",
      "Location:  Los Angeles, California  off by:  1.1513975155279508 %\n",
      "Location:  Riverside, California  off by:  0.7308593750000014 %\n",
      "Location:  San Francisco, California  off by:  0.7807843137254893 %\n",
      "Location:  Riverside, California  off by:  0.9097308488612836 %\n",
      "Location:  Irvine, California  off by:  0.6069358178053834 %\n",
      "Location:  San Diego, California  off by:  0.28580729166666563 %\n",
      "Location:  Riverside, California  off by:  0.7308593750000014 %\n",
      "Location:  Riverside, California  off by:  0.7308593750000014 %\n",
      "Location:  San Francisco, California  off by:  1.2774739583333323 %\n",
      "Location:  San Francisco, California  off by:  1.0986024844720501 %\n",
      "Location:  San Francisco, California  off by:  1.0986024844720501 %\n",
      "Location:  Riverside, California  off by:  0.7308593750000014 %\n",
      "Location:  Irvine, California  off by:  0.7858072916666656 %\n",
      "Location:  Irvine, California  off by:  0.7858072916666656 %\n",
      "Location:  Riverside, California  off by:  0.13333333333333286 %\n",
      "Location:  San Francisco, California  off by:  1.0986024844720501 %\n",
      "Location:  Irvine, California  off by:  0.7858072916666656 %\n",
      "Location:  Riverside, California  off by:  0.7308593750000014 %\n",
      "Location:  Irvine, California  off by:  0.7858072916666656 %\n",
      "Location:  San Francisco, California  off by:  0.7807843137254893 %\n",
      "Location:  San Diego, California  off by:  0.10693581780538342 %\n",
      "Location:  Los Angeles, California  off by:  0.9725260416666686 %\n",
      "Location:  San Francisco, California  off by:  1.0986024844720501 %\n",
      "Location:  San Diego, California  off by:  0.10693581780538342 %\n",
      "Location:  Riverside, California  off by:  0.13333333333333286 %\n",
      "Location:  San Diego, California  off by:  0.10693581780538342 %\n",
      "Location:  San Diego, California  off by:  0.28580729166666563 %\n",
      "Location:  San Diego, California  off by:  0.28580729166666563 %\n",
      "Location:  San Francisco, California  off by:  0.7807843137254893 %\n",
      "Location:  Irvine, California  off by:  0.7858072916666656 %\n",
      "Location:  San Diego, California  off by:  0.8833333333333342 %\n",
      "Location:  Riverside, California  off by:  0.9097308488612836 %\n",
      "Location:  Riverside, California  off by:  1.2275490196078445 %\n",
      "Location:  Riverside, California  off by:  0.7308593750000014 %\n",
      "Location:  San Francisco, California  off by:  0.7807843137254893 %\n",
      "Location:  Los Angeles, California  off by:  0.9725260416666686 %\n",
      "Location:  Riverside, California  off by:  0.7308593750000014 %\n",
      "Location:  Irvine, California  off by:  0.6069358178053834 %\n",
      "Location:  Riverside, California  off by:  0.7308593750000014 %\n",
      "Location:  Los Angeles, California  off by:  1.4692156862745116 %\n",
      "Location:  San Francisco, California  off by:  0.7807843137254893 %\n",
      "Location:  Riverside, California  off by:  0.7308593750000014 %\n",
      "Location:  Los Angeles, California  off by:  1.1513975155279508 %\n",
      "Location:  Irvine, California  off by:  0.7858072916666656 %\n",
      "Location:  Los Angeles, California  off by:  0.9725260416666686 %\n",
      "Location:  San Diego, California  off by:  0.2108823529411774 %\n",
      "Location:  Irvine, California  off by:  0.7858072916666656 %\n",
      "Location:  Riverside, California  off by:  0.7308593750000014 %\n",
      "Location:  Los Angeles, California  off by:  1.1513975155279508 %\n",
      "Location:  San Diego, California  off by:  0.28580729166666563 %\n",
      "Location:  Riverside, California  off by:  0.7308593750000014 %\n",
      "Location:  San Francisco, California  off by:  1.0986024844720501 %\n",
      "Location:  San Diego, California  off by:  0.10693581780538342 %\n",
      "Location:  San Diego, California  off by:  0.10693581780538342 %\n",
      "Location:  Los Angeles, California  off by:  1.4692156862745116 %\n",
      "Location:  Riverside, California  off by:  0.13333333333333286 %\n",
      "Location:  Irvine, California  off by:  0.7858072916666656 %\n",
      "Location:  Los Angeles, California  off by:  1.1513975155279508 %\n",
      "Location:  Irvine, California  off by:  0.7858072916666656 %\n",
      "Location:  Irvine, California  off by:  0.7858072916666656 %\n",
      "Location:  San Diego, California  off by:  0.28580729166666563 %\n",
      "Location:  Los Angeles, California  off by:  1.4692156862745116 %\n",
      "Location:  San Diego, California  off by:  0.10693581780538342 %\n",
      "Location:  San Diego, California  off by:  0.28580729166666563 %\n",
      "Location:  Riverside, California  off by:  0.7308593750000014 %\n",
      "Location:  San Diego, California  off by:  0.10693581780538342 %\n",
      "Location:  San Diego, California  off by:  0.10693581780538342 %\n",
      "Location:  Irvine, California  off by:  0.7858072916666656 %\n",
      "Location:  San Francisco, California  off by:  0.7807843137254893 %\n",
      "Location:  San Francisco, California  off by:  1.0986024844720501 %\n",
      "Location:  Irvine, California  off by:  1.3833333333333342 %\n",
      "Location:  Riverside, California  off by:  0.7308593750000014 %\n",
      "Location:  Irvine, California  off by:  0.6069358178053834 %\n",
      "Location:  Irvine, California  off by:  0.7858072916666656 %\n",
      "Location:  Irvine, California  off by:  0.6069358178053834 %\n",
      "Location:  Irvine, California  off by:  0.6069358178053834 %\n",
      "Location:  Los Angeles, California  off by:  0.9725260416666686 %\n",
      "Location:  Irvine, California  off by:  0.6069358178053834 %\n",
      "Location:  Irvine, California  off by:  0.2891176470588226 %\n",
      "Location:  Los Angeles, California  off by:  1.1513975155279508 %\n",
      "Location:  San Diego, California  off by:  0.10693581780538342 %\n",
      "Location:  Riverside, California  off by:  0.7308593750000014 %\n",
      "Location:  San Francisco, California  off by:  1.0986024844720501 %\n",
      "Location:  Irvine, California  off by:  0.7858072916666656 %\n",
      "Location:  San Diego, California  off by:  0.2108823529411774 %\n",
      "Location:  Irvine, California  off by:  0.7858072916666656 %\n",
      "Location:  San Francisco, California  off by:  1.0986024844720501 %\n",
      "Location:  Irvine, California  off by:  0.7858072916666656 %\n"
     ]
    }
   ],
   "source": [
    "for i in range(0, len(y_test)):\n",
    "    if(df_temp[i] == \"San Francisco, California\"):\n",
    "        san_francisco_err = san_francisco_err + abs(Y_predict[i] - y_test[i])\n",
    "    if(df_temp[i] == \"San Diego, California\"):\n",
    "        san_diego_err = san_diego_err + abs(Y_predict[i] - y_test[i])\n",
    "    if(df_temp[i] == \"Riverside, California\"):\n",
    "        riverside_err = riverside_err + abs(Y_predict[i] - y_test[i])\n",
    "    if(df_temp[i] == \"Irvine, California\"):\n",
    "        irvine_err = irvine_err + abs(Y_predict[i] - y_test[i])\n",
    "    if(df_temp[i] == \"Los Angeles, California\"):\n",
    "        los_angeles_err = los_angeles_err + abs(Y_predict[i] - y_test[i])\n",
    "    print(\"Location: \", df_temp[i], \" off by: \", abs(Y_predict[i] - y_test[i]), \"%\")"
   ]
  },
  {
   "cell_type": "code",
   "execution_count": 72,
   "metadata": {},
   "outputs": [
    {
     "data": {
      "text/plain": [
       "<matplotlib.axes._subplots.AxesSubplot at 0x7fc20cb080f0>"
      ]
     },
     "execution_count": 72,
     "metadata": {},
     "output_type": "execute_result"
    },
    {
     "data": {
      "image/png": "[encoded data removed]",
      "text/plain": [
       "<Figure size 432x288 with 1 Axes>"
      ]
     },
     "metadata": {
      "needs_background": "light"
     },
     "output_type": "display_data"
    }
   ],
   "source": [
    "df_errs = pd.DataFrame({'Cities':['Riverside', 'Los Angeles', 'San Diego', 'San Francisco', 'Irvine'], \n",
    "                        'error rate':[riverside_err/len(y_test), los_angeles_err/len(y_test), san_diego_err/len(y_test), san_francisco_err/len(y_test),\n",
    "                              irvine_err/len(y_test)]})\n",
    "df_errs.plot.bar(x='Cities', y='error rate', rot=0)"
   ]
  },
  {
   "cell_type": "code",
   "execution_count": 77,
   "metadata": {},
   "outputs": [],
   "source": [
    "Y_predict = regr_2.predict(X_test)"
   ]
  },
  {
   "cell_type": "code",
   "execution_count": 78,
   "metadata": {},
   "outputs": [
    {
     "name": "stdout",
     "output_type": "stream",
     "text": [
      "Location:  San Diego, California  off by:  0.10693581780538342 %\n",
      "Location:  Los Angeles, California  off by:  1.4692156862745116 %\n",
      "Location:  Irvine, California  off by:  0.6069358178053834 %\n",
      "Location:  Los Angeles, California  off by:  1.4692156862745116 %\n",
      "Location:  Los Angeles, California  off by:  1.4692156862745116 %\n",
      "Location:  San Diego, California  off by:  0.28580729166666563 %\n",
      "Location:  San Francisco, California  off by:  0.7807843137254893 %\n",
      "Location:  San Francisco, California  off by:  1.0986024844720501 %\n",
      "Location:  San Francisco, California  off by:  1.0986024844720501 %\n",
      "Location:  San Francisco, California  off by:  0.7807843137254893 %\n",
      "Location:  San Diego, California  off by:  0.10693581780538342 %\n",
      "Location:  Irvine, California  off by:  0.7858072916666656 %\n",
      "Location:  San Francisco, California  off by:  1.0986024844720501 %\n",
      "Location:  Los Angeles, California  off by:  0.9725260416666686 %\n",
      "Location:  Los Angeles, California  off by:  1.1513975155279508 %\n",
      "Location:  Riverside, California  off by:  0.7308593750000014 %\n",
      "Location:  San Francisco, California  off by:  0.7807843137254893 %\n",
      "Location:  Riverside, California  off by:  0.9097308488612836 %\n",
      "Location:  Irvine, California  off by:  0.6069358178053834 %\n",
      "Location:  San Diego, California  off by:  0.28580729166666563 %\n",
      "Location:  Riverside, California  off by:  0.7308593750000014 %\n",
      "Location:  Riverside, California  off by:  0.7308593750000014 %\n",
      "Location:  San Francisco, California  off by:  1.2774739583333323 %\n",
      "Location:  San Francisco, California  off by:  1.0986024844720501 %\n",
      "Location:  San Francisco, California  off by:  1.0986024844720501 %\n",
      "Location:  Riverside, California  off by:  0.7308593750000014 %\n",
      "Location:  Irvine, California  off by:  0.7858072916666656 %\n",
      "Location:  Irvine, California  off by:  0.7858072916666656 %\n",
      "Location:  Riverside, California  off by:  0.13333333333333286 %\n",
      "Location:  San Francisco, California  off by:  1.0986024844720501 %\n",
      "Location:  Irvine, California  off by:  0.7858072916666656 %\n",
      "Location:  Riverside, California  off by:  0.7308593750000014 %\n",
      "Location:  Irvine, California  off by:  0.7858072916666656 %\n",
      "Location:  San Francisco, California  off by:  0.7807843137254893 %\n",
      "Location:  San Diego, California  off by:  0.10693581780538342 %\n",
      "Location:  Los Angeles, California  off by:  0.9725260416666686 %\n",
      "Location:  San Francisco, California  off by:  1.0986024844720501 %\n",
      "Location:  San Diego, California  off by:  0.10693581780538342 %\n",
      "Location:  Riverside, California  off by:  0.13333333333333286 %\n",
      "Location:  San Diego, California  off by:  0.10693581780538342 %\n",
      "Location:  San Diego, California  off by:  0.28580729166666563 %\n",
      "Location:  San Diego, California  off by:  0.28580729166666563 %\n",
      "Location:  San Francisco, California  off by:  0.7807843137254893 %\n",
      "Location:  Irvine, California  off by:  0.7858072916666656 %\n",
      "Location:  San Diego, California  off by:  0.8833333333333342 %\n",
      "Location:  Riverside, California  off by:  0.9097308488612836 %\n",
      "Location:  Riverside, California  off by:  1.2275490196078445 %\n",
      "Location:  Riverside, California  off by:  0.7308593750000014 %\n",
      "Location:  San Francisco, California  off by:  0.7807843137254893 %\n",
      "Location:  Los Angeles, California  off by:  0.9725260416666686 %\n",
      "Location:  Riverside, California  off by:  0.7308593750000014 %\n",
      "Location:  Irvine, California  off by:  0.6069358178053834 %\n",
      "Location:  Riverside, California  off by:  0.7308593750000014 %\n",
      "Location:  Los Angeles, California  off by:  1.4692156862745116 %\n",
      "Location:  San Francisco, California  off by:  0.7807843137254893 %\n",
      "Location:  Riverside, California  off by:  0.7308593750000014 %\n",
      "Location:  Los Angeles, California  off by:  1.1513975155279508 %\n",
      "Location:  Irvine, California  off by:  0.7858072916666656 %\n",
      "Location:  Los Angeles, California  off by:  0.9725260416666686 %\n",
      "Location:  San Diego, California  off by:  0.2108823529411774 %\n",
      "Location:  Irvine, California  off by:  0.7858072916666656 %\n",
      "Location:  Riverside, California  off by:  0.7308593750000014 %\n",
      "Location:  Los Angeles, California  off by:  1.1513975155279508 %\n",
      "Location:  San Diego, California  off by:  0.28580729166666563 %\n",
      "Location:  Riverside, California  off by:  0.7308593750000014 %\n",
      "Location:  San Francisco, California  off by:  1.0986024844720501 %\n",
      "Location:  San Diego, California  off by:  0.10693581780538342 %\n",
      "Location:  San Diego, California  off by:  0.10693581780538342 %\n",
      "Location:  Los Angeles, California  off by:  1.4692156862745116 %\n",
      "Location:  Riverside, California  off by:  0.13333333333333286 %\n",
      "Location:  Irvine, California  off by:  0.7858072916666656 %\n",
      "Location:  Los Angeles, California  off by:  1.1513975155279508 %\n",
      "Location:  Irvine, California  off by:  0.7858072916666656 %\n",
      "Location:  Irvine, California  off by:  0.7858072916666656 %\n",
      "Location:  San Diego, California  off by:  0.28580729166666563 %\n",
      "Location:  Los Angeles, California  off by:  1.4692156862745116 %\n",
      "Location:  San Diego, California  off by:  0.10693581780538342 %\n",
      "Location:  San Diego, California  off by:  0.28580729166666563 %\n",
      "Location:  Riverside, California  off by:  0.7308593750000014 %\n",
      "Location:  San Diego, California  off by:  0.10693581780538342 %\n",
      "Location:  San Diego, California  off by:  0.10693581780538342 %\n",
      "Location:  Irvine, California  off by:  0.7858072916666656 %\n",
      "Location:  San Francisco, California  off by:  0.7807843137254893 %\n",
      "Location:  San Francisco, California  off by:  1.0986024844720501 %\n",
      "Location:  Irvine, California  off by:  1.3833333333333342 %\n",
      "Location:  Riverside, California  off by:  0.7308593750000014 %\n",
      "Location:  Irvine, California  off by:  0.6069358178053834 %\n",
      "Location:  Irvine, California  off by:  0.7858072916666656 %\n",
      "Location:  Irvine, California  off by:  0.6069358178053834 %\n",
      "Location:  Irvine, California  off by:  0.6069358178053834 %\n",
      "Location:  Los Angeles, California  off by:  0.9725260416666686 %\n",
      "Location:  Irvine, California  off by:  0.6069358178053834 %\n",
      "Location:  Irvine, California  off by:  0.2891176470588226 %\n",
      "Location:  Los Angeles, California  off by:  1.1513975155279508 %\n",
      "Location:  San Diego, California  off by:  0.10693581780538342 %\n",
      "Location:  Riverside, California  off by:  0.7308593750000014 %\n",
      "Location:  San Francisco, California  off by:  1.0986024844720501 %\n",
      "Location:  Irvine, California  off by:  0.7858072916666656 %\n",
      "Location:  San Diego, California  off by:  0.2108823529411774 %\n",
      "Location:  Irvine, California  off by:  0.7858072916666656 %\n",
      "Location:  San Francisco, California  off by:  1.0986024844720501 %\n",
      "Location:  Irvine, California  off by:  0.7858072916666656 %\n"
     ]
    }
   ],
   "source": [
    "for i in range(0, len(y_test)):\n",
    "    if(df_temp[i] == \"San Francisco, California\"):\n",
    "        san_francisco_err = san_francisco_err + abs(Y_predict[i] - y_test[i])\n",
    "    if(df_temp[i] == \"San Diego, California\"):\n",
    "        san_diego_err = san_diego_err + abs(Y_predict[i] - y_test[i])\n",
    "    if(df_temp[i] == \"Riverside, California\"):\n",
    "        riverside_err = riverside_err + abs(Y_predict[i] - y_test[i])\n",
    "    if(df_temp[i] == \"Irvine, California\"):\n",
    "        irvine_err = irvine_err + abs(Y_predict[i] - y_test[i])\n",
    "    if(df_temp[i] == \"Los Angeles, California\"):\n",
    "        los_angeles_err = los_angeles_err + abs(Y_predict[i] - y_test[i])\n",
    "    print(\"Location: \", df_temp[i], \" off by: \", abs(Y_predict[i] - y_test[i]), \"%\")"
   ]
  },
  {
   "cell_type": "code",
   "execution_count": 79,
   "metadata": {},
   "outputs": [
    {
     "data": {
      "text/plain": [
       "<matplotlib.axes._subplots.AxesSubplot at 0x7fc20c9e1f28>"
      ]
     },
     "execution_count": 79,
     "metadata": {},
     "output_type": "execute_result"
    },
    {
     "data": {
      "image/png": "[encoded data removed]",
      "text/plain": [
       "<Figure size 432x288 with 1 Axes>"
      ]
     },
     "metadata": {
      "needs_background": "light"
     },
     "output_type": "display_data"
    }
   ],
   "source": [
    "df_errs = pd.DataFrame({'Cities':['Riverside', 'Los Angeles', 'San Diego', 'San Francisco', 'Irvine'], \n",
    "                        'error rate':[riverside_err/len(y_test), los_angeles_err/len(y_test), san_diego_err/len(y_test), san_francisco_err/len(y_test),\n",
    "                              irvine_err/len(y_test)]})\n",
    "df_errs.plot.bar(x='Cities', y='error rate', rot=0)"
   ]
  },
  {
   "cell_type": "code",
   "execution_count": 83,
   "metadata": {},
   "outputs": [],
   "source": [
    "from sklearn import tree\n",
    "#tree.export_graphviz(regr_2)\n",
    "dotfile = open(\"dtree.dot\", 'w')\n",
    "tree.export_graphviz(regr_2, out_file = dotfile, feature_names = X_train.columns)\n",
    "dotfile.close()\n",
    "\n",
    "#created decision Tree output"
   ]
  },
  {
   "cell_type": "markdown",
   "metadata": {},
   "source": [
    "![](tree.png)"
   ]
  },
  {
   "cell_type": "markdown",
   "metadata": {},
   "source": [
    "## Summary"
   ]
  },
  {
   "cell_type": "markdown",
   "metadata": {},
   "source": [
    "In this phase we have two hypotheses:"
   ]
  },
  {
   "cell_type": "markdown",
   "metadata": {},
   "source": [
    "### Hypotheses 1:"
   ]
  },
  {
   "cell_type": "markdown",
   "metadata": {},
   "source": [
    "For this hypothesis, I have tried to classify two types of profiles, profiles that belong to Riverside/Los Angeles and profiles that belong to Irvine/San Francisco. In other words, the goal is to figure out if certain features are applicable to predicting whether this particular person is from a city with either a low or high unemployment rate.\n",
    "\n",
    "Using a neural net first on small data, it seems that we get a barely better than chance outcome in prediction. This probably corresponds to lacking feature differentiation. People in both types of cities have similar experience, education, or follower count. And of course all of this interacts with Google's PageRank algorithm that gets the top hit sites based on valuable incoming links. This means the profiles we see are the best of each given city. \n",
    "\n",
    "Using CatBoost, we come across a much better algorithm with about 65% accuracy despite the confounding variable of PageRank. This means there may actually be some differentiating factors between both city types. "
   ]
  },
  {
   "cell_type": "markdown",
   "metadata": {},
   "source": [
    "### Hypotheses 2:"
   ]
  },
  {
   "cell_type": "markdown",
   "metadata": {},
   "source": [
    "For this hypotheses, we use our confounding variable knowledge, page rank, and try to predict instead if we can simply predict unemployment rate as a regression problem. Using all 5 cities, we try to capture the error rates of each mis-labeled profile from a given city defined by the sum of difference of predicted and actual. "
   ]
  },
  {
   "cell_type": "markdown",
   "metadata": {},
   "source": [
    "Our first algorithm is our classic linear regression which does better than our regression tree in terms of variance. This may be due to our decision tree finding the best prediction to be closes to the mean of all predictions."
   ]
  }
 ],
 "metadata": {
  "kernelspec": {
   "display_name": "Python 3",
   "language": "python",
   "name": "python3"
  },
  "language_info": {
   "codemirror_mode": {
    "name": "ipython",
    "version": 3
   },
   "file_extension": ".py",
   "mimetype": "text/x-python",
   "name": "python",
   "nbconvert_exporter": "python",
   "pygments_lexer": "ipython3",
   "version": "3.6.8"
  }
 },
 "nbformat": 4,
 "nbformat_minor": 4
}
