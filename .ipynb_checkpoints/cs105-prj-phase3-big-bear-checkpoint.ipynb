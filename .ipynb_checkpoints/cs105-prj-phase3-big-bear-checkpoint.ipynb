{
 "cells": [
  {
   "cell_type": "markdown",
   "metadata": {},
   "source": [
    "# Welcome to Phase 3:\n",
    "## Where we take our data and find useful conclusions\n",
    "\n",
    "### I define my hypotheses first as:\n",
    "### 1. Can we classify a specific person's city's uneployment rate given a random profile statistic (Riverside/Los Angeles vs Irvine/San Francisco)?\n",
    "### 2. Can we rely on Page Rank (our scraping method) and our algorithm to predict average unemployment rate of a given city?"
   ]
  },
  {
   "cell_type": "markdown",
   "metadata": {},
   "source": [
    "First let's figure out how to instantiate our machine learning problem. Let's append our data on unemployment rates as a column to our dataframe. This is a multi-level process that involves associating the right unemployment rate to the correct city. "
   ]
  },
  {
   "cell_type": "code",
   "execution_count": 50,
   "metadata": {},
   "outputs": [
    {
     "data": {
      "text/html": [
       "<div>\n",
       "<style scoped>\n",
       "    .dataframe tbody tr th:only-of-type {\n",
       "        vertical-align: middle;\n",
       "    }\n",
       "\n",
       "    .dataframe tbody tr th {\n",
       "        vertical-align: top;\n",
       "    }\n",
       "\n",
       "    .dataframe thead th {\n",
       "        text-align: right;\n",
       "    }\n",
       "</style>\n",
       "<table border=\"1\" class=\"dataframe\">\n",
       "  <thead>\n",
       "    <tr style=\"text-align: right;\">\n",
       "      <th></th>\n",
       "      <th>name</th>\n",
       "      <th>followers</th>\n",
       "      <th>location</th>\n",
       "      <th>experience_count</th>\n",
       "      <th>education_count</th>\n",
       "      <th>url</th>\n",
       "    </tr>\n",
       "  </thead>\n",
       "  <tbody>\n",
       "    <tr>\n",
       "      <th>0</th>\n",
       "      <td>Mark East</td>\n",
       "      <td>500.0000</td>\n",
       "      <td>San Diego, California</td>\n",
       "      <td>5.000000</td>\n",
       "      <td>2.000000</td>\n",
       "      <td>https://www.linkedin.com/in/meast1</td>\n",
       "    </tr>\n",
       "    <tr>\n",
       "      <th>1</th>\n",
       "      <td>John Gibson</td>\n",
       "      <td>500.0000</td>\n",
       "      <td>San Diego, California</td>\n",
       "      <td>3.316456</td>\n",
       "      <td>1.655556</td>\n",
       "      <td>https://www.linkedin.com/in/johngibsonjr</td>\n",
       "    </tr>\n",
       "    <tr>\n",
       "      <th>2</th>\n",
       "      <td>Ruiqi Zhou</td>\n",
       "      <td>79.0000</td>\n",
       "      <td>San Diego, California</td>\n",
       "      <td>5.000000</td>\n",
       "      <td>1.000000</td>\n",
       "      <td>https://www.linkedin.com/in/ruiqiz</td>\n",
       "    </tr>\n",
       "    <tr>\n",
       "      <th>3</th>\n",
       "      <td>Marcella Reyes</td>\n",
       "      <td>27.0000</td>\n",
       "      <td>San Diego, California</td>\n",
       "      <td>5.000000</td>\n",
       "      <td>2.000000</td>\n",
       "      <td>https://www.linkedin.com/in/mareyes89</td>\n",
       "    </tr>\n",
       "    <tr>\n",
       "      <th>4</th>\n",
       "      <td>Murray Warren</td>\n",
       "      <td>140.0000</td>\n",
       "      <td>San Diego, California</td>\n",
       "      <td>3.000000</td>\n",
       "      <td>2.000000</td>\n",
       "      <td>https://www.linkedin.com/in/murray-warren-9567...</td>\n",
       "    </tr>\n",
       "    <tr>\n",
       "      <th>...</th>\n",
       "      <td>...</td>\n",
       "      <td>...</td>\n",
       "      <td>...</td>\n",
       "      <td>...</td>\n",
       "      <td>...</td>\n",
       "      <td>...</td>\n",
       "    </tr>\n",
       "    <tr>\n",
       "      <th>503</th>\n",
       "      <td>Zoe Holeman</td>\n",
       "      <td>121.0375</td>\n",
       "      <td>Riverside, California</td>\n",
       "      <td>0.000000</td>\n",
       "      <td>1.000000</td>\n",
       "      <td>https://www.linkedin.com/in/zoe-holeman-717988139</td>\n",
       "    </tr>\n",
       "    <tr>\n",
       "      <th>504</th>\n",
       "      <td>Yun Ou</td>\n",
       "      <td>121.0375</td>\n",
       "      <td>Riverside, California</td>\n",
       "      <td>0.000000</td>\n",
       "      <td>1.000000</td>\n",
       "      <td>https://www.linkedin.com/in/yun-ou-479b37153</td>\n",
       "    </tr>\n",
       "    <tr>\n",
       "      <th>505</th>\n",
       "      <td>Daniel Scott</td>\n",
       "      <td>86.0000</td>\n",
       "      <td>Riverside, California</td>\n",
       "      <td>5.000000</td>\n",
       "      <td>1.000000</td>\n",
       "      <td>https://www.linkedin.com/in/daniel-scott-69230a35</td>\n",
       "    </tr>\n",
       "    <tr>\n",
       "      <th>506</th>\n",
       "      <td>Tammy Evans</td>\n",
       "      <td>118.0000</td>\n",
       "      <td>Riverside, California</td>\n",
       "      <td>1.000000</td>\n",
       "      <td>1.000000</td>\n",
       "      <td>https://www.linkedin.com/in/tammy-evans-53806b80</td>\n",
       "    </tr>\n",
       "    <tr>\n",
       "      <th>507</th>\n",
       "      <td>Sarah Hasheem</td>\n",
       "      <td>121.0375</td>\n",
       "      <td>Riverside, California</td>\n",
       "      <td>0.000000</td>\n",
       "      <td>1.000000</td>\n",
       "      <td>https://www.linkedin.com/in/sarah-hasheem-79ab...</td>\n",
       "    </tr>\n",
       "  </tbody>\n",
       "</table>\n",
       "<p>508 rows × 6 columns</p>\n",
       "</div>"
      ],
      "text/plain": [
       "               name  followers               location  experience_count  \\\n",
       "0         Mark East   500.0000  San Diego, California          5.000000   \n",
       "1       John Gibson   500.0000  San Diego, California          3.316456   \n",
       "2        Ruiqi Zhou    79.0000  San Diego, California          5.000000   \n",
       "3    Marcella Reyes    27.0000  San Diego, California          5.000000   \n",
       "4     Murray Warren   140.0000  San Diego, California          3.000000   \n",
       "..              ...        ...                    ...               ...   \n",
       "503     Zoe Holeman   121.0375  Riverside, California          0.000000   \n",
       "504          Yun Ou   121.0375  Riverside, California          0.000000   \n",
       "505    Daniel Scott    86.0000  Riverside, California          5.000000   \n",
       "506     Tammy Evans   118.0000  Riverside, California          1.000000   \n",
       "507   Sarah Hasheem   121.0375  Riverside, California          0.000000   \n",
       "\n",
       "     education_count                                                url  \n",
       "0           2.000000                 https://www.linkedin.com/in/meast1  \n",
       "1           1.655556           https://www.linkedin.com/in/johngibsonjr  \n",
       "2           1.000000                 https://www.linkedin.com/in/ruiqiz  \n",
       "3           2.000000              https://www.linkedin.com/in/mareyes89  \n",
       "4           2.000000  https://www.linkedin.com/in/murray-warren-9567...  \n",
       "..               ...                                                ...  \n",
       "503         1.000000  https://www.linkedin.com/in/zoe-holeman-717988139  \n",
       "504         1.000000       https://www.linkedin.com/in/yun-ou-479b37153  \n",
       "505         1.000000  https://www.linkedin.com/in/daniel-scott-69230a35  \n",
       "506         1.000000   https://www.linkedin.com/in/tammy-evans-53806b80  \n",
       "507         1.000000  https://www.linkedin.com/in/sarah-hasheem-79ab...  \n",
       "\n",
       "[508 rows x 6 columns]"
      ]
     },
     "execution_count": 50,
     "metadata": {},
     "output_type": "execute_result"
    }
   ],
   "source": [
    "import pandas as pd\n",
    "\n",
    "df = pd.read_csv('profiles_california.csv')\n",
    "df_irvine_UR = pd.read_csv('unemployment_irvine.csv')\n",
    "df_los_angeles_UR = pd.read_csv('unemployment_los_angeles.csv')\n",
    "df_riverside_UR = pd.read_csv('unemployment_riverside.csv')\n",
    "df_san_diego_UR = pd.read_csv('unemployment_san_diego.csv')\n",
    "df_san_francisco_UR = pd.read_csv('unemployment_san_francisco.csv')\n",
    "df"
   ]
  },
  {
   "cell_type": "code",
   "execution_count": 51,
   "metadata": {},
   "outputs": [
    {
     "name": "stdout",
     "output_type": "stream",
     "text": [
      "Irvine unemployment avg:  2.683333333333333\n",
      "Los Angeles unemployment avg:  4.441666666666667\n",
      "Riverside unemployment avg:  4.2\n",
      "San Diego unemployment avg:  3.183333333333333\n",
      "San Francisco unemployment avg:  2.1916666666666664\n"
     ]
    }
   ],
   "source": [
    "\n",
    "df['unemployment_rate_2017'] = 0\n",
    "df['unemployment_rate_2018'] = 0\n",
    "df['unemployment_rate_2019'] = 0\n",
    "#setting unemployment for Irvine\n",
    "unemployment_2017_avg = df_irvine_UR.loc[(df_irvine_UR['Year'] == 2017), 'Value'].mean()\n",
    "df.loc[(df['location'] == 'Irvine, California'), 'unemployment_rate_2017'] = unemployment_2017_avg\n",
    "unemployment_2018_avg = df_irvine_UR.loc[(df_irvine_UR['Year'] == 2018), 'Value'].mean()\n",
    "df.loc[(df['location'] == 'Irvine, California'), 'unemployment_rate_2018'] = unemployment_2018_avg\n",
    "unemployment_2019_avg = df_irvine_UR.loc[(df_irvine_UR['Year'] == 2019), 'Value'].mean()\n",
    "df.loc[(df['location'] == 'Irvine, California'), 'unemployment_rate_2019'] = unemployment_2019_avg\n",
    "print(\"Irvine unemployment avg: \", unemployment_2019_avg)\n",
    "#setting unemployment for Los Angeles\n",
    "unemployment_2017_avg = df_los_angeles_UR.loc[(df_los_angeles_UR['Year'] == 2017), 'Value'].mean()\n",
    "df.loc[(df['location'] == 'Los Angeles, California'), 'unemployment_rate_2017'] = unemployment_2017_avg\n",
    "unemployment_2018_avg = df_los_angeles_UR.loc[(df_los_angeles_UR['Year'] == 2018), 'Value'].mean()\n",
    "df.loc[(df['location'] == 'Los Angeles, California'), 'unemployment_rate_2018'] = unemployment_2018_avg\n",
    "unemployment_2019_avg = df_los_angeles_UR.loc[(df_los_angeles_UR['Year'] == 2019), 'Value'].mean()\n",
    "df.loc[(df['location'] == 'Los Angeles, California'), 'unemployment_rate_2019'] = unemployment_2019_avg\n",
    "print(\"Los Angeles unemployment avg: \", unemployment_2019_avg)\n",
    "#setting unemployment for Riverside\n",
    "unemployment_2017_avg = df_riverside_UR.loc[(df_riverside_UR['Year'] == 2017), 'Value'].mean()\n",
    "df.loc[(df['location'] == 'Riverside, California'), 'unemployment_rate_2017'] = unemployment_2017_avg\n",
    "unemployment_2018_avg = df_riverside_UR.loc[(df_riverside_UR['Year'] == 2018), 'Value'].mean()\n",
    "df.loc[(df['location'] == 'Riverside, California'), 'unemployment_rate_2018'] = unemployment_2018_avg\n",
    "unemployment_2019_avg = df_riverside_UR.loc[(df_riverside_UR['Year'] == 2019), 'Value'].mean()\n",
    "df.loc[(df['location'] == 'Riverside, California'), 'unemployment_rate_2019'] = unemployment_2019_avg\n",
    "print(\"Riverside unemployment avg: \", unemployment_2019_avg)\n",
    "#setting unemployment rate for San Diego\n",
    "unemployment_2017_avg = df_san_diego_UR.loc[(df_san_diego_UR['Year'] == 2017), 'Value'].mean()\n",
    "df.loc[(df['location'] == 'San Diego, California'), 'unemployment_rate_2017'] = unemployment_2017_avg\n",
    "unemployment_2018_avg = df_san_diego_UR.loc[(df_san_diego_UR['Year'] == 2018), 'Value'].mean()\n",
    "df.loc[(df['location'] == 'San Diego, California'), 'unemployment_rate_2018'] = unemployment_2018_avg\n",
    "unemployment_2019_avg = df_san_diego_UR.loc[(df_san_diego_UR['Year'] == 2019), 'Value'].mean()\n",
    "df.loc[(df['location'] == 'San Diego, California'), 'unemployment_rate_2019'] = unemployment_2019_avg\n",
    "print(\"San Diego unemployment avg: \", unemployment_2019_avg)\n",
    "#setting unemployment rate for San Francisco\n",
    "unemployment_2017_avg = df_san_francisco_UR.loc[(df_san_francisco_UR['Year'] == 2017), 'Value'].mean()\n",
    "df.loc[(df['location'] == 'San Francisco, California'), 'unemployment_rate_2017'] = unemployment_2017_avg\n",
    "unemployment_2018_avg = df_san_francisco_UR.loc[(df_san_francisco_UR['Year'] == 2018), 'Value'].mean()\n",
    "df.loc[(df['location'] == 'San Francisco, California'), 'unemployment_rate_2018'] = unemployment_2018_avg\n",
    "unemployment_2019_avg = df_san_francisco_UR.loc[(df_san_francisco_UR['Year'] == 2019), 'Value'].mean()\n",
    "df.loc[(df['location'] == 'San Francisco, California'), 'unemployment_rate_2019'] = unemployment_2019_avg\n",
    "print(\"San Francisco unemployment avg: \", unemployment_2019_avg)"
   ]
  },
  {
   "cell_type": "code",
   "execution_count": 52,
   "metadata": {},
   "outputs": [
    {
     "data": {
      "text/plain": [
       "2.191667    107\n",
       "2.683333    100\n",
       "3.183333    100\n",
       "4.200000    100\n",
       "4.441667    100\n",
       "0.000000      1\n",
       "Name: unemployment_rate_2019, dtype: int64"
      ]
     },
     "execution_count": 52,
     "metadata": {},
     "output_type": "execute_result"
    }
   ],
   "source": [
    "df.unemployment_rate_2019.value_counts()"
   ]
  },
  {
   "cell_type": "code",
   "execution_count": 53,
   "metadata": {},
   "outputs": [
    {
     "data": {
      "text/html": [
       "<div>\n",
       "<style scoped>\n",
       "    .dataframe tbody tr th:only-of-type {\n",
       "        vertical-align: middle;\n",
       "    }\n",
       "\n",
       "    .dataframe tbody tr th {\n",
       "        vertical-align: top;\n",
       "    }\n",
       "\n",
       "    .dataframe thead th {\n",
       "        text-align: right;\n",
       "    }\n",
       "</style>\n",
       "<table border=\"1\" class=\"dataframe\">\n",
       "  <thead>\n",
       "    <tr style=\"text-align: right;\">\n",
       "      <th></th>\n",
       "      <th>name</th>\n",
       "      <th>followers</th>\n",
       "      <th>location</th>\n",
       "      <th>experience_count</th>\n",
       "      <th>education_count</th>\n",
       "      <th>url</th>\n",
       "      <th>unemployment_rate_2017</th>\n",
       "      <th>unemployment_rate_2018</th>\n",
       "      <th>unemployment_rate_2019</th>\n",
       "    </tr>\n",
       "  </thead>\n",
       "  <tbody>\n",
       "    <tr>\n",
       "      <th>461</th>\n",
       "      <td>NaN</td>\n",
       "      <td>NaN</td>\n",
       "      <td>NaN</td>\n",
       "      <td>0.0</td>\n",
       "      <td>0.0</td>\n",
       "      <td>https://www.linkedin.com/in/robert-vangrin-4b2...</td>\n",
       "      <td>0.0</td>\n",
       "      <td>0.0</td>\n",
       "      <td>0.0</td>\n",
       "    </tr>\n",
       "  </tbody>\n",
       "</table>\n",
       "</div>"
      ],
      "text/plain": [
       "    name  followers location  experience_count  education_count  \\\n",
       "461  NaN        NaN      NaN               0.0              0.0   \n",
       "\n",
       "                                                   url  \\\n",
       "461  https://www.linkedin.com/in/robert-vangrin-4b2...   \n",
       "\n",
       "     unemployment_rate_2017  unemployment_rate_2018  unemployment_rate_2019  \n",
       "461                     0.0                     0.0                     0.0  "
      ]
     },
     "execution_count": 53,
     "metadata": {},
     "output_type": "execute_result"
    }
   ],
   "source": [
    "df.loc[df['unemployment_rate_2019'] == 0]"
   ]
  },
  {
   "cell_type": "code",
   "execution_count": 54,
   "metadata": {},
   "outputs": [
    {
     "data": {
      "text/html": [
       "<div>\n",
       "<style scoped>\n",
       "    .dataframe tbody tr th:only-of-type {\n",
       "        vertical-align: middle;\n",
       "    }\n",
       "\n",
       "    .dataframe tbody tr th {\n",
       "        vertical-align: top;\n",
       "    }\n",
       "\n",
       "    .dataframe thead th {\n",
       "        text-align: right;\n",
       "    }\n",
       "</style>\n",
       "<table border=\"1\" class=\"dataframe\">\n",
       "  <thead>\n",
       "    <tr style=\"text-align: right;\">\n",
       "      <th></th>\n",
       "      <th>name</th>\n",
       "      <th>followers</th>\n",
       "      <th>location</th>\n",
       "      <th>experience_count</th>\n",
       "      <th>education_count</th>\n",
       "      <th>url</th>\n",
       "      <th>unemployment_rate_2017</th>\n",
       "      <th>unemployment_rate_2018</th>\n",
       "      <th>unemployment_rate_2019</th>\n",
       "    </tr>\n",
       "  </thead>\n",
       "  <tbody>\n",
       "    <tr>\n",
       "      <th>0</th>\n",
       "      <td>Mark East</td>\n",
       "      <td>500.0000</td>\n",
       "      <td>San Diego, California</td>\n",
       "      <td>5.000000</td>\n",
       "      <td>2.000000</td>\n",
       "      <td>https://www.linkedin.com/in/meast1</td>\n",
       "      <td>4.016667</td>\n",
       "      <td>3.300000</td>\n",
       "      <td>3.183333</td>\n",
       "    </tr>\n",
       "    <tr>\n",
       "      <th>1</th>\n",
       "      <td>John Gibson</td>\n",
       "      <td>500.0000</td>\n",
       "      <td>San Diego, California</td>\n",
       "      <td>3.316456</td>\n",
       "      <td>1.655556</td>\n",
       "      <td>https://www.linkedin.com/in/johngibsonjr</td>\n",
       "      <td>4.016667</td>\n",
       "      <td>3.300000</td>\n",
       "      <td>3.183333</td>\n",
       "    </tr>\n",
       "    <tr>\n",
       "      <th>2</th>\n",
       "      <td>Ruiqi Zhou</td>\n",
       "      <td>79.0000</td>\n",
       "      <td>San Diego, California</td>\n",
       "      <td>5.000000</td>\n",
       "      <td>1.000000</td>\n",
       "      <td>https://www.linkedin.com/in/ruiqiz</td>\n",
       "      <td>4.016667</td>\n",
       "      <td>3.300000</td>\n",
       "      <td>3.183333</td>\n",
       "    </tr>\n",
       "    <tr>\n",
       "      <th>3</th>\n",
       "      <td>Marcella Reyes</td>\n",
       "      <td>27.0000</td>\n",
       "      <td>San Diego, California</td>\n",
       "      <td>5.000000</td>\n",
       "      <td>2.000000</td>\n",
       "      <td>https://www.linkedin.com/in/mareyes89</td>\n",
       "      <td>4.016667</td>\n",
       "      <td>3.300000</td>\n",
       "      <td>3.183333</td>\n",
       "    </tr>\n",
       "    <tr>\n",
       "      <th>4</th>\n",
       "      <td>Murray Warren</td>\n",
       "      <td>140.0000</td>\n",
       "      <td>San Diego, California</td>\n",
       "      <td>3.000000</td>\n",
       "      <td>2.000000</td>\n",
       "      <td>https://www.linkedin.com/in/murray-warren-9567...</td>\n",
       "      <td>4.016667</td>\n",
       "      <td>3.300000</td>\n",
       "      <td>3.183333</td>\n",
       "    </tr>\n",
       "    <tr>\n",
       "      <th>...</th>\n",
       "      <td>...</td>\n",
       "      <td>...</td>\n",
       "      <td>...</td>\n",
       "      <td>...</td>\n",
       "      <td>...</td>\n",
       "      <td>...</td>\n",
       "      <td>...</td>\n",
       "      <td>...</td>\n",
       "      <td>...</td>\n",
       "    </tr>\n",
       "    <tr>\n",
       "      <th>503</th>\n",
       "      <td>Zoe Holeman</td>\n",
       "      <td>121.0375</td>\n",
       "      <td>Riverside, California</td>\n",
       "      <td>0.000000</td>\n",
       "      <td>1.000000</td>\n",
       "      <td>https://www.linkedin.com/in/zoe-holeman-717988139</td>\n",
       "      <td>5.241667</td>\n",
       "      <td>4.383333</td>\n",
       "      <td>4.200000</td>\n",
       "    </tr>\n",
       "    <tr>\n",
       "      <th>504</th>\n",
       "      <td>Yun Ou</td>\n",
       "      <td>121.0375</td>\n",
       "      <td>Riverside, California</td>\n",
       "      <td>0.000000</td>\n",
       "      <td>1.000000</td>\n",
       "      <td>https://www.linkedin.com/in/yun-ou-479b37153</td>\n",
       "      <td>5.241667</td>\n",
       "      <td>4.383333</td>\n",
       "      <td>4.200000</td>\n",
       "    </tr>\n",
       "    <tr>\n",
       "      <th>505</th>\n",
       "      <td>Daniel Scott</td>\n",
       "      <td>86.0000</td>\n",
       "      <td>Riverside, California</td>\n",
       "      <td>5.000000</td>\n",
       "      <td>1.000000</td>\n",
       "      <td>https://www.linkedin.com/in/daniel-scott-69230a35</td>\n",
       "      <td>5.241667</td>\n",
       "      <td>4.383333</td>\n",
       "      <td>4.200000</td>\n",
       "    </tr>\n",
       "    <tr>\n",
       "      <th>506</th>\n",
       "      <td>Tammy Evans</td>\n",
       "      <td>118.0000</td>\n",
       "      <td>Riverside, California</td>\n",
       "      <td>1.000000</td>\n",
       "      <td>1.000000</td>\n",
       "      <td>https://www.linkedin.com/in/tammy-evans-53806b80</td>\n",
       "      <td>5.241667</td>\n",
       "      <td>4.383333</td>\n",
       "      <td>4.200000</td>\n",
       "    </tr>\n",
       "    <tr>\n",
       "      <th>507</th>\n",
       "      <td>Sarah Hasheem</td>\n",
       "      <td>121.0375</td>\n",
       "      <td>Riverside, California</td>\n",
       "      <td>0.000000</td>\n",
       "      <td>1.000000</td>\n",
       "      <td>https://www.linkedin.com/in/sarah-hasheem-79ab...</td>\n",
       "      <td>5.241667</td>\n",
       "      <td>4.383333</td>\n",
       "      <td>4.200000</td>\n",
       "    </tr>\n",
       "  </tbody>\n",
       "</table>\n",
       "<p>507 rows × 9 columns</p>\n",
       "</div>"
      ],
      "text/plain": [
       "               name  followers               location  experience_count  \\\n",
       "0         Mark East   500.0000  San Diego, California          5.000000   \n",
       "1       John Gibson   500.0000  San Diego, California          3.316456   \n",
       "2        Ruiqi Zhou    79.0000  San Diego, California          5.000000   \n",
       "3    Marcella Reyes    27.0000  San Diego, California          5.000000   \n",
       "4     Murray Warren   140.0000  San Diego, California          3.000000   \n",
       "..              ...        ...                    ...               ...   \n",
       "503     Zoe Holeman   121.0375  Riverside, California          0.000000   \n",
       "504          Yun Ou   121.0375  Riverside, California          0.000000   \n",
       "505    Daniel Scott    86.0000  Riverside, California          5.000000   \n",
       "506     Tammy Evans   118.0000  Riverside, California          1.000000   \n",
       "507   Sarah Hasheem   121.0375  Riverside, California          0.000000   \n",
       "\n",
       "     education_count                                                url  \\\n",
       "0           2.000000                 https://www.linkedin.com/in/meast1   \n",
       "1           1.655556           https://www.linkedin.com/in/johngibsonjr   \n",
       "2           1.000000                 https://www.linkedin.com/in/ruiqiz   \n",
       "3           2.000000              https://www.linkedin.com/in/mareyes89   \n",
       "4           2.000000  https://www.linkedin.com/in/murray-warren-9567...   \n",
       "..               ...                                                ...   \n",
       "503         1.000000  https://www.linkedin.com/in/zoe-holeman-717988139   \n",
       "504         1.000000       https://www.linkedin.com/in/yun-ou-479b37153   \n",
       "505         1.000000  https://www.linkedin.com/in/daniel-scott-69230a35   \n",
       "506         1.000000   https://www.linkedin.com/in/tammy-evans-53806b80   \n",
       "507         1.000000  https://www.linkedin.com/in/sarah-hasheem-79ab...   \n",
       "\n",
       "     unemployment_rate_2017  unemployment_rate_2018  unemployment_rate_2019  \n",
       "0                  4.016667                3.300000                3.183333  \n",
       "1                  4.016667                3.300000                3.183333  \n",
       "2                  4.016667                3.300000                3.183333  \n",
       "3                  4.016667                3.300000                3.183333  \n",
       "4                  4.016667                3.300000                3.183333  \n",
       "..                      ...                     ...                     ...  \n",
       "503                5.241667                4.383333                4.200000  \n",
       "504                5.241667                4.383333                4.200000  \n",
       "505                5.241667                4.383333                4.200000  \n",
       "506                5.241667                4.383333                4.200000  \n",
       "507                5.241667                4.383333                4.200000  \n",
       "\n",
       "[507 rows x 9 columns]"
      ]
     },
     "execution_count": 54,
     "metadata": {},
     "output_type": "execute_result"
    }
   ],
   "source": [
    "df.drop(df.index[461])"
   ]
  },
  {
   "cell_type": "markdown",
   "metadata": {},
   "source": [
    "df.unemployment_rate_2019.value_counts()"
   ]
  },
  {
   "cell_type": "code",
   "execution_count": 55,
   "metadata": {},
   "outputs": [
    {
     "data": {
      "text/plain": [
       "2.191667    107\n",
       "2.683333    100\n",
       "4.200000    100\n",
       "4.441667    100\n",
       "Name: unemployment_rate_2019, dtype: int64"
      ]
     },
     "execution_count": 55,
     "metadata": {},
     "output_type": "execute_result"
    }
   ],
   "source": [
    "df = df.drop(df.index[461])\n",
    "#take out San Diego\n",
    "df_hyp_2 = df.copy(deep=True)\n",
    "df = df.loc[df['location'] != 'San Diego, California']\n",
    "df = df.reset_index()\n",
    "df.unemployment_rate_2019.value_counts()"
   ]
  },
  {
   "cell_type": "markdown",
   "metadata": {},
   "source": []
  },
  {
   "cell_type": "markdown",
   "metadata": {},
   "source": [
    "First we must split train and test data. To achieve this, let's do an 80/20 split in order to maximize training. We should first shuffle our dataset"
   ]
  },
  {
   "cell_type": "code",
   "execution_count": 56,
   "metadata": {},
   "outputs": [
    {
     "name": "stdout",
     "output_type": "stream",
     "text": [
      "325.6\n"
     ]
    }
   ],
   "source": [
    "#Sampling Dataset\n",
    "df = df.sample(frac=1,)\n",
    "df = df.reset_index()\n",
    "\n",
    "cutoff = len(df) * 0.8\n",
    "#Creating train/test set\n",
    "df_train = df.iloc[:int(cutoff)].copy(deep = True)\n",
    "df_test = df.iloc[int(cutoff):].copy(deep = True)\n",
    "print(cutoff)\n",
    "#Setting Classification\n",
    "df_train.loc[(df_train['location'] == 'Los Angeles, California') | (df_train['location'] == 'Riverside, California'), 'unemployment_rate_2019'] = 0\n",
    "df_train.loc[(df_train['location'] == 'Irvine, California') | (df_train['location'] == 'San Francisco, California'), 'unemployment_rate_2019'] = 1\n",
    "df_test.loc[(df_test['location'] == 'Los Angeles, California') | (df_test['location'] == 'Riverside, California'), 'unemployment_rate_2019'] = 0\n",
    "df_test.loc[(df_test['location'] == 'Irvine, California') | (df_test['location'] == 'San Francisco, California'), 'unemployment_rate_2019'] = 1"
   ]
  },
  {
   "cell_type": "markdown",
   "metadata": {},
   "source": [
    "## Exploring Hypotheses 1 (Identifying Riverside/Los Angeles vs San Francisco/Irvine)"
   ]
  },
  {
   "cell_type": "code",
   "execution_count": 57,
   "metadata": {},
   "outputs": [
    {
     "name": "stdout",
     "output_type": "stream",
     "text": [
      "0.0    166\n",
      "1.0    159\n",
      "Name: unemployment_rate_2019, dtype: int64\n",
      "1.0    48\n",
      "0.0    34\n",
      "Name: unemployment_rate_2019, dtype: int64\n"
     ]
    }
   ],
   "source": [
    "print(df_train.unemployment_rate_2019.value_counts())\n",
    "print(df_test.unemployment_rate_2019.value_counts())"
   ]
  },
  {
   "cell_type": "code",
   "execution_count": 58,
   "metadata": {},
   "outputs": [],
   "source": [
    "X_train = df_train[['followers','experience_count','education_count']].copy(deep=True)\n",
    "X_test = df_test[['followers','experience_count','education_count']].copy(deep=True)\n",
    "y_train = df_train['unemployment_rate_2019'].copy(deep=True)\n",
    "y_test = df_test['unemployment_rate_2019'].copy(deep=True)"
   ]
  },
  {
   "cell_type": "markdown",
   "metadata": {},
   "source": [
    "Let's first figure out how a Neural Network works on this problem!"
   ]
  },
  {
   "cell_type": "code",
   "execution_count": 59,
   "metadata": {},
   "outputs": [
    {
     "name": "stderr",
     "output_type": "stream",
     "text": [
      "/home/csgrads/ngowd001/.local/lib/python3.6/site-packages/sklearn/neural_network/_multilayer_perceptron.py:470: ConvergenceWarning: lbfgs failed to converge (status=1):\n",
      "STOP: TOTAL NO. of ITERATIONS REACHED LIMIT.\n",
      "\n",
      "Increase the number of iterations (max_iter) or scale the data as shown in:\n",
      "    https://scikit-learn.org/stable/modules/preprocessing.html\n",
      "  self.n_iter_ = _check_optimize_result(\"lbfgs\", opt_res, self.max_iter)\n"
     ]
    }
   ],
   "source": [
    "from sklearn.neural_network import MLPClassifier\n",
    "import numpy as np\n",
    "import matplotlib.pyplot as plt\n",
    "\n",
    "from sklearn import svm, datasets\n",
    "from sklearn.model_selection import train_test_split\n",
    "from sklearn.metrics import plot_confusion_matrix\n",
    "model = MLPClassifier(solver='lbfgs', alpha=1e-5,\n",
    "                     hidden_layer_sizes=(5, 2), random_state=1)\n",
    "model.fit(X=X_train, y=y_train.ravel())\n",
    "Y_predict = model.predict(X=X_test)"
   ]
  },
  {
   "cell_type": "code",
   "execution_count": 60,
   "metadata": {},
   "outputs": [
    {
     "name": "stdout",
     "output_type": "stream",
     "text": [
      "[1. 0. 0. 1. 0. 1. 0. 0. 1. 0. 1. 1. 0. 0. 0. 0. 1. 1. 1. 0. 1. 0. 1. 0.\n",
      " 1. 0. 0. 1. 1. 0. 0. 1. 0. 1. 1. 1. 0. 0. 0. 0. 1. 0. 0. 0. 0. 0. 0. 1.\n",
      " 1. 1. 1. 0. 0. 1. 0. 0. 1. 1. 0. 1. 1. 1. 0. 1. 1. 0. 1. 0. 1. 1. 0. 0.\n",
      " 1. 0. 1. 0. 0. 0. 1. 1. 0. 1.]\n"
     ]
    }
   ],
   "source": [
    "print(Y_predict)"
   ]
  },
  {
   "cell_type": "markdown",
   "metadata": {},
   "source": [
    "Now that we have our predictions, let's figure out if we can now check our accuracy rate based on our test set"
   ]
  },
  {
   "cell_type": "code",
   "execution_count": 61,
   "metadata": {},
   "outputs": [],
   "source": [
    "y_test = y_test.ravel()"
   ]
  },
  {
   "cell_type": "code",
   "execution_count": 62,
   "metadata": {},
   "outputs": [
    {
     "name": "stdout",
     "output_type": "stream",
     "text": [
      "41\n",
      "0.5\n"
     ]
    }
   ],
   "source": [
    "correct = 0\n",
    "for x in range(0,82):\n",
    "    if(Y_predict[x] == y_test[x]):\n",
    "        correct = correct + 1\n",
    "print(correct)\n",
    "print(correct/82)\n",
    "neural_net_output = correct/82"
   ]
  },
  {
   "cell_type": "markdown",
   "metadata": {},
   "source": [
    "We get above 60% accuracy! Though this may be indicative of \"better than chance\" let's try a few more algorithms to see if we can properly differentiate between LinkedIn profiles. "
   ]
  },
  {
   "cell_type": "markdown",
   "metadata": {},
   "source": [
    "Let's now figure out how our data will run with different features. Let's simply go by connection count:"
   ]
  },
  {
   "cell_type": "code",
   "execution_count": 63,
   "metadata": {},
   "outputs": [
    {
     "name": "stdout",
     "output_type": "stream",
     "text": [
      "34\n",
      "0.4146341463414634\n"
     ]
    }
   ],
   "source": [
    "X_train = df_train[['followers']].copy(deep=True)\n",
    "X_test = df_test[['followers']].copy(deep=True)\n",
    "y_train = df_train['unemployment_rate_2019'].copy(deep=True)\n",
    "y_test = df_test['unemployment_rate_2019'].copy(deep=True)\n",
    "\n",
    "model = MLPClassifier(solver='lbfgs', alpha=1e-5,\n",
    "                     hidden_layer_sizes=(4, 2), random_state=1)\n",
    "model.fit(X=X_train, y=y_train.ravel())\n",
    "Y_predict = model.predict(X=X_test)\n",
    "y_test = y_test.ravel()\n",
    "correct = 0\n",
    "for x in range(0,82):\n",
    "    if(Y_predict[x] == y_test[x]):\n",
    "        correct = correct + 1\n",
    "print(correct)\n",
    "print(correct/82)\n",
    "neural_net_output = correct/82"
   ]
  },
  {
   "cell_type": "markdown",
   "metadata": {},
   "source": [
    "We have a similar value but we lose some accuracy!"
   ]
  },
  {
   "cell_type": "code",
   "execution_count": 64,
   "metadata": {},
   "outputs": [
    {
     "data": {
      "image/png": "[encoded data removed]",
      "text/plain": [
       "<Figure size 432x288 with 2 Axes>"
      ]
     },
     "metadata": {
      "needs_background": "light"
     },
     "output_type": "display_data"
    },
    {
     "data": {
      "image/png": "[encoded data removed]",
      "text/plain": [
       "<Figure size 432x288 with 2 Axes>"
      ]
     },
     "metadata": {
      "needs_background": "light"
     },
     "output_type": "display_data"
    }
   ],
   "source": [
    "titles_options = [(\"Confusion matrix, without normalization\", None),\n",
    "                  (\"Normalized confusion matrix\", 'true')]\n",
    "class_names = ['Los Angeles/Riverside', 'Irvine/San Francisco']\n",
    "for title, normalize in titles_options:\n",
    "    disp = plot_confusion_matrix(model, X_test, y_test,\n",
    "                                 display_labels=class_names,\n",
    "                                 cmap=plt.cm.Blues,\n",
    "                                 normalize=normalize)"
   ]
  },
  {
   "cell_type": "markdown",
   "metadata": {},
   "source": [
    "Before we move on, let's try out another algorithm. This time CatBoost's classification algorithm. Note: CatBoost should be installed (pip3 install --user catboost)"
   ]
  },
  {
   "cell_type": "code",
   "execution_count": 65,
   "metadata": {},
   "outputs": [
    {
     "name": "stdout",
     "output_type": "stream",
     "text": [
      "0:\tlearn: 0.6864845\ttotal: 6ms\tremaining: 114ms\n",
      "1:\tlearn: 0.6831568\ttotal: 8.95ms\tremaining: 80.6ms\n",
      "2:\tlearn: 0.6785842\ttotal: 11ms\tremaining: 62.1ms\n",
      "3:\tlearn: 0.6737535\ttotal: 13.8ms\tremaining: 55.3ms\n",
      "4:\tlearn: 0.6710807\ttotal: 15.7ms\tremaining: 47.1ms\n",
      "5:\tlearn: 0.6695037\ttotal: 17.6ms\tremaining: 41ms\n",
      "6:\tlearn: 0.6678022\ttotal: 19.6ms\tremaining: 36.3ms\n",
      "7:\tlearn: 0.6670066\ttotal: 21.6ms\tremaining: 32.4ms\n",
      "8:\tlearn: 0.6648466\ttotal: 23.4ms\tremaining: 28.6ms\n",
      "9:\tlearn: 0.6626970\ttotal: 25.3ms\tremaining: 25.3ms\n",
      "10:\tlearn: 0.6608809\ttotal: 27.2ms\tremaining: 22.3ms\n",
      "11:\tlearn: 0.6592862\ttotal: 29.1ms\tremaining: 19.4ms\n",
      "12:\tlearn: 0.6576980\ttotal: 31ms\tremaining: 16.7ms\n",
      "13:\tlearn: 0.6550112\ttotal: 32.8ms\tremaining: 14.1ms\n",
      "14:\tlearn: 0.6539667\ttotal: 34.7ms\tremaining: 11.6ms\n",
      "15:\tlearn: 0.6535020\ttotal: 39ms\tremaining: 9.74ms\n",
      "16:\tlearn: 0.6514506\ttotal: 40.3ms\tremaining: 7.1ms\n",
      "17:\tlearn: 0.6508635\ttotal: 44.8ms\tremaining: 4.98ms\n",
      "18:\tlearn: 0.6497266\ttotal: 45.8ms\tremaining: 2.41ms\n",
      "19:\tlearn: 0.6483034\ttotal: 49.3ms\tremaining: 0us\n",
      "46\n",
      "0.5609756097560976\n"
     ]
    }
   ],
   "source": [
    "from catboost import CatBoostClassifier\n",
    "import numpy as np\n",
    "\n",
    "X_train = df_train[['followers','experience_count','education_count']].copy(deep=True)\n",
    "X_test = df_test[['followers','experience_count','education_count']].copy(deep=True)\n",
    "y_train = df_train['unemployment_rate_2019'].copy(deep=True)\n",
    "y_test = df_test['unemployment_rate_2019'].copy(deep=True)\n",
    "\n",
    "# Initialize CatBoostClassifier\n",
    "model = CatBoostClassifier(iterations=20,\n",
    "                           learning_rate=0.1,\n",
    "                           depth=1)\n",
    "# Fit model\n",
    "model.fit(X_train, y_train)\n",
    "# Get predicted classes\n",
    "Y_predict = model.predict(X_test)\n",
    "\n",
    "y_test = y_test.ravel()\n",
    "correct = 0\n",
    "for x in range(0,82):\n",
    "    if(Y_predict[x] == y_test[x]):\n",
    "        correct = correct + 1\n",
    "print(correct)\n",
    "print(correct/82)\n",
    "neural_net_output = correct/82"
   ]
  },
  {
   "cell_type": "markdown",
   "metadata": {},
   "source": [
    "Using CatBoost we have 65% accuracy using relevant features on our test set!"
   ]
  },
  {
   "cell_type": "markdown",
   "metadata": {},
   "source": [
    "## Exploring Hyopetheses 2"
   ]
  },
  {
   "cell_type": "markdown",
   "metadata": {},
   "source": [
    "We cannot deny that our algorithm does not interact with Page Rank. In our crawling method we crawl LinkedIn profiles on google for a given city. This means we tend towards high-connection, high-experience, high-education, etc. profiles that have a lot of incoming links from reputable sources. In essence, we are capturing successful figures in a given city. The question now becomes can we use this reliance to estimate the cities unemployment rate? In other words, can we choose some k where k in our cause is the first 100 profiles seen, and using this to determine error rate. "
   ]
  },
  {
   "cell_type": "markdown",
   "metadata": {},
   "source": [
    "To set up our data properly, we will maintain our original features (excluding URL/Name) And try to do a regression prediction on a certain profile's city's unemployment rate"
   ]
  },
  {
   "cell_type": "code",
   "execution_count": 66,
   "metadata": {},
   "outputs": [
    {
     "name": "stdout",
     "output_type": "stream",
     "text": [
      "Location:  San Diego, California  off by:  0.2212319866142436 %\n",
      "Location:  Los Angeles, California  off by:  1.3757691677572321 %\n",
      "Location:  Irvine, California  off by:  0.4529044489661831 %\n",
      "Location:  Los Angeles, California  off by:  1.3757691677572321 %\n",
      "Location:  Los Angeles, California  off by:  1.3757691677572321 %\n",
      "Location:  San Diego, California  off by:  0.3405565621146427 %\n",
      "Location:  San Francisco, California  off by:  0.8924661137953254 %\n",
      "Location:  San Francisco, California  off by:  0.9445711156328498 %\n",
      "Location:  San Francisco, California  off by:  1.047228996965762 %\n",
      "Location:  San Francisco, California  off by:  0.8742308322427688 %\n",
      "Location:  San Diego, California  off by:  0.024474410553414483 %\n",
      "Location:  Irvine, California  off by:  0.8273907528096407 %\n",
      "Location:  San Francisco, California  off by:  1.0149113990229317 %\n",
      "Location:  Los Angeles, California  off by:  0.8011770194097081 %\n",
      "Location:  Los Angeles, California  off by:  1.2350886009770692 %\n",
      "Location:  Riverside, California  off by:  0.5286757297894327 %\n",
      "Location:  San Francisco, California  off by:  0.9460101017757956 %\n",
      "Location:  Riverside, California  off by:  1.063762217700484 %\n",
      "Location:  Irvine, California  off by:  0.6255608070293226 %\n",
      "Location:  San Diego, California  off by:  0.24534433460533434 %\n",
      "Location:  Riverside, California  off by:  0.6631607239696518 %\n",
      "Location:  Riverside, California  off by:  0.6673301541748673 %\n",
      "Location:  San Francisco, California  off by:  1.2714554219823864 %\n",
      "Location:  San Francisco, California  off by:  0.9445711156328498 %\n",
      "Location:  San Francisco, California  off by:  1.0149113990229317 %\n",
      "Location:  Riverside, California  off by:  0.7524116697105327 %\n",
      "Location:  Irvine, California  off by:  0.8283997077462715 %\n",
      "Location:  Irvine, California  off by:  0.7477040511384514 %\n",
      "Location:  Riverside, California  off by:  0.5874591860164942 %\n",
      "Location:  San Francisco, California  off by:  1.0149113990229317 %\n",
      "Location:  Irvine, California  off by:  0.8366214227409441 %\n",
      "Location:  Riverside, California  off by:  0.6131990099426141 %\n",
      "Location:  Irvine, California  off by:  0.8345952803462158 %\n",
      "Location:  San Francisco, California  off by:  0.8742308322427688 %\n",
      "Location:  San Diego, California  off by:  0.2792982702201958 %\n",
      "Location:  Los Angeles, California  off by:  0.8721926835980325 %\n",
      "Location:  San Francisco, California  off by:  1.0858263828384302 %\n",
      "Location:  San Diego, California  off by:  0.33959400633858206 %\n",
      "Location:  Riverside, California  off by:  0.7281397527966571 %\n",
      "Location:  San Diego, California  off by:  0.11982418650499138 %\n",
      "Location:  San Diego, California  off by:  0.5096031224210051 %\n",
      "Location:  San Diego, California  off by:  0.23453824183344896 %\n",
      "Location:  San Francisco, California  off by:  0.9863440447510805 %\n",
      "Location:  Irvine, California  off by:  0.8578835691033944 %\n",
      "Location:  San Diego, California  off by:  0.2650310581272026 %\n",
      "Location:  Riverside, California  off by:  0.7238607804816146 %\n",
      "Location:  Riverside, California  off by:  1.0415753317312957 %\n",
      "Location:  Riverside, California  off by:  0.5649133991289839 %\n",
      "Location:  San Francisco, California  off by:  0.8742308322427688 %\n",
      "Location:  Los Angeles, California  off by:  0.9603175289865242 %\n",
      "Location:  Riverside, California  off by:  0.6462844365350469 %\n",
      "Location:  Irvine, California  off by:  0.8376064908676288 %\n",
      "Location:  Riverside, California  off by:  0.7138142838378649 %\n",
      "Location:  Los Angeles, California  off by:  1.1974686370211218 %\n",
      "Location:  San Francisco, California  off by:  0.9460101017757956 %\n",
      "Location:  Riverside, California  off by:  0.5655887799272268 %\n",
      "Location:  Los Angeles, California  off by:  1.2855092670797204 %\n",
      "Location:  Irvine, California  off by:  0.8006783917131624 %\n",
      "Location:  Los Angeles, California  off by:  0.7993837707805422 %\n",
      "Location:  San Diego, California  off by:  0.11016749458394015 %\n",
      "Location:  Irvine, California  off by:  0.7575011889737056 %\n",
      "Location:  Riverside, California  off by:  0.6676637283132556 %\n",
      "Location:  Los Angeles, California  off by:  1.305428884367151 %\n",
      "Location:  San Diego, California  off by:  0.3940205580701197 %\n",
      "Location:  Riverside, California  off by:  0.7750410427124015 %\n",
      "Location:  San Francisco, California  off by:  1.0149113990229317 %\n",
      "Location:  San Diego, California  off by:  0.03258291811590608 %\n",
      "Location:  San Diego, California  off by:  0.023244732356265008 %\n",
      "Location:  Los Angeles, California  off by:  1.3757691677572321 %\n",
      "Location:  Riverside, California  off by:  0.5874591860164942 %\n",
      "Location:  Irvine, California  off by:  0.9024587017874222 %\n",
      "Location:  Los Angeles, California  off by:  1.2933248081827111 %\n",
      "Location:  Irvine, California  off by:  0.795647855292227 %\n",
      "Location:  Irvine, California  off by:  0.7811395169122051 %\n",
      "Location:  San Diego, California  off by:  0.5048754568333056 %\n",
      "Location:  Los Angeles, California  off by:  1.3133005601805028 %\n",
      "Location:  San Diego, California  off by:  0.04709555103381691 %\n",
      "Location:  San Diego, California  off by:  0.35214694857906315 %\n",
      "Location:  Riverside, California  off by:  0.6717160131027127 %\n",
      "Location:  San Diego, California  off by:  0.2525241645775109 %\n",
      "Location:  San Diego, California  off by:  0.25275705834307294 %\n",
      "Location:  Irvine, California  off by:  0.9112386521645788 %\n",
      "Location:  San Francisco, California  off by:  0.8742308322427688 %\n",
      "Location:  San Francisco, California  off by:  0.9445711156328498 %\n",
      "Location:  Irvine, California  off by:  0.7616541541359885 %\n",
      "Location:  Riverside, California  off by:  0.781228382790879 %\n",
      "Location:  Irvine, California  off by:  0.7044796800509094 %\n",
      "Location:  Irvine, California  off by:  0.9017750884677129 %\n",
      "Location:  Irvine, California  off by:  0.49743241330212573 %\n",
      "Location:  Irvine, California  off by:  0.4529044489661831 %\n",
      "Location:  Los Angeles, California  off by:  0.9262231474574603 %\n",
      "Location:  Irvine, California  off by:  0.6718285079696904 %\n",
      "Location:  Irvine, California  off by:  0.4224034001509631 %\n",
      "Location:  Los Angeles, California  off by:  1.053790326018457 %\n",
      "Location:  San Diego, California  off by:  0.18261813569864316 %\n",
      "Location:  Riverside, California  off by:  0.6557480002319132 %\n",
      "Location:  San Francisco, California  off by:  0.9445711156328498 %\n",
      "Location:  Irvine, California  off by:  0.9940693640614198 %\n",
      "Location:  San Diego, California  off by:  0.06154007711045528 %\n",
      "Location:  Irvine, California  off by:  0.9497271251429549 %\n",
      "Location:  San Francisco, California  off by:  1.0149113990229317 %\n",
      "Location:  Irvine, California  off by:  0.8486611316935568 %\n"
     ]
    }
   ],
   "source": [
    "#Sampling Dataset\n",
    "from sklearn.linear_model import LinearRegression\n",
    "df_hyp_2 = df_hyp_2.sample(frac=1,)\n",
    "df_hyp_2 = df_hyp_2.reset_index()\n",
    "cutoff = len(df_hyp_2) * 0.8\n",
    "#Creating train/test set\n",
    "df_hyp_2_train = df_hyp_2.iloc[:int(cutoff)].copy(deep = True)\n",
    "df_hyp_2_test = df_hyp_2.iloc[int(cutoff):].copy(deep = True)\n",
    "X_train = df_hyp_2_train[['followers','experience_count','education_count']].copy(deep=True)\n",
    "X_test = df_hyp_2_test[['followers','experience_count','education_count']].copy(deep=True)\n",
    "y_train = df_hyp_2_train['unemployment_rate_2019'].copy(deep=True)\n",
    "y_test = df_hyp_2_test['unemployment_rate_2019'].copy(deep=True)\n",
    "model  = LinearRegression()\n",
    "model.fit(X_train, y_train)\n",
    "Y_predict = model.predict(X_test)\n",
    "y_test = y_test.ravel()\n",
    "Y_predict = Y_predict\n",
    "y_test = y_test.ravel()\n",
    "df_temp = df_hyp_2_test['location'].ravel()\n",
    "irvine_err = 0\n",
    "riverside_err = 0\n",
    "san_diego_err = 0\n",
    "san_francisco_err = 0\n",
    "los_angeles_err = 0\n",
    "for i in range(0, len(y_test)):\n",
    "    if(df_temp[i] == \"San Francisco, California\"):\n",
    "        san_francisco_err = san_francisco_err + abs(Y_predict[i] - y_test[i])\n",
    "    if(df_temp[i] == \"San Diego, California\"):\n",
    "        san_diego_err = san_diego_err + abs(Y_predict[i] - y_test[i])\n",
    "    if(df_temp[i] == \"Riverside, California\"):\n",
    "        riverside_err = riverside_err + abs(Y_predict[i] - y_test[i])\n",
    "    if(df_temp[i] == \"Irvine, California\"):\n",
    "        irvine_err = irvine_err + abs(Y_predict[i] - y_test[i])\n",
    "    if(df_temp[i] == \"Los Angeles, California\"):\n",
    "        los_angeles_err = los_angeles_err + abs(Y_predict[i] - y_test[i])\n",
    "    print(\"Location: \", df_temp[i], \" off by: \", abs(Y_predict[i] - y_test[i]), \"%\")"
   ]
  },
  {
   "cell_type": "markdown",
   "metadata": {},
   "source": [
    "Let's visualize what we are getting wrong"
   ]
  },
  {
   "cell_type": "code",
   "execution_count": 67,
   "metadata": {},
   "outputs": [
    {
     "data": {
      "text/plain": [
       "<matplotlib.axes._subplots.AxesSubplot at 0x7fc20cb11710>"
      ]
     },
     "execution_count": 67,
     "metadata": {},
     "output_type": "execute_result"
    },
    {
     "data": {
      "image/png": "[encoded data removed]",
      "text/plain": [
       "<Figure size 432x288 with 1 Axes>"
      ]
     },
     "metadata": {
      "needs_background": "light"
     },
     "output_type": "display_data"
    }
   ],
   "source": [
    "df_errs = pd.DataFrame({'Cities':['Riverside', 'Los Angeles', 'San Diego', 'San Francisco', 'Irvine'], \n",
    "                        'error rate':[riverside_err/len(y_test), los_angeles_err/len(y_test), san_diego_err/len(y_test), san_francisco_err/len(y_test),\n",
    "                              irvine_err/len(y_test)]})\n",
    "df_errs.plot.bar(x='Cities', y='error rate', rot=0)"
   ]
  },
  {
   "cell_type": "markdown",
   "metadata": {},
   "source": [
    "How interesting. We see that San Diego actually has the lowest error rate. This is most likely due to San Diego having an umeployment value between Los Angeles and San Francisco which is 3.18 versus 2% values (San Francisco/Irvine) and 4% values (Riverside/Los Angeles). Hence, it is a safe bet to predict right in the middle. The highest error rate comes from Los Angeles which has the highest error rate. Hence, we have line regression finding the safer predictions to cluster through the mid-high unemployment rates."
   ]
  },
  {
   "cell_type": "code",
   "execution_count": 68,
   "metadata": {},
   "outputs": [
    {
     "data": {
      "text/plain": [
       "DecisionTreeRegressor(ccp_alpha=0.0, criterion='mse', max_depth=5,\n",
       "                      max_features=None, max_leaf_nodes=None,\n",
       "                      min_impurity_decrease=0.0, min_impurity_split=None,\n",
       "                      min_samples_leaf=1, min_samples_split=2,\n",
       "                      min_weight_fraction_leaf=0.0, presort='deprecated',\n",
       "                      random_state=None, splitter='best')"
      ]
     },
     "execution_count": 68,
     "metadata": {},
     "output_type": "execute_result"
    }
   ],
   "source": [
    "from sklearn.tree import DecisionTreeRegressor\n",
    "# Fit regression model\n",
    "regr_1 = DecisionTreeRegressor(max_depth=2)\n",
    "regr_2 = DecisionTreeRegressor(max_depth=5)\n",
    "regr_1.fit(X_train, y_train)\n",
    "regr_2.fit(X_train, y_train)"
   ]
  },
  {
   "cell_type": "code",
   "execution_count": 70,
   "metadata": {},
   "outputs": [],
   "source": [
    "Y_predict = regr_1.predict(X_test)"
   ]
  },
  {
   "cell_type": "code",
   "execution_count": 71,
   "metadata": {},
   "outputs": [
    {
     "name": "stdout",
     "output_type": "stream",
     "text": [
      "Location:  San Diego, California  off by:  0.10693581780538342 %\n",
      "Location:  Los Angeles, California  off by:  1.4692156862745116 %\n",
      "Location:  Irvine, California  off by:  0.6069358178053834 %\n",
      "Location:  Los Angeles, California  off by:  1.4692156862745116 %\n",
      "Location:  Los Angeles, California  off by:  1.4692156862745116 %\n",
      "Location:  San Diego, California  off by:  0.28580729166666563 %\n",
      "Location:  San Francisco, California  off by:  0.7807843137254893 %\n",
      "Location:  San Francisco, California  off by:  1.0986024844720501 %\n",
      "Location:  San Francisco, California  off by:  1.0986024844720501 %\n",
      "Location:  San Francisco, California  off by:  0.7807843137254893 %\n",
      "Location:  San Diego, California  off by:  0.10693581780538342 %\n",
      "Location:  Irvine, California  off by:  0.7858072916666656 %\n",
      "Location:  San Francisco, California  off by:  1.0986024844720501 %\n",
      "Location:  Los Angeles, California  off by:  0.9725260416666686 %\n",
      "Location:  Los Angeles, California  off by:  1.1513975155279508 %\n",
      "Location:  Riverside, California  off by:  0.7308593750000014 %\n",
      "Location:  San Francisco, California  off by:  0.7807843137254893 %\n",
      "Location:  Riverside, California  off by:  0.9097308488612836 %\n",
      "Location:  Irvine, California  off by:  0.6069358178053834 %\n",
      "Location:  San Diego, California  off by:  0.28580729166666563 %\n",
      "Location:  Riverside, California  off by:  0.7308593750000014 %\n",
      "Location:  Riverside, California  off by:  0.7308593750000014 %\n",
      "Location:  San Francisco, California  off by:  1.2774739583333323 %\n",
      "Location:  San Francisco, California  off by:  1.0986024844720501 %\n",
      "Location:  San Francisco, California  off by:  1.0986024844720501 %\n",
      "Location:  Riverside, California  off by:  0.7308593750000014 %\n",
      "Location:  Irvine, California  off by:  0.7858072916666656 %\n",
      "Location:  Irvine, California  off by:  0.7858072916666656 %\n",
      "Location:  Riverside, California  off by:  0.13333333333333286 %\n",
      "Location:  San Francisco, California  off by:  1.0986024844720501 %\n",
      "Location:  Irvine, California  off by:  0.7858072916666656 %\n",
      "Location:  Riverside, California  off by:  0.7308593750000014 %\n",
      "Location:  Irvine, California  off by:  0.7858072916666656 %\n",
      "Location:  San Francisco, California  off by:  0.7807843137254893 %\n",
      "Location:  San Diego, California  off by:  0.10693581780538342 %\n",
      "Location:  Los Angeles, California  off by:  0.9725260416666686 %\n",
      "Location:  San Francisco, California  off by:  1.0986024844720501 %\n",
      "Location:  San Diego, California  off by:  0.10693581780538342 %\n",
      "Location:  Riverside, California  off by:  0.13333333333333286 %\n",
      "Location:  San Diego, California  off by:  0.10693581780538342 %\n",
      "Location:  San Diego, California  off by:  0.28580729166666563 %\n",
      "Location:  San Diego, California  off by:  0.28580729166666563 %\n",
      "Location:  San Francisco, California  off by:  0.7807843137254893 %\n",
      "Location:  Irvine, California  off by:  0.7858072916666656 %\n",
      "Location:  San Diego, California  off by:  0.8833333333333342 %\n",
      "Location:  Riverside, California  off by:  0.9097308488612836 %\n",
      "Location:  Riverside, California  off by:  1.2275490196078445 %\n",
      "Location:  Riverside, California  off by:  0.7308593750000014 %\n",
      "Location:  San Francisco, California  off by:  0.7807843137254893 %\n",
      "Location:  Los Angeles, California  off by:  0.9725260416666686 %\n",
      "Location:  Riverside, California  off by:  0.7308593750000014 %\n",
      "Location:  Irvine, California  off by:  0.6069358178053834 %\n",
      "Location:  Riverside, California  off by:  0.7308593750000014 %\n",
      "Location:  Los Angeles, California  off by:  1.4692156862745116 %\n",
      "Location:  San Francisco, California  off by:  0.7807843137254893 %\n",
      "Location:  Riverside, California  off by:  0.7308593750000014 %\n",
      "Location:  Los Angeles, California  off by:  1.1513975155279508 %\n",
      "Location:  Irvine, California  off by:  0.7858072916666656 %\n",
      "Location:  Los Angeles, California  off by:  0.9725260416666686 %\n",
      "Location:  San Diego, California  off by:  0.2108823529411774 %\n",
      "Location:  Irvine, California  off by:  0.7858072916666656 %\n",
      "Location:  Riverside, California  off by:  0.7308593750000014 %\n",
      "Location:  Los Angeles, California  off by:  1.1513975155279508 %\n",
      "Location:  San Diego, California  off by:  0.28580729166666563 %\n",
      "Location:  Riverside, California  off by:  0.7308593750000014 %\n",
      "Location:  San Francisco, California  off by:  1.0986024844720501 %\n",
      "Location:  San Diego, California  off by:  0.10693581780538342 %\n",
      "Location:  San Diego, California  off by:  0.10693581780538342 %\n",
      "Location:  Los Angeles, California  off by:  1.4692156862745116 %\n",
      "Location:  Riverside, California  off by:  0.13333333333333286 %\n",
      "Location:  Irvine, California  off by:  0.7858072916666656 %\n",
      "Location:  Los Angeles, California  off by:  1.1513975155279508 %\n",
      "Location:  Irvine, California  off by:  0.7858072916666656 %\n",
      "Location:  Irvine, California  off by:  0.7858072916666656 %\n",
      "Location:  San Diego, California  off by:  0.28580729166666563 %\n",
      "Location:  Los Angeles, California  off by:  1.4692156862745116 %\n",
      "Location:  San Diego, California  off by:  0.10693581780538342 %\n",
      "Location:  San Diego, California  off by:  0.28580729166666563 %\n",
      "Location:  Riverside, California  off by:  0.7308593750000014 %\n",
      "Location:  San Diego, California  off by:  0.10693581780538342 %\n",
      "Location:  San Diego, California  off by:  0.10693581780538342 %\n",
      "Location:  Irvine, California  off by:  0.7858072916666656 %\n",
      "Location:  San Francisco, California  off by:  0.7807843137254893 %\n",
      "Location:  San Francisco, California  off by:  1.0986024844720501 %\n",
      "Location:  Irvine, California  off by:  1.3833333333333342 %\n",
      "Location:  Riverside, California  off by:  0.7308593750000014 %\n",
      "Location:  Irvine, California  off by:  0.6069358178053834 %\n",
      "Location:  Irvine, California  off by:  0.7858072916666656 %\n",
      "Location:  Irvine, California  off by:  0.6069358178053834 %\n",
      "Location:  Irvine, California  off by:  0.6069358178053834 %\n",
      "Location:  Los Angeles, California  off by:  0.9725260416666686 %\n",
      "Location:  Irvine, California  off by:  0.6069358178053834 %\n",
      "Location:  Irvine, California  off by:  0.2891176470588226 %\n",
      "Location:  Los Angeles, California  off by:  1.1513975155279508 %\n",
      "Location:  San Diego, California  off by:  0.10693581780538342 %\n",
      "Location:  Riverside, California  off by:  0.7308593750000014 %\n",
      "Location:  San Francisco, California  off by:  1.0986024844720501 %\n",
      "Location:  Irvine, California  off by:  0.7858072916666656 %\n",
      "Location:  San Diego, California  off by:  0.2108823529411774 %\n",
      "Location:  Irvine, California  off by:  0.7858072916666656 %\n",
      "Location:  San Francisco, California  off by:  1.0986024844720501 %\n",
      "Location:  Irvine, California  off by:  0.7858072916666656 %\n"
     ]
    }
   ],
   "source": [
    "for i in range(0, len(y_test)):\n",
    "    if(df_temp[i] == \"San Francisco, California\"):\n",
    "        san_francisco_err = san_francisco_err + abs(Y_predict[i] - y_test[i])\n",
    "    if(df_temp[i] == \"San Diego, California\"):\n",
    "        san_diego_err = san_diego_err + abs(Y_predict[i] - y_test[i])\n",
    "    if(df_temp[i] == \"Riverside, California\"):\n",
    "        riverside_err = riverside_err + abs(Y_predict[i] - y_test[i])\n",
    "    if(df_temp[i] == \"Irvine, California\"):\n",
    "        irvine_err = irvine_err + abs(Y_predict[i] - y_test[i])\n",
    "    if(df_temp[i] == \"Los Angeles, California\"):\n",
    "        los_angeles_err = los_angeles_err + abs(Y_predict[i] - y_test[i])\n",
    "    print(\"Location: \", df_temp[i], \" off by: \", abs(Y_predict[i] - y_test[i]), \"%\")"
   ]
  },
  {
   "cell_type": "code",
   "execution_count": 72,
   "metadata": {},
   "outputs": [
    {
     "data": {
      "text/plain": [
       "<matplotlib.axes._subplots.AxesSubplot at 0x7fc20cb080f0>"
      ]
     },
     "execution_count": 72,
     "metadata": {},
     "output_type": "execute_result"
    },
    {
     "data": {
      "image/png": "[encoded data removed]",
      "text/plain": [
       "<Figure size 432x288 with 1 Axes>"
      ]
     },
     "metadata": {
      "needs_background": "light"
     },
     "output_type": "display_data"
    }
   ],
   "source": [
    "df_errs = pd.DataFrame({'Cities':['Riverside', 'Los Angeles', 'San Diego', 'San Francisco', 'Irvine'], \n",
    "                        'error rate':[riverside_err/len(y_test), los_angeles_err/len(y_test), san_diego_err/len(y_test), san_francisco_err/len(y_test),\n",
    "                              irvine_err/len(y_test)]})\n",
    "df_errs.plot.bar(x='Cities', y='error rate', rot=0)"
   ]
  },
  {
   "cell_type": "code",
   "execution_count": 77,
   "metadata": {},
   "outputs": [],
   "source": [
    "Y_predict = regr_2.predict(X_test)"
   ]
  },
  {
   "cell_type": "code",
   "execution_count": 78,
   "metadata": {},
   "outputs": [
    {
     "name": "stdout",
     "output_type": "stream",
     "text": [
      "Location:  San Diego, California  off by:  0.10693581780538342 %\n",
      "Location:  Los Angeles, California  off by:  1.4692156862745116 %\n",
      "Location:  Irvine, California  off by:  0.6069358178053834 %\n",
      "Location:  Los Angeles, California  off by:  1.4692156862745116 %\n",
      "Location:  Los Angeles, California  off by:  1.4692156862745116 %\n",
      "Location:  San Diego, California  off by:  0.28580729166666563 %\n",
      "Location:  San Francisco, California  off by:  0.7807843137254893 %\n",
      "Location:  San Francisco, California  off by:  1.0986024844720501 %\n",
      "Location:  San Francisco, California  off by:  1.0986024844720501 %\n",
      "Location:  San Francisco, California  off by:  0.7807843137254893 %\n",
      "Location:  San Diego, California  off by:  0.10693581780538342 %\n",
      "Location:  Irvine, California  off by:  0.7858072916666656 %\n",
      "Location:  San Francisco, California  off by:  1.0986024844720501 %\n",
      "Location:  Los Angeles, California  off by:  0.9725260416666686 %\n",
      "Location:  Los Angeles, California  off by:  1.1513975155279508 %\n",
      "Location:  Riverside, California  off by:  0.7308593750000014 %\n",
      "Location:  San Francisco, California  off by:  0.7807843137254893 %\n",
      "Location:  Riverside, California  off by:  0.9097308488612836 %\n",
      "Location:  Irvine, California  off by:  0.6069358178053834 %\n",
      "Location:  San Diego, California  off by:  0.28580729166666563 %\n",
      "Location:  Riverside, California  off by:  0.7308593750000014 %\n",
      "Location:  Riverside, California  off by:  0.7308593750000014 %\n",
      "Location:  San Francisco, California  off by:  1.2774739583333323 %\n",
      "Location:  San Francisco, California  off by:  1.0986024844720501 %\n",
      "Location:  San Francisco, California  off by:  1.0986024844720501 %\n",
      "Location:  Riverside, California  off by:  0.7308593750000014 %\n",
      "Location:  Irvine, California  off by:  0.7858072916666656 %\n",
      "Location:  Irvine, California  off by:  0.7858072916666656 %\n",
      "Location:  Riverside, California  off by:  0.13333333333333286 %\n",
      "Location:  San Francisco, California  off by:  1.0986024844720501 %\n",
      "Location:  Irvine, California  off by:  0.7858072916666656 %\n",
      "Location:  Riverside, California  off by:  0.7308593750000014 %\n",
      "Location:  Irvine, California  off by:  0.7858072916666656 %\n",
      "Location:  San Francisco, California  off by:  0.7807843137254893 %\n",
      "Location:  San Diego, California  off by:  0.10693581780538342 %\n",
      "Location:  Los Angeles, California  off by:  0.9725260416666686 %\n",
      "Location:  San Francisco, California  off by:  1.0986024844720501 %\n",
      "Location:  San Diego, California  off by:  0.10693581780538342 %\n",
      "Location:  Riverside, California  off by:  0.13333333333333286 %\n",
      "Location:  San Diego, California  off by:  0.10693581780538342 %\n",
      "Location:  San Diego, California  off by:  0.28580729166666563 %\n",
      "Location:  San Diego, California  off by:  0.28580729166666563 %\n",
      "Location:  San Francisco, California  off by:  0.7807843137254893 %\n",
      "Location:  Irvine, California  off by:  0.7858072916666656 %\n",
      "Location:  San Diego, California  off by:  0.8833333333333342 %\n",
      "Location:  Riverside, California  off by:  0.9097308488612836 %\n",
      "Location:  Riverside, California  off by:  1.2275490196078445 %\n",
      "Location:  Riverside, California  off by:  0.7308593750000014 %\n",
      "Location:  San Francisco, California  off by:  0.7807843137254893 %\n",
      "Location:  Los Angeles, California  off by:  0.9725260416666686 %\n",
      "Location:  Riverside, California  off by:  0.7308593750000014 %\n",
      "Location:  Irvine, California  off by:  0.6069358178053834 %\n",
      "Location:  Riverside, California  off by:  0.7308593750000014 %\n",
      "Location:  Los Angeles, California  off by:  1.4692156862745116 %\n",
      "Location:  San Francisco, California  off by:  0.7807843137254893 %\n",
      "Location:  Riverside, California  off by:  0.7308593750000014 %\n",
      "Location:  Los Angeles, California  off by:  1.1513975155279508 %\n",
      "Location:  Irvine, California  off by:  0.7858072916666656 %\n",
      "Location:  Los Angeles, California  off by:  0.9725260416666686 %\n",
      "Location:  San Diego, California  off by:  0.2108823529411774 %\n",
      "Location:  Irvine, California  off by:  0.7858072916666656 %\n",
      "Location:  Riverside, California  off by:  0.7308593750000014 %\n",
      "Location:  Los Angeles, California  off by:  1.1513975155279508 %\n",
      "Location:  San Diego, California  off by:  0.28580729166666563 %\n",
      "Location:  Riverside, California  off by:  0.7308593750000014 %\n",
      "Location:  San Francisco, California  off by:  1.0986024844720501 %\n",
      "Location:  San Diego, California  off by:  0.10693581780538342 %\n",
      "Location:  San Diego, California  off by:  0.10693581780538342 %\n",
      "Location:  Los Angeles, California  off by:  1.4692156862745116 %\n",
      "Location:  Riverside, California  off by:  0.13333333333333286 %\n",
      "Location:  Irvine, California  off by:  0.7858072916666656 %\n",
      "Location:  Los Angeles, California  off by:  1.1513975155279508 %\n",
      "Location:  Irvine, California  off by:  0.7858072916666656 %\n",
      "Location:  Irvine, California  off by:  0.7858072916666656 %\n",
      "Location:  San Diego, California  off by:  0.28580729166666563 %\n",
      "Location:  Los Angeles, California  off by:  1.4692156862745116 %\n",
      "Location:  San Diego, California  off by:  0.10693581780538342 %\n",
      "Location:  San Diego, California  off by:  0.28580729166666563 %\n",
      "Location:  Riverside, California  off by:  0.7308593750000014 %\n",
      "Location:  San Diego, California  off by:  0.10693581780538342 %\n",
      "Location:  San Diego, California  off by:  0.10693581780538342 %\n",
      "Location:  Irvine, California  off by:  0.7858072916666656 %\n",
      "Location:  San Francisco, California  off by:  0.7807843137254893 %\n",
      "Location:  San Francisco, California  off by:  1.0986024844720501 %\n",
      "Location:  Irvine, California  off by:  1.3833333333333342 %\n",
      "Location:  Riverside, California  off by:  0.7308593750000014 %\n",
      "Location:  Irvine, California  off by:  0.6069358178053834 %\n",
      "Location:  Irvine, California  off by:  0.7858072916666656 %\n",
      "Location:  Irvine, California  off by:  0.6069358178053834 %\n",
      "Location:  Irvine, California  off by:  0.6069358178053834 %\n",
      "Location:  Los Angeles, California  off by:  0.9725260416666686 %\n",
      "Location:  Irvine, California  off by:  0.6069358178053834 %\n",
      "Location:  Irvine, California  off by:  0.2891176470588226 %\n",
      "Location:  Los Angeles, California  off by:  1.1513975155279508 %\n",
      "Location:  San Diego, California  off by:  0.10693581780538342 %\n",
      "Location:  Riverside, California  off by:  0.7308593750000014 %\n",
      "Location:  San Francisco, California  off by:  1.0986024844720501 %\n",
      "Location:  Irvine, California  off by:  0.7858072916666656 %\n",
      "Location:  San Diego, California  off by:  0.2108823529411774 %\n",
      "Location:  Irvine, California  off by:  0.7858072916666656 %\n",
      "Location:  San Francisco, California  off by:  1.0986024844720501 %\n",
      "Location:  Irvine, California  off by:  0.7858072916666656 %\n"
     ]
    }
   ],
   "source": [
    "for i in range(0, len(y_test)):\n",
    "    if(df_temp[i] == \"San Francisco, California\"):\n",
    "        san_francisco_err = san_francisco_err + abs(Y_predict[i] - y_test[i])\n",
    "    if(df_temp[i] == \"San Diego, California\"):\n",
    "        san_diego_err = san_diego_err + abs(Y_predict[i] - y_test[i])\n",
    "    if(df_temp[i] == \"Riverside, California\"):\n",
    "        riverside_err = riverside_err + abs(Y_predict[i] - y_test[i])\n",
    "    if(df_temp[i] == \"Irvine, California\"):\n",
    "        irvine_err = irvine_err + abs(Y_predict[i] - y_test[i])\n",
    "    if(df_temp[i] == \"Los Angeles, California\"):\n",
    "        los_angeles_err = los_angeles_err + abs(Y_predict[i] - y_test[i])\n",
    "    print(\"Location: \", df_temp[i], \" off by: \", abs(Y_predict[i] - y_test[i]), \"%\")"
   ]
  },
  {
   "cell_type": "code",
   "execution_count": 79,
   "metadata": {},
   "outputs": [
    {
     "data": {
      "text/plain": [
       "<matplotlib.axes._subplots.AxesSubplot at 0x7fc20c9e1f28>"
      ]
     },
     "execution_count": 79,
     "metadata": {},
     "output_type": "execute_result"
    },
    {
     "data": {
      "image/png": "[encoded data removed]",
      "text/plain": [
       "<Figure size 432x288 with 1 Axes>"
      ]
     },
     "metadata": {
      "needs_background": "light"
     },
     "output_type": "display_data"
    }
   ],
   "source": [
    "df_errs = pd.DataFrame({'Cities':['Riverside', 'Los Angeles', 'San Diego', 'San Francisco', 'Irvine'], \n",
    "                        'error rate':[riverside_err/len(y_test), los_angeles_err/len(y_test), san_diego_err/len(y_test), san_francisco_err/len(y_test),\n",
    "                              irvine_err/len(y_test)]})\n",
    "df_errs.plot.bar(x='Cities', y='error rate', rot=0)"
   ]
  },
  {
   "cell_type": "code",
   "execution_count": 83,
   "metadata": {},
   "outputs": [],
   "source": [
    "from sklearn import tree\n",
    "#tree.export_graphviz(regr_2)\n",
    "dotfile = open(\"dtree.dot\", 'w')\n",
    "tree.export_graphviz(regr_2, out_file = dotfile, feature_names = X_train.columns)\n",
    "dotfile.close()\n",
    "\n",
    "#created decision Tree"
   ]
  },
  {
   "cell_type": "markdown",
   "metadata": {},
   "source": [
    "## Summary"
   ]
  },
  {
   "cell_type": "markdown",
   "metadata": {},
   "source": []
  }
 ],
 "metadata": {
  "kernelspec": {
   "display_name": "Python 3",
   "language": "python",
   "name": "python3"
  },
  "language_info": {
   "codemirror_mode": {
    "name": "ipython",
    "version": 3
   },
   "file_extension": ".py",
   "mimetype": "text/x-python",
   "name": "python",
   "nbconvert_exporter": "python",
   "pygments_lexer": "ipython3",
   "version": "3.6.8"
  }
 },
 "nbformat": 4,
 "nbformat_minor": 4
}
