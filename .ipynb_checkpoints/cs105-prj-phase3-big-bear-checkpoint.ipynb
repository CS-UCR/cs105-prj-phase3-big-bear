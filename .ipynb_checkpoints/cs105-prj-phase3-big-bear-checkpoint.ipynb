{
 "cells": [
  {
   "cell_type": "markdown",
   "metadata": {},
   "source": [
    "# Welcome to Phase 3:\n",
    "## Where we take our data and find useful conclusions\n",
    "\n",
    "### I define my hypotheses first as:\n",
    "### 1. Can we classify a specific person's city's uneployment rate given a random profile statistic (Riverside/Los Angeles vs Irvine/San Francisco)?\n",
    "### 2. Can we rely on Page Rank (our scraping method) and our algorithm to predict average unemployment rate of a given city?"
   ]
  },
  {
   "cell_type": "markdown",
   "metadata": {},
   "source": [
    "First let's figure out how to instantiate our machine learning problem. Let's append our data on unemployment rates as a column to our dataframe. This is a multi-level process that involves associating the right unemployment rate to the correct city. "
   ]
  },
  {
   "cell_type": "code",
   "execution_count": 227,
   "metadata": {},
   "outputs": [
    {
     "data": {
      "text/html": [
       "<div>\n",
       "<style scoped>\n",
       "    .dataframe tbody tr th:only-of-type {\n",
       "        vertical-align: middle;\n",
       "    }\n",
       "\n",
       "    .dataframe tbody tr th {\n",
       "        vertical-align: top;\n",
       "    }\n",
       "\n",
       "    .dataframe thead th {\n",
       "        text-align: right;\n",
       "    }\n",
       "</style>\n",
       "<table border=\"1\" class=\"dataframe\">\n",
       "  <thead>\n",
       "    <tr style=\"text-align: right;\">\n",
       "      <th></th>\n",
       "      <th>name</th>\n",
       "      <th>followers</th>\n",
       "      <th>location</th>\n",
       "      <th>experience_count</th>\n",
       "      <th>education_count</th>\n",
       "      <th>url</th>\n",
       "    </tr>\n",
       "  </thead>\n",
       "  <tbody>\n",
       "    <tr>\n",
       "      <th>0</th>\n",
       "      <td>Mark East</td>\n",
       "      <td>500.0000</td>\n",
       "      <td>San Diego, California</td>\n",
       "      <td>5.000000</td>\n",
       "      <td>2.000000</td>\n",
       "      <td>https://www.linkedin.com/in/meast1</td>\n",
       "    </tr>\n",
       "    <tr>\n",
       "      <th>1</th>\n",
       "      <td>John Gibson</td>\n",
       "      <td>500.0000</td>\n",
       "      <td>San Diego, California</td>\n",
       "      <td>3.316456</td>\n",
       "      <td>1.655556</td>\n",
       "      <td>https://www.linkedin.com/in/johngibsonjr</td>\n",
       "    </tr>\n",
       "    <tr>\n",
       "      <th>2</th>\n",
       "      <td>Ruiqi Zhou</td>\n",
       "      <td>79.0000</td>\n",
       "      <td>San Diego, California</td>\n",
       "      <td>5.000000</td>\n",
       "      <td>1.000000</td>\n",
       "      <td>https://www.linkedin.com/in/ruiqiz</td>\n",
       "    </tr>\n",
       "    <tr>\n",
       "      <th>3</th>\n",
       "      <td>Marcella Reyes</td>\n",
       "      <td>27.0000</td>\n",
       "      <td>San Diego, California</td>\n",
       "      <td>5.000000</td>\n",
       "      <td>2.000000</td>\n",
       "      <td>https://www.linkedin.com/in/mareyes89</td>\n",
       "    </tr>\n",
       "    <tr>\n",
       "      <th>4</th>\n",
       "      <td>Murray Warren</td>\n",
       "      <td>140.0000</td>\n",
       "      <td>San Diego, California</td>\n",
       "      <td>3.000000</td>\n",
       "      <td>2.000000</td>\n",
       "      <td>https://www.linkedin.com/in/murray-warren-9567...</td>\n",
       "    </tr>\n",
       "    <tr>\n",
       "      <th>...</th>\n",
       "      <td>...</td>\n",
       "      <td>...</td>\n",
       "      <td>...</td>\n",
       "      <td>...</td>\n",
       "      <td>...</td>\n",
       "      <td>...</td>\n",
       "    </tr>\n",
       "    <tr>\n",
       "      <th>503</th>\n",
       "      <td>Zoe Holeman</td>\n",
       "      <td>121.0375</td>\n",
       "      <td>Riverside, California</td>\n",
       "      <td>0.000000</td>\n",
       "      <td>1.000000</td>\n",
       "      <td>https://www.linkedin.com/in/zoe-holeman-717988139</td>\n",
       "    </tr>\n",
       "    <tr>\n",
       "      <th>504</th>\n",
       "      <td>Yun Ou</td>\n",
       "      <td>121.0375</td>\n",
       "      <td>Riverside, California</td>\n",
       "      <td>0.000000</td>\n",
       "      <td>1.000000</td>\n",
       "      <td>https://www.linkedin.com/in/yun-ou-479b37153</td>\n",
       "    </tr>\n",
       "    <tr>\n",
       "      <th>505</th>\n",
       "      <td>Daniel Scott</td>\n",
       "      <td>86.0000</td>\n",
       "      <td>Riverside, California</td>\n",
       "      <td>5.000000</td>\n",
       "      <td>1.000000</td>\n",
       "      <td>https://www.linkedin.com/in/daniel-scott-69230a35</td>\n",
       "    </tr>\n",
       "    <tr>\n",
       "      <th>506</th>\n",
       "      <td>Tammy Evans</td>\n",
       "      <td>118.0000</td>\n",
       "      <td>Riverside, California</td>\n",
       "      <td>1.000000</td>\n",
       "      <td>1.000000</td>\n",
       "      <td>https://www.linkedin.com/in/tammy-evans-53806b80</td>\n",
       "    </tr>\n",
       "    <tr>\n",
       "      <th>507</th>\n",
       "      <td>Sarah Hasheem</td>\n",
       "      <td>121.0375</td>\n",
       "      <td>Riverside, California</td>\n",
       "      <td>0.000000</td>\n",
       "      <td>1.000000</td>\n",
       "      <td>https://www.linkedin.com/in/sarah-hasheem-79ab...</td>\n",
       "    </tr>\n",
       "  </tbody>\n",
       "</table>\n",
       "<p>508 rows × 6 columns</p>\n",
       "</div>"
      ],
      "text/plain": [
       "               name  followers               location  experience_count  \\\n",
       "0         Mark East   500.0000  San Diego, California          5.000000   \n",
       "1       John Gibson   500.0000  San Diego, California          3.316456   \n",
       "2        Ruiqi Zhou    79.0000  San Diego, California          5.000000   \n",
       "3    Marcella Reyes    27.0000  San Diego, California          5.000000   \n",
       "4     Murray Warren   140.0000  San Diego, California          3.000000   \n",
       "..              ...        ...                    ...               ...   \n",
       "503     Zoe Holeman   121.0375  Riverside, California          0.000000   \n",
       "504          Yun Ou   121.0375  Riverside, California          0.000000   \n",
       "505    Daniel Scott    86.0000  Riverside, California          5.000000   \n",
       "506     Tammy Evans   118.0000  Riverside, California          1.000000   \n",
       "507   Sarah Hasheem   121.0375  Riverside, California          0.000000   \n",
       "\n",
       "     education_count                                                url  \n",
       "0           2.000000                 https://www.linkedin.com/in/meast1  \n",
       "1           1.655556           https://www.linkedin.com/in/johngibsonjr  \n",
       "2           1.000000                 https://www.linkedin.com/in/ruiqiz  \n",
       "3           2.000000              https://www.linkedin.com/in/mareyes89  \n",
       "4           2.000000  https://www.linkedin.com/in/murray-warren-9567...  \n",
       "..               ...                                                ...  \n",
       "503         1.000000  https://www.linkedin.com/in/zoe-holeman-717988139  \n",
       "504         1.000000       https://www.linkedin.com/in/yun-ou-479b37153  \n",
       "505         1.000000  https://www.linkedin.com/in/daniel-scott-69230a35  \n",
       "506         1.000000   https://www.linkedin.com/in/tammy-evans-53806b80  \n",
       "507         1.000000  https://www.linkedin.com/in/sarah-hasheem-79ab...  \n",
       "\n",
       "[508 rows x 6 columns]"
      ]
     },
     "execution_count": 227,
     "metadata": {},
     "output_type": "execute_result"
    }
   ],
   "source": [
    "import pandas as pd\n",
    "\n",
    "df = pd.read_csv('profiles_california.csv')\n",
    "df_irvine_UR = pd.read_csv('unemployment_irvine.csv')\n",
    "df_los_angeles_UR = pd.read_csv('unemployment_los_angeles.csv')\n",
    "df_riverside_UR = pd.read_csv('unemployment_riverside.csv')\n",
    "df_san_diego_UR = pd.read_csv('unemployment_san_diego.csv')\n",
    "df_san_francisco_UR = pd.read_csv('unemployment_san_francisco.csv')\n",
    "df"
   ]
  },
  {
   "cell_type": "code",
   "execution_count": 228,
   "metadata": {},
   "outputs": [
    {
     "name": "stdout",
     "output_type": "stream",
     "text": [
      "Irvine unemployment avg:  2.683333333333333\n",
      "Los Angeles unemployment avg:  4.441666666666667\n",
      "Riverside unemployment avg:  4.2\n",
      "San Diego unemployment avg:  3.183333333333333\n",
      "San Francisco unemployment avg:  2.1916666666666664\n"
     ]
    }
   ],
   "source": [
    "\n",
    "df['unemployment_rate_2017'] = 0\n",
    "df['unemployment_rate_2018'] = 0\n",
    "df['unemployment_rate_2019'] = 0\n",
    "#setting unemployment for Irvine\n",
    "unemployment_2017_avg = df_irvine_UR.loc[(df_irvine_UR['Year'] == 2017), 'Value'].mean()\n",
    "df.loc[(df['location'] == 'Irvine, California'), 'unemployment_rate_2017'] = unemployment_2017_avg\n",
    "unemployment_2018_avg = df_irvine_UR.loc[(df_irvine_UR['Year'] == 2018), 'Value'].mean()\n",
    "df.loc[(df['location'] == 'Irvine, California'), 'unemployment_rate_2018'] = unemployment_2018_avg\n",
    "unemployment_2019_avg = df_irvine_UR.loc[(df_irvine_UR['Year'] == 2019), 'Value'].mean()\n",
    "df.loc[(df['location'] == 'Irvine, California'), 'unemployment_rate_2019'] = unemployment_2019_avg\n",
    "print(\"Irvine unemployment avg: \", unemployment_2019_avg)\n",
    "#setting unemployment for Los Angeles\n",
    "unemployment_2017_avg = df_los_angeles_UR.loc[(df_los_angeles_UR['Year'] == 2017), 'Value'].mean()\n",
    "df.loc[(df['location'] == 'Los Angeles, California'), 'unemployment_rate_2017'] = unemployment_2017_avg\n",
    "unemployment_2018_avg = df_los_angeles_UR.loc[(df_los_angeles_UR['Year'] == 2018), 'Value'].mean()\n",
    "df.loc[(df['location'] == 'Los Angeles, California'), 'unemployment_rate_2018'] = unemployment_2018_avg\n",
    "unemployment_2019_avg = df_los_angeles_UR.loc[(df_los_angeles_UR['Year'] == 2019), 'Value'].mean()\n",
    "df.loc[(df['location'] == 'Los Angeles, California'), 'unemployment_rate_2019'] = unemployment_2019_avg\n",
    "print(\"Los Angeles unemployment avg: \", unemployment_2019_avg)\n",
    "#setting unemployment for Riverside\n",
    "unemployment_2017_avg = df_riverside_UR.loc[(df_riverside_UR['Year'] == 2017), 'Value'].mean()\n",
    "df.loc[(df['location'] == 'Riverside, California'), 'unemployment_rate_2017'] = unemployment_2017_avg\n",
    "unemployment_2018_avg = df_riverside_UR.loc[(df_riverside_UR['Year'] == 2018), 'Value'].mean()\n",
    "df.loc[(df['location'] == 'Riverside, California'), 'unemployment_rate_2018'] = unemployment_2018_avg\n",
    "unemployment_2019_avg = df_riverside_UR.loc[(df_riverside_UR['Year'] == 2019), 'Value'].mean()\n",
    "df.loc[(df['location'] == 'Riverside, California'), 'unemployment_rate_2019'] = unemployment_2019_avg\n",
    "print(\"Riverside unemployment avg: \", unemployment_2019_avg)\n",
    "#setting unemployment rate for San Diego\n",
    "unemployment_2017_avg = df_san_diego_UR.loc[(df_san_diego_UR['Year'] == 2017), 'Value'].mean()\n",
    "df.loc[(df['location'] == 'San Diego, California'), 'unemployment_rate_2017'] = unemployment_2017_avg\n",
    "unemployment_2018_avg = df_san_diego_UR.loc[(df_san_diego_UR['Year'] == 2018), 'Value'].mean()\n",
    "df.loc[(df['location'] == 'San Diego, California'), 'unemployment_rate_2018'] = unemployment_2018_avg\n",
    "unemployment_2019_avg = df_san_diego_UR.loc[(df_san_diego_UR['Year'] == 2019), 'Value'].mean()\n",
    "df.loc[(df['location'] == 'San Diego, California'), 'unemployment_rate_2019'] = unemployment_2019_avg\n",
    "print(\"San Diego unemployment avg: \", unemployment_2019_avg)\n",
    "#setting unemployment rate for San Francisco\n",
    "unemployment_2017_avg = df_san_francisco_UR.loc[(df_san_francisco_UR['Year'] == 2017), 'Value'].mean()\n",
    "df.loc[(df['location'] == 'San Francisco, California'), 'unemployment_rate_2017'] = unemployment_2017_avg\n",
    "unemployment_2018_avg = df_san_francisco_UR.loc[(df_san_francisco_UR['Year'] == 2018), 'Value'].mean()\n",
    "df.loc[(df['location'] == 'San Francisco, California'), 'unemployment_rate_2018'] = unemployment_2018_avg\n",
    "unemployment_2019_avg = df_san_francisco_UR.loc[(df_san_francisco_UR['Year'] == 2019), 'Value'].mean()\n",
    "df.loc[(df['location'] == 'San Francisco, California'), 'unemployment_rate_2019'] = unemployment_2019_avg\n",
    "print(\"San Francisco unemployment avg: \", unemployment_2019_avg)"
   ]
  },
  {
   "cell_type": "code",
   "execution_count": 229,
   "metadata": {},
   "outputs": [
    {
     "data": {
      "text/plain": [
       "2.191667    107\n",
       "2.683333    100\n",
       "3.183333    100\n",
       "4.200000    100\n",
       "4.441667    100\n",
       "0.000000      1\n",
       "Name: unemployment_rate_2019, dtype: int64"
      ]
     },
     "execution_count": 229,
     "metadata": {},
     "output_type": "execute_result"
    }
   ],
   "source": [
    "df.unemployment_rate_2019.value_counts()"
   ]
  },
  {
   "cell_type": "code",
   "execution_count": 230,
   "metadata": {},
   "outputs": [
    {
     "data": {
      "text/html": [
       "<div>\n",
       "<style scoped>\n",
       "    .dataframe tbody tr th:only-of-type {\n",
       "        vertical-align: middle;\n",
       "    }\n",
       "\n",
       "    .dataframe tbody tr th {\n",
       "        vertical-align: top;\n",
       "    }\n",
       "\n",
       "    .dataframe thead th {\n",
       "        text-align: right;\n",
       "    }\n",
       "</style>\n",
       "<table border=\"1\" class=\"dataframe\">\n",
       "  <thead>\n",
       "    <tr style=\"text-align: right;\">\n",
       "      <th></th>\n",
       "      <th>name</th>\n",
       "      <th>followers</th>\n",
       "      <th>location</th>\n",
       "      <th>experience_count</th>\n",
       "      <th>education_count</th>\n",
       "      <th>url</th>\n",
       "      <th>unemployment_rate_2017</th>\n",
       "      <th>unemployment_rate_2018</th>\n",
       "      <th>unemployment_rate_2019</th>\n",
       "    </tr>\n",
       "  </thead>\n",
       "  <tbody>\n",
       "    <tr>\n",
       "      <th>461</th>\n",
       "      <td>NaN</td>\n",
       "      <td>NaN</td>\n",
       "      <td>NaN</td>\n",
       "      <td>0.0</td>\n",
       "      <td>0.0</td>\n",
       "      <td>https://www.linkedin.com/in/robert-vangrin-4b2...</td>\n",
       "      <td>0.0</td>\n",
       "      <td>0.0</td>\n",
       "      <td>0.0</td>\n",
       "    </tr>\n",
       "  </tbody>\n",
       "</table>\n",
       "</div>"
      ],
      "text/plain": [
       "    name  followers location  experience_count  education_count  \\\n",
       "461  NaN        NaN      NaN               0.0              0.0   \n",
       "\n",
       "                                                   url  \\\n",
       "461  https://www.linkedin.com/in/robert-vangrin-4b2...   \n",
       "\n",
       "     unemployment_rate_2017  unemployment_rate_2018  unemployment_rate_2019  \n",
       "461                     0.0                     0.0                     0.0  "
      ]
     },
     "execution_count": 230,
     "metadata": {},
     "output_type": "execute_result"
    }
   ],
   "source": [
    "df.loc[df['unemployment_rate_2019'] == 0]"
   ]
  },
  {
   "cell_type": "code",
   "execution_count": 231,
   "metadata": {},
   "outputs": [
    {
     "data": {
      "text/html": [
       "<div>\n",
       "<style scoped>\n",
       "    .dataframe tbody tr th:only-of-type {\n",
       "        vertical-align: middle;\n",
       "    }\n",
       "\n",
       "    .dataframe tbody tr th {\n",
       "        vertical-align: top;\n",
       "    }\n",
       "\n",
       "    .dataframe thead th {\n",
       "        text-align: right;\n",
       "    }\n",
       "</style>\n",
       "<table border=\"1\" class=\"dataframe\">\n",
       "  <thead>\n",
       "    <tr style=\"text-align: right;\">\n",
       "      <th></th>\n",
       "      <th>name</th>\n",
       "      <th>followers</th>\n",
       "      <th>location</th>\n",
       "      <th>experience_count</th>\n",
       "      <th>education_count</th>\n",
       "      <th>url</th>\n",
       "      <th>unemployment_rate_2017</th>\n",
       "      <th>unemployment_rate_2018</th>\n",
       "      <th>unemployment_rate_2019</th>\n",
       "    </tr>\n",
       "  </thead>\n",
       "  <tbody>\n",
       "    <tr>\n",
       "      <th>0</th>\n",
       "      <td>Mark East</td>\n",
       "      <td>500.0000</td>\n",
       "      <td>San Diego, California</td>\n",
       "      <td>5.000000</td>\n",
       "      <td>2.000000</td>\n",
       "      <td>https://www.linkedin.com/in/meast1</td>\n",
       "      <td>4.016667</td>\n",
       "      <td>3.300000</td>\n",
       "      <td>3.183333</td>\n",
       "    </tr>\n",
       "    <tr>\n",
       "      <th>1</th>\n",
       "      <td>John Gibson</td>\n",
       "      <td>500.0000</td>\n",
       "      <td>San Diego, California</td>\n",
       "      <td>3.316456</td>\n",
       "      <td>1.655556</td>\n",
       "      <td>https://www.linkedin.com/in/johngibsonjr</td>\n",
       "      <td>4.016667</td>\n",
       "      <td>3.300000</td>\n",
       "      <td>3.183333</td>\n",
       "    </tr>\n",
       "    <tr>\n",
       "      <th>2</th>\n",
       "      <td>Ruiqi Zhou</td>\n",
       "      <td>79.0000</td>\n",
       "      <td>San Diego, California</td>\n",
       "      <td>5.000000</td>\n",
       "      <td>1.000000</td>\n",
       "      <td>https://www.linkedin.com/in/ruiqiz</td>\n",
       "      <td>4.016667</td>\n",
       "      <td>3.300000</td>\n",
       "      <td>3.183333</td>\n",
       "    </tr>\n",
       "    <tr>\n",
       "      <th>3</th>\n",
       "      <td>Marcella Reyes</td>\n",
       "      <td>27.0000</td>\n",
       "      <td>San Diego, California</td>\n",
       "      <td>5.000000</td>\n",
       "      <td>2.000000</td>\n",
       "      <td>https://www.linkedin.com/in/mareyes89</td>\n",
       "      <td>4.016667</td>\n",
       "      <td>3.300000</td>\n",
       "      <td>3.183333</td>\n",
       "    </tr>\n",
       "    <tr>\n",
       "      <th>4</th>\n",
       "      <td>Murray Warren</td>\n",
       "      <td>140.0000</td>\n",
       "      <td>San Diego, California</td>\n",
       "      <td>3.000000</td>\n",
       "      <td>2.000000</td>\n",
       "      <td>https://www.linkedin.com/in/murray-warren-9567...</td>\n",
       "      <td>4.016667</td>\n",
       "      <td>3.300000</td>\n",
       "      <td>3.183333</td>\n",
       "    </tr>\n",
       "    <tr>\n",
       "      <th>...</th>\n",
       "      <td>...</td>\n",
       "      <td>...</td>\n",
       "      <td>...</td>\n",
       "      <td>...</td>\n",
       "      <td>...</td>\n",
       "      <td>...</td>\n",
       "      <td>...</td>\n",
       "      <td>...</td>\n",
       "      <td>...</td>\n",
       "    </tr>\n",
       "    <tr>\n",
       "      <th>503</th>\n",
       "      <td>Zoe Holeman</td>\n",
       "      <td>121.0375</td>\n",
       "      <td>Riverside, California</td>\n",
       "      <td>0.000000</td>\n",
       "      <td>1.000000</td>\n",
       "      <td>https://www.linkedin.com/in/zoe-holeman-717988139</td>\n",
       "      <td>5.241667</td>\n",
       "      <td>4.383333</td>\n",
       "      <td>4.200000</td>\n",
       "    </tr>\n",
       "    <tr>\n",
       "      <th>504</th>\n",
       "      <td>Yun Ou</td>\n",
       "      <td>121.0375</td>\n",
       "      <td>Riverside, California</td>\n",
       "      <td>0.000000</td>\n",
       "      <td>1.000000</td>\n",
       "      <td>https://www.linkedin.com/in/yun-ou-479b37153</td>\n",
       "      <td>5.241667</td>\n",
       "      <td>4.383333</td>\n",
       "      <td>4.200000</td>\n",
       "    </tr>\n",
       "    <tr>\n",
       "      <th>505</th>\n",
       "      <td>Daniel Scott</td>\n",
       "      <td>86.0000</td>\n",
       "      <td>Riverside, California</td>\n",
       "      <td>5.000000</td>\n",
       "      <td>1.000000</td>\n",
       "      <td>https://www.linkedin.com/in/daniel-scott-69230a35</td>\n",
       "      <td>5.241667</td>\n",
       "      <td>4.383333</td>\n",
       "      <td>4.200000</td>\n",
       "    </tr>\n",
       "    <tr>\n",
       "      <th>506</th>\n",
       "      <td>Tammy Evans</td>\n",
       "      <td>118.0000</td>\n",
       "      <td>Riverside, California</td>\n",
       "      <td>1.000000</td>\n",
       "      <td>1.000000</td>\n",
       "      <td>https://www.linkedin.com/in/tammy-evans-53806b80</td>\n",
       "      <td>5.241667</td>\n",
       "      <td>4.383333</td>\n",
       "      <td>4.200000</td>\n",
       "    </tr>\n",
       "    <tr>\n",
       "      <th>507</th>\n",
       "      <td>Sarah Hasheem</td>\n",
       "      <td>121.0375</td>\n",
       "      <td>Riverside, California</td>\n",
       "      <td>0.000000</td>\n",
       "      <td>1.000000</td>\n",
       "      <td>https://www.linkedin.com/in/sarah-hasheem-79ab...</td>\n",
       "      <td>5.241667</td>\n",
       "      <td>4.383333</td>\n",
       "      <td>4.200000</td>\n",
       "    </tr>\n",
       "  </tbody>\n",
       "</table>\n",
       "<p>507 rows × 9 columns</p>\n",
       "</div>"
      ],
      "text/plain": [
       "               name  followers               location  experience_count  \\\n",
       "0         Mark East   500.0000  San Diego, California          5.000000   \n",
       "1       John Gibson   500.0000  San Diego, California          3.316456   \n",
       "2        Ruiqi Zhou    79.0000  San Diego, California          5.000000   \n",
       "3    Marcella Reyes    27.0000  San Diego, California          5.000000   \n",
       "4     Murray Warren   140.0000  San Diego, California          3.000000   \n",
       "..              ...        ...                    ...               ...   \n",
       "503     Zoe Holeman   121.0375  Riverside, California          0.000000   \n",
       "504          Yun Ou   121.0375  Riverside, California          0.000000   \n",
       "505    Daniel Scott    86.0000  Riverside, California          5.000000   \n",
       "506     Tammy Evans   118.0000  Riverside, California          1.000000   \n",
       "507   Sarah Hasheem   121.0375  Riverside, California          0.000000   \n",
       "\n",
       "     education_count                                                url  \\\n",
       "0           2.000000                 https://www.linkedin.com/in/meast1   \n",
       "1           1.655556           https://www.linkedin.com/in/johngibsonjr   \n",
       "2           1.000000                 https://www.linkedin.com/in/ruiqiz   \n",
       "3           2.000000              https://www.linkedin.com/in/mareyes89   \n",
       "4           2.000000  https://www.linkedin.com/in/murray-warren-9567...   \n",
       "..               ...                                                ...   \n",
       "503         1.000000  https://www.linkedin.com/in/zoe-holeman-717988139   \n",
       "504         1.000000       https://www.linkedin.com/in/yun-ou-479b37153   \n",
       "505         1.000000  https://www.linkedin.com/in/daniel-scott-69230a35   \n",
       "506         1.000000   https://www.linkedin.com/in/tammy-evans-53806b80   \n",
       "507         1.000000  https://www.linkedin.com/in/sarah-hasheem-79ab...   \n",
       "\n",
       "     unemployment_rate_2017  unemployment_rate_2018  unemployment_rate_2019  \n",
       "0                  4.016667                3.300000                3.183333  \n",
       "1                  4.016667                3.300000                3.183333  \n",
       "2                  4.016667                3.300000                3.183333  \n",
       "3                  4.016667                3.300000                3.183333  \n",
       "4                  4.016667                3.300000                3.183333  \n",
       "..                      ...                     ...                     ...  \n",
       "503                5.241667                4.383333                4.200000  \n",
       "504                5.241667                4.383333                4.200000  \n",
       "505                5.241667                4.383333                4.200000  \n",
       "506                5.241667                4.383333                4.200000  \n",
       "507                5.241667                4.383333                4.200000  \n",
       "\n",
       "[507 rows x 9 columns]"
      ]
     },
     "execution_count": 231,
     "metadata": {},
     "output_type": "execute_result"
    }
   ],
   "source": [
    "df.drop(df.index[461])"
   ]
  },
  {
   "cell_type": "markdown",
   "metadata": {},
   "source": [
    "df.unemployment_rate_2019.value_counts()"
   ]
  },
  {
   "cell_type": "code",
   "execution_count": 232,
   "metadata": {},
   "outputs": [
    {
     "data": {
      "text/plain": [
       "2.191667    107\n",
       "2.683333    100\n",
       "4.200000    100\n",
       "4.441667    100\n",
       "Name: unemployment_rate_2019, dtype: int64"
      ]
     },
     "execution_count": 232,
     "metadata": {},
     "output_type": "execute_result"
    }
   ],
   "source": [
    "df = df.drop(df.index[461])\n",
    "#take out San Diego\n",
    "df_hyp_2 = df.copy(deep=True)\n",
    "df = df.loc[df['location'] != 'San Diego, California']\n",
    "df = df.reset_index()\n",
    "df.unemployment_rate_2019.value_counts()"
   ]
  },
  {
   "cell_type": "markdown",
   "metadata": {},
   "source": []
  },
  {
   "cell_type": "markdown",
   "metadata": {},
   "source": [
    "First we must split train and test data. To achieve this, let's do an 80/20 split in order to maximize training. We should first shuffle our dataset"
   ]
  },
  {
   "cell_type": "code",
   "execution_count": 233,
   "metadata": {},
   "outputs": [
    {
     "name": "stdout",
     "output_type": "stream",
     "text": [
      "325.6\n"
     ]
    }
   ],
   "source": [
    "#Sampling Dataset\n",
    "df = df.sample(frac=1,)\n",
    "df = df.reset_index()\n",
    "\n",
    "cutoff = len(df) * 0.8\n",
    "#Creating train/test set\n",
    "df_train = df.iloc[:int(cutoff)].copy(deep = True)\n",
    "df_test = df.iloc[int(cutoff):].copy(deep = True)\n",
    "print(cutoff)\n",
    "#Setting Classification\n",
    "df_train.loc[(df_train['location'] == 'Los Angeles, California') | (df_train['location'] == 'Riverside, California'), 'unemployment_rate_2019'] = 0\n",
    "df_train.loc[(df_train['location'] == 'Irvine, California') | (df_train['location'] == 'San Francisco, California'), 'unemployment_rate_2019'] = 1\n",
    "df_test.loc[(df_test['location'] == 'Los Angeles, California') | (df_test['location'] == 'Riverside, California'), 'unemployment_rate_2019'] = 0\n",
    "df_test.loc[(df_test['location'] == 'Irvine, California') | (df_test['location'] == 'San Francisco, California'), 'unemployment_rate_2019'] = 1"
   ]
  },
  {
   "cell_type": "markdown",
   "metadata": {},
   "source": [
    "## Exploring Hypotheses 1 (Identifying Riverside/Los Angeles vs San Francisco/Irvine)"
   ]
  },
  {
   "cell_type": "code",
   "execution_count": 234,
   "metadata": {},
   "outputs": [
    {
     "name": "stdout",
     "output_type": "stream",
     "text": [
      "1.0    167\n",
      "0.0    158\n",
      "Name: unemployment_rate_2019, dtype: int64\n",
      "0.0    42\n",
      "1.0    40\n",
      "Name: unemployment_rate_2019, dtype: int64\n"
     ]
    }
   ],
   "source": [
    "print(df_train.unemployment_rate_2019.value_counts())\n",
    "print(df_test.unemployment_rate_2019.value_counts())"
   ]
  },
  {
   "cell_type": "code",
   "execution_count": 235,
   "metadata": {},
   "outputs": [],
   "source": [
    "X_train = df_train[['followers','experience_count','education_count']].copy(deep=True)\n",
    "X_test = df_test[['followers','experience_count','education_count']].copy(deep=True)\n",
    "y_train = df_train['unemployment_rate_2019'].copy(deep=True)\n",
    "y_test = df_test['unemployment_rate_2019'].copy(deep=True)"
   ]
  },
  {
   "cell_type": "markdown",
   "metadata": {},
   "source": [
    "Let's first figure out how a Neural Network works on this problem!"
   ]
  },
  {
   "cell_type": "code",
   "execution_count": 236,
   "metadata": {},
   "outputs": [
    {
     "name": "stderr",
     "output_type": "stream",
     "text": [
      "/home/csgrads/ngowd001/.local/lib/python3.6/site-packages/sklearn/neural_network/_multilayer_perceptron.py:470: ConvergenceWarning: lbfgs failed to converge (status=1):\n",
      "STOP: TOTAL NO. of ITERATIONS REACHED LIMIT.\n",
      "\n",
      "Increase the number of iterations (max_iter) or scale the data as shown in:\n",
      "    https://scikit-learn.org/stable/modules/preprocessing.html\n",
      "  self.n_iter_ = _check_optimize_result(\"lbfgs\", opt_res, self.max_iter)\n"
     ]
    }
   ],
   "source": [
    "from sklearn.neural_network import MLPClassifier\n",
    "import numpy as np\n",
    "import matplotlib.pyplot as plt\n",
    "\n",
    "from sklearn import svm, datasets\n",
    "from sklearn.model_selection import train_test_split\n",
    "from sklearn.metrics import plot_confusion_matrix\n",
    "model = MLPClassifier(solver='lbfgs', alpha=1e-5,\n",
    "                     hidden_layer_sizes=(5, 2), random_state=1)\n",
    "model.fit(X=X_train, y=y_train.ravel())\n",
    "Y_predict = model.predict(X=X_test)"
   ]
  },
  {
   "cell_type": "code",
   "execution_count": 237,
   "metadata": {},
   "outputs": [
    {
     "name": "stdout",
     "output_type": "stream",
     "text": [
      "[1. 1. 0. 1. 0. 0. 0. 1. 1. 0. 1. 1. 1. 0. 1. 0. 1. 1. 0. 1. 1. 1. 1. 1.\n",
      " 1. 1. 1. 1. 1. 1. 0. 0. 1. 1. 0. 0. 0. 0. 0. 0. 1. 0. 1. 0. 1. 0. 1. 1.\n",
      " 1. 1. 0. 0. 1. 0. 0. 1. 1. 1. 1. 1. 0. 1. 0. 1. 1. 1. 0. 1. 0. 0. 0. 0.\n",
      " 0. 0. 0. 0. 0. 0. 0. 1. 0. 0.]\n"
     ]
    }
   ],
   "source": [
    "print(Y_predict)"
   ]
  },
  {
   "cell_type": "markdown",
   "metadata": {},
   "source": [
    "Now that we have our predictions, let's figure out if we can now check our accuracy rate based on our test set"
   ]
  },
  {
   "cell_type": "code",
   "execution_count": 238,
   "metadata": {},
   "outputs": [],
   "source": [
    "y_test = y_test.ravel()"
   ]
  },
  {
   "cell_type": "code",
   "execution_count": 239,
   "metadata": {},
   "outputs": [
    {
     "name": "stdout",
     "output_type": "stream",
     "text": [
      "47\n",
      "0.573170731707317\n"
     ]
    }
   ],
   "source": [
    "correct = 0\n",
    "for x in range(0,82):\n",
    "    if(Y_predict[x] == y_test[x]):\n",
    "        correct = correct + 1\n",
    "print(correct)\n",
    "print(correct/82)\n",
    "neural_net_output = correct/82"
   ]
  },
  {
   "cell_type": "markdown",
   "metadata": {},
   "source": [
    "We get above 60% accuracy! Though this may be indicative of \"better than chance\" let's try a few more algorithms to see if we can properly differentiate between LinkedIn profiles. "
   ]
  },
  {
   "cell_type": "markdown",
   "metadata": {},
   "source": [
    "Let's now figure out how our data will run with different features. Let's simply go by connection count:"
   ]
  },
  {
   "cell_type": "code",
   "execution_count": 240,
   "metadata": {},
   "outputs": [
    {
     "name": "stdout",
     "output_type": "stream",
     "text": [
      "40\n",
      "0.4878048780487805\n"
     ]
    }
   ],
   "source": [
    "X_train = df_train[['followers']].copy(deep=True)\n",
    "X_test = df_test[['followers']].copy(deep=True)\n",
    "y_train = df_train['unemployment_rate_2019'].copy(deep=True)\n",
    "y_test = df_test['unemployment_rate_2019'].copy(deep=True)\n",
    "\n",
    "model = MLPClassifier(solver='lbfgs', alpha=1e-5,\n",
    "                     hidden_layer_sizes=(4, 2), random_state=1)\n",
    "model.fit(X=X_train, y=y_train.ravel())\n",
    "Y_predict = model.predict(X=X_test)\n",
    "y_test = y_test.ravel()\n",
    "correct = 0\n",
    "for x in range(0,82):\n",
    "    if(Y_predict[x] == y_test[x]):\n",
    "        correct = correct + 1\n",
    "print(correct)\n",
    "print(correct/82)\n",
    "neural_net_output = correct/82"
   ]
  },
  {
   "cell_type": "markdown",
   "metadata": {},
   "source": [
    "We have a similar value but we lose some accuracy!"
   ]
  },
  {
   "cell_type": "code",
   "execution_count": 241,
   "metadata": {},
   "outputs": [
    {
     "data": {
      "image/png": "[encoded data removed]",
      "text/plain": [
       "<Figure size 432x288 with 2 Axes>"
      ]
     },
     "metadata": {
      "needs_background": "light"
     },
     "output_type": "display_data"
    },
    {
     "data": {
      "image/png": "[encoded data removed]",
      "text/plain": [
       "<Figure size 432x288 with 2 Axes>"
      ]
     },
     "metadata": {
      "needs_background": "light"
     },
     "output_type": "display_data"
    }
   ],
   "source": [
    "titles_options = [(\"Confusion matrix, without normalization\", None),\n",
    "                  (\"Normalized confusion matrix\", 'true')]\n",
    "class_names = ['Irvine/San Francisco', 'Los Angeles/Riverside']\n",
    "for title, normalize in titles_options:\n",
    "    disp = plot_confusion_matrix(model, X_test, y_test,\n",
    "                                 display_labels=class_names,\n",
    "                                 cmap=plt.cm.Blues,\n",
    "                                 normalize=normalize)"
   ]
  },
  {
   "cell_type": "markdown",
   "metadata": {},
   "source": [
    "Before we move on, let's try out another algorithm. This time CatBoost's classification algorithm. Note: CatBoost should be installed (pip3 install --user catboost)"
   ]
  },
  {
   "cell_type": "code",
   "execution_count": 242,
   "metadata": {},
   "outputs": [
    {
     "name": "stdout",
     "output_type": "stream",
     "text": [
      "0:\tlearn: 0.6910328\ttotal: 3.45ms\tremaining: 65.6ms\n",
      "1:\tlearn: 0.6877247\ttotal: 5.18ms\tremaining: 46.6ms\n",
      "2:\tlearn: 0.6841230\ttotal: 7.35ms\tremaining: 41.7ms\n",
      "3:\tlearn: 0.6801336\ttotal: 9.26ms\tremaining: 37ms\n",
      "4:\tlearn: 0.6779686\ttotal: 11.2ms\tremaining: 33.6ms\n",
      "5:\tlearn: 0.6762598\ttotal: 13.2ms\tremaining: 30.7ms\n",
      "6:\tlearn: 0.6747919\ttotal: 15.1ms\tremaining: 28.1ms\n",
      "7:\tlearn: 0.6743826\ttotal: 17.1ms\tremaining: 25.6ms\n",
      "8:\tlearn: 0.6730271\ttotal: 18.9ms\tremaining: 23.1ms\n",
      "9:\tlearn: 0.6709702\ttotal: 20.4ms\tremaining: 20.4ms\n",
      "10:\tlearn: 0.6698936\ttotal: 23.4ms\tremaining: 19.1ms\n",
      "11:\tlearn: 0.6687936\ttotal: 24.6ms\tremaining: 16.4ms\n",
      "12:\tlearn: 0.6677876\ttotal: 26.3ms\tremaining: 14.2ms\n",
      "13:\tlearn: 0.6656980\ttotal: 28.2ms\tremaining: 12.1ms\n",
      "14:\tlearn: 0.6649108\ttotal: 29.7ms\tremaining: 9.91ms\n",
      "15:\tlearn: 0.6648746\ttotal: 31.4ms\tremaining: 7.86ms\n",
      "16:\tlearn: 0.6632279\ttotal: 33ms\tremaining: 5.83ms\n",
      "17:\tlearn: 0.6619068\ttotal: 34.8ms\tremaining: 3.87ms\n",
      "18:\tlearn: 0.6611801\ttotal: 36.6ms\tremaining: 1.93ms\n",
      "19:\tlearn: 0.6609826\ttotal: 38.4ms\tremaining: 0us\n",
      "50\n",
      "0.6097560975609756\n"
     ]
    }
   ],
   "source": [
    "from catboost import CatBoostClassifier\n",
    "import numpy as np\n",
    "\n",
    "X_train = df_train[['followers','experience_count','education_count']].copy(deep=True)\n",
    "X_test = df_test[['followers','experience_count','education_count']].copy(deep=True)\n",
    "y_train = df_train['unemployment_rate_2019'].copy(deep=True)\n",
    "y_test = df_test['unemployment_rate_2019'].copy(deep=True)\n",
    "\n",
    "# Initialize CatBoostClassifier\n",
    "model = CatBoostClassifier(iterations=20,\n",
    "                           learning_rate=0.1,\n",
    "                           depth=1)\n",
    "# Fit model\n",
    "model.fit(X_train, y_train)\n",
    "# Get predicted classes\n",
    "Y_predict = model.predict(X_test)\n",
    "\n",
    "y_test = y_test.ravel()\n",
    "correct = 0\n",
    "for x in range(0,82):\n",
    "    if(Y_predict[x] == y_test[x]):\n",
    "        correct = correct + 1\n",
    "print(correct)\n",
    "print(correct/82)\n",
    "neural_net_output = correct/82"
   ]
  },
  {
   "cell_type": "markdown",
   "metadata": {},
   "source": [
    "Using CatBoost we have 65% accuracy using relevant features on our test set!"
   ]
  },
  {
   "cell_type": "markdown",
   "metadata": {},
   "source": [
    "## Exploring Hyopetheses 2"
   ]
  },
  {
   "cell_type": "markdown",
   "metadata": {},
   "source": [
    "We cannot deny that our algorithm does not interact with Page Rank. In our crawling method we crawl LinkedIn profiles on google for a given city. This means we tend towards high-connection, high-experience, high-education, etc. profiles that have a lot of incoming links from reputable sources. In essence, we are capturing successful figures in a given city. The question now becomes can we use this reliance to estimate the cities unemployment rate? In other words, can we choose some k where k in our cause is the first 100 profiles seen, and using this to determine error rate. "
   ]
  },
  {
   "cell_type": "markdown",
   "metadata": {},
   "source": [
    "To set up our data properly, we will maintain our original features (excluding URL/Name) And try to do a regression prediction on a certain profile's city's unemployment rate"
   ]
  },
  {
   "cell_type": "code",
   "execution_count": 244,
   "metadata": {},
   "outputs": [
    {
     "name": "stdout",
     "output_type": "stream",
     "text": [
      "Location:  San Francisco, California  off by:  0.9114682496418514 %\n",
      "Location:  Riverside, California  off by:  0.6278432025280911 %\n",
      "Location:  Los Angeles, California  off by:  1.1354730901339476 %\n",
      "Location:  San Francisco, California  off by:  0.8805684136719099 %\n",
      "Location:  Riverside, California  off by:  0.8367978303226469 %\n",
      "Location:  Riverside, California  off by:  0.6767566576221906 %\n",
      "Location:  Riverside, California  off by:  0.7057978321957421 %\n",
      "Location:  Riverside, California  off by:  0.7114197812506808 %\n",
      "Location:  Riverside, California  off by:  0.624915815744512 %\n",
      "Location:  Los Angeles, California  off by:  1.3136677752135677 %\n",
      "Location:  Los Angeles, California  off by:  1.424461443713648 %\n",
      "Location:  Los Angeles, California  off by:  1.3814965970358988 %\n",
      "Location:  Irvine, California  off by:  0.6933572697105683 %\n",
      "Location:  San Francisco, California  off by:  0.8805684136719099 %\n",
      "Location:  San Diego, California  off by:  0.00102504706486517 %\n",
      "Location:  Los Angeles, California  off by:  1.3838497116688075 %\n",
      "Location:  Irvine, California  off by:  0.8735973385429916 %\n",
      "Location:  Los Angeles, California  off by:  0.7866688659514041 %\n",
      "Location:  Los Angeles, California  off by:  1.2979200183133095 %\n",
      "Location:  San Francisco, California  off by:  0.8255385562863529 %\n",
      "Location:  San Diego, California  off by:  0.12316326370256458 %\n",
      "Location:  Irvine, California  off by:  0.4496720847708322 %\n",
      "Location:  Los Angeles, California  off by:  1.353355468334473 %\n",
      "Location:  Riverside, California  off by:  1.1827947770469809 %\n",
      "Location:  Irvine, California  off by:  0.5901561063630201 %\n",
      "Location:  San Diego, California  off by:  0.348096407900397 %\n",
      "Location:  Irvine, California  off by:  0.9310527353370897 %\n",
      "Location:  San Diego, California  off by:  0.3938563090158125 %\n",
      "Location:  San Francisco, California  off by:  0.9114682496418514 %\n",
      "Location:  Riverside, California  off by:  0.7553267096937146 %\n",
      "Location:  San Francisco, California  off by:  1.1836202976481305 %\n",
      "Location:  Irvine, California  off by:  0.6581725103837495 %\n",
      "Location:  Riverside, California  off by:  0.7105040614615596 %\n",
      "Location:  Riverside, California  off by:  1.1398299303692316 %\n",
      "Location:  San Diego, California  off by:  0.18072452114862525 %\n",
      "Location:  San Diego, California  off by:  0.07038501547384568 %\n",
      "Location:  San Francisco, California  off by:  0.8685034029641021 %\n",
      "Location:  San Francisco, California  off by:  0.9114682496418514 %\n",
      "Location:  San Francisco, California  off by:  0.9091151350089426 %\n",
      "Location:  San Diego, California  off by:  0.16612811038031383 %\n",
      "Location:  San Diego, California  off by:  0.005959429822313567 %\n",
      "Location:  San Francisco, California  off by:  1.3904357112343457 %\n",
      "Location:  Riverside, California  off by:  0.8762198240629511 %\n",
      "Location:  Los Angeles, California  off by:  1.3385317503581495 %\n",
      "Location:  Irvine, California  off by:  0.7433403100338416 %\n",
      "Location:  Irvine, California  off by:  0.8460310888263409 %\n",
      "Location:  San Diego, California  off by:  0.2780898306230113 %\n",
      "Location:  Los Angeles, California  off by:  1.2596614009013778 %\n",
      "Location:  Los Angeles, California  off by:  1.2391811314718142 %\n",
      "Location:  San Francisco, California  off by:  1.2081839754074646 %\n",
      "Location:  San Francisco, California  off by:  0.8255385562863529 %\n",
      "Location:  Los Angeles, California  off by:  1.3814965970358988 %\n",
      "Location:  San Diego, California  off by:  0.348096407900397 %\n",
      "Location:  Los Angeles, California  off by:  0.9254415179343818 %\n",
      "Location:  San Diego, California  off by:  0.348096407900397 %\n",
      "Location:  Riverside, California  off by:  0.5443003799201844 %\n",
      "Location:  San Francisco, California  off by:  0.9520799816866914 %\n",
      "Location:  Irvine, California  off by:  0.8712442239100828 %\n",
      "Location:  Los Angeles, California  off by:  1.1827278514275164 %\n",
      "Location:  San Diego, California  off by:  0.3711504328108841 %\n",
      "Location:  Riverside, California  off by:  0.6278432025280911 %\n",
      "Location:  Irvine, California  off by:  0.5643763720729793 %\n",
      "Location:  Los Angeles, California  off by:  1.3385317503581495 %\n",
      "Location:  Irvine, California  off by:  0.7005293287961449 %\n",
      "Location:  San Diego, California  off by:  0.2557254020565334 %\n",
      "Location:  Irvine, California  off by:  0.7927342461794127 %\n",
      "Location:  San Francisco, California  off by:  0.8685034029641021 %\n",
      "Location:  San Francisco, California  off by:  0.8805684136719099 %\n",
      "Location:  San Diego, California  off by:  0.3628824658763077 %\n",
      "Location:  San Diego, California  off by:  0.348096407900397 %\n",
      "Location:  San Diego, California  off by:  0.4723662867464826 %\n",
      "Location:  Los Angeles, California  off by:  1.424461443713648 %\n",
      "Location:  San Francisco, California  off by:  0.8472949565874774 %\n",
      "Location:  Riverside, California  off by:  0.8198940912325354 %\n",
      "Location:  Los Angeles, California  off by:  1.353355468334473 %\n",
      "Location:  San Diego, California  off by:  0.12316326370256458 %\n",
      "Location:  San Diego, California  off by:  0.348096407900397 %\n",
      "Location:  Los Angeles, California  off by:  1.424461443713648 %\n",
      "Location:  San Diego, California  off by:  0.12316326370256458 %\n",
      "Location:  Riverside, California  off by:  0.706841099198745 %\n",
      "Location:  San Diego, California  off by:  0.13580808181727155 %\n",
      "Location:  Irvine, California  off by:  0.417388394001422 %\n",
      "Location:  Los Angeles, California  off by:  1.1584719045482879 %\n",
      "Location:  San Diego, California  off by:  0.12316326370256458 %\n",
      "Location:  Irvine, California  off by:  0.4150953537093671 %\n",
      "Location:  Los Angeles, California  off by:  1.353355468334473 %\n",
      "Location:  San Diego, California  off by:  0.23211120020100307 %\n",
      "Location:  Riverside, California  off by:  0.5552818332137717 %\n",
      "Location:  Irvine, California  off by:  0.6573768999199983 %\n",
      "Location:  San Diego, California  off by:  0.21526753545174548 %\n",
      "Location:  Riverside, California  off by:  0.552020392930261 %\n",
      "Location:  San Diego, California  off by:  0.22626121176587555 %\n",
      "Location:  Los Angeles, California  off by:  1.018843567760705 %\n",
      "Location:  San Diego, California  off by:  0.02195947931972997 %\n",
      "Location:  Riverside, California  off by:  0.8064056578659873 %\n",
      "Location:  Riverside, California  off by:  0.6254900878951823 %\n",
      "Location:  San Francisco, California  off by:  0.8685034029641021 %\n",
      "Location:  San Diego, California  off by:  0.002916565377616198 %\n",
      "Location:  Riverside, California  off by:  0.6048107107117437 %\n",
      "Location:  Los Angeles, California  off by:  0.8692959687701896 %\n",
      "Location:  Riverside, California  off by:  0.696313808730459 %\n",
      "Location:  Irvine, California  off by:  0.44000047910715123 %\n"
     ]
    }
   ],
   "source": [
    "#Sampling Dataset\n",
    "from sklearn.linear_model import LinearRegression\n",
    "df_hyp_2 = df_hyp_2.sample(frac=1,)\n",
    "df_hyp_2 = df_hyp_2.reset_index()\n",
    "cutoff = len(df_hyp_2) * 0.8\n",
    "#Creating train/test set\n",
    "df_hyp_2_train = df_hyp_2.iloc[:int(cutoff)].copy(deep = True)\n",
    "df_hyp_2_test = df_hyp_2.iloc[int(cutoff):].copy(deep = True)\n",
    "X_train = df_hyp_2_train[['followers','experience_count','education_count']].copy(deep=True)\n",
    "X_test = df_hyp_2_test[['followers','experience_count','education_count']].copy(deep=True)\n",
    "y_train = df_hyp_2_train['unemployment_rate_2019'].copy(deep=True)\n",
    "y_test = df_hyp_2_test['unemployment_rate_2019'].copy(deep=True)\n",
    "model  = LinearRegression()\n",
    "model.fit(X_train, y_train)\n",
    "Y_predict = model.predict(X_test)\n",
    "y_test = y_test.ravel()\n",
    "Y_predict = Y_predict\n",
    "y_test = y_test.ravel()\n",
    "df_temp = df_hyp_2_test['location'].ravel()\n",
    "for i in range(0, len(y_test)):\n",
    "    print(\"Location: \", df_temp[i], \" off by: \", abs(Y_predict[i] - y_test[i]), \"%\")"
   ]
  },
  {
   "cell_type": "code",
   "execution_count": null,
   "metadata": {},
   "outputs": [],
   "source": [
    "#TODO Create a 4th Classifier and Visualize"
   ]
  }
 ],
 "metadata": {
  "kernelspec": {
   "display_name": "Python 3",
   "language": "python",
   "name": "python3"
  },
  "language_info": {
   "codemirror_mode": {
    "name": "ipython",
    "version": 3
   },
   "file_extension": ".py",
   "mimetype": "text/x-python",
   "name": "python",
   "nbconvert_exporter": "python",
   "pygments_lexer": "ipython3",
   "version": "3.6.8"
  }
 },
 "nbformat": 4,
 "nbformat_minor": 4
}
